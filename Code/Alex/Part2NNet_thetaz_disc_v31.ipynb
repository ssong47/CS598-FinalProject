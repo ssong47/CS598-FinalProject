{
 "cells": [
  {
   "cell_type": "code",
   "execution_count": 1,
   "metadata": {},
   "outputs": [],
   "source": [
    "import numpy as np\n",
    "import matplotlib.pyplot as plt\n",
    "import math\n",
    "import pandas as pd\n",
    "from scipy import signal\n",
    "import pickle\n",
    "from sklearn.linear_model import LinearRegression\n",
    "from sklearn.preprocessing import StandardScaler,MaxAbsScaler, LabelBinarizer, OneHotEncoder\n",
    "from sklearn.svm import SVR\n",
    "import random\n",
    "import cv2\n",
    "from scipy import stats\n",
    "import os\n"
   ]
  },
  {
   "cell_type": "code",
   "execution_count": 2,
   "metadata": {},
   "outputs": [],
   "source": [
    "# Add tensorboard stuff\n",
    "# %load_ext tensorboard\n",
    "# import datetime\n",
    "\n",
    "# !rm -rf ./logs/\n"
   ]
  },
  {
   "cell_type": "code",
   "execution_count": 3,
   "metadata": {},
   "outputs": [],
   "source": [
    "#os.environ[\"CUDA_VISIBLE_DEVICES\"]=\"-1\" #use only cpu\n",
    "\n",
    "import tensorflow as tf\n",
    "physical_devices = tf.config.list_physical_devices('GPU') \n",
    "tf.config.experimental.set_memory_growth(physical_devices[0], True)"
   ]
  },
  {
   "cell_type": "markdown",
   "metadata": {},
   "source": [
    "# Read Depth Camera"
   ]
  },
  {
   "cell_type": "code",
   "execution_count": 4,
   "metadata": {},
   "outputs": [],
   "source": [
    "# For reading depth camera\n",
    "def read_depth_camera(dcamera_path, show_video, nw_resize=1, nh_resize=1):\n",
    "    video  = cv2.VideoCapture(dcamera_path)\n",
    "    ret, frame = video.read()\n",
    "    \n",
    "    # Get total # of frame count \n",
    "    frame_count = int(video.get(cv2.CAP_PROP_FRAME_COUNT))\n",
    "        \n",
    "    frame_height = int(frame.shape[0])\n",
    "    frame_width = int(frame.shape[1])\n",
    "\n",
    "    \n",
    "    depth_frames = np.empty((frame_count, int(frame_height/nh_resize), int(frame_width/nw_resize)))\n",
    "    depth_frames = np.empty((frame_count, int(frame_height/nh_resize), int(frame_width/nw_resize),3))\n",
    "    count = 0\n",
    "    while (video.isOpened()):\n",
    "        ret, frame = video.read()\n",
    "        \n",
    "        if ret == True:\n",
    "#             gray_frame = cv2.cvtColor(frame, cv2.COLOR_BGR2GRAY)\n",
    "#             gray_frame = frame/np.maximum(np.max(frame),255) keep as int8 for memory savings\n",
    "            gray_frame = frame\n",
    "            gray_frame = cv2.resize(gray_frame, \\\n",
    "                                    (int(frame_width/nw_resize), int(frame_height/nh_resize)),\\\n",
    "                                    interpolation = cv2.INTER_NEAREST)\n",
    "\n",
    "            depth_frames[count] = gray_frame\n",
    "            if show_video == True:\n",
    "                cv2.imshow(\"Depth\", gray_frame)\n",
    "                if cv2.waitKey(1) & 0xFF == ord('q'):\n",
    "                    break\n",
    "            count = count + 1\n",
    "        else: \n",
    "            break\n",
    "            \n",
    "\n",
    "    video.release()\n",
    "    #cv2.destroyAllWindows()\n",
    "    return depth_frames\n",
    "\n",
    "def read_output_data(qtm_file_data, theta):\n",
    "    if theta=='x':\n",
    "        qtm_data = pd.read_csv(qtm_file_data, usecols = [\"Lean Left/Right Angle (deg)\"])\n",
    "    if theta=='y':\n",
    "        qtm_data = pd.read_csv(qtm_file_data, usecols = [\"Lean Forward/Backwards Angle (deg)\"])\n",
    "    if theta=='z':\n",
    "        qtm_data = pd.read_csv(qtm_file_data, usecols = [\"Torso Twist Angle (deg)\"])\n",
    "        \n",
    "    \n",
    "    return qtm_data\n"
   ]
  },
  {
   "cell_type": "code",
   "execution_count": 5,
   "metadata": {},
   "outputs": [],
   "source": [
    "def play_video(read_frames):\n",
    "\n",
    "    for i in range(len(read_frames)):\n",
    "        # Capture frame-by-frame\n",
    "        frame = read_frames[i]\n",
    "\n",
    "        # Display the resulting frame\n",
    "        plt.imshow(frame)\n",
    "#         if cv2.waitKey(1) & 0xFF == ord('q'):\n",
    "#             break\n",
    "    #cv2.destroyAllWindows()\n",
    "\n",
    "    return"
   ]
  },
  {
   "cell_type": "code",
   "execution_count": 6,
   "metadata": {},
   "outputs": [],
   "source": [
    "def show_frame(read_frames, frame_range):\n",
    "      # Capture frame-by-frame\n",
    "\n",
    "    # Display the resulting frame\n",
    "    for i in frame_range:\n",
    "        fig = plt.figure(figsize=(6,6))        \n",
    "        a = plt.imshow(read_frames[i])\n",
    "        \n",
    "    return"
   ]
  },
  {
   "cell_type": "code",
   "execution_count": 7,
   "metadata": {},
   "outputs": [],
   "source": [
    "#fix this to concatenate everything\n",
    "# n_test = 24\n",
    "# date = '11_15_2020'\n",
    "# test_str = '/test' + str(n_test)\n",
    "# #data_dir = r\"C:\\Users\\77bis\\Box\\CS598 - Final Project\\Preliminary Data V4\\Test_Subject_Leo\" + test_str\n",
    "# data_dir = \"/home/asilador/CS598/CS598-FinalProject/Preliminary Data V4/Test_Subject_Leo\" + test_str\n",
    "# train_dcamera_path = data_dir + '/depth_processed_leo_test'+str(n_test)+'.avi'\n",
    "# show_video = 0\n",
    "# n_resize = 1\n",
    "# x_train = read_depth_camera(train_dcamera_path, show_video, nw_resize=2, nh_resize=3)\n",
    "\n",
    "n_test = (24,30,31,32,33,35)\n",
    "nw_resize = 2\n",
    "nh_resize = 2\n",
    "xtemp = {}\n",
    "show_video = 0\n",
    "\n",
    "subj = ['leo','leo','leo','leo','leo','leo']\n",
    "        \n",
    "for i in range(len(n_test)):\n",
    "    test_str = 'test' + str(n_test[i])\n",
    "    \n",
    "#     data_dir = os.path.join('/home/asilador/CS598/CS598-FinalProject/Preliminary Data V5','Test_Subject_'+subj[i],test_str)\n",
    "    data_dir = os.path.join(r'C:\\Users\\Alex\\Box\\CS598 - Final Project\\Preliminary Data V5','Test_Subject_'+subj[i],test_str)\n",
    "#     train_dcamera_path = data_dir + '/depth_processed_leo_test'+str(n_test[i])+'.avi'\n",
    "    train_dcamera_path = os.path.join(data_dir , 'depth_processed_'+subj[i]+'_test'+str(n_test[i])+'.avi')\n",
    "    xtemp[i] = read_depth_camera(train_dcamera_path, show_video, nw_resize=nw_resize, nh_resize=nh_resize).astype('uint8')\n",
    "    \n"
   ]
  },
  {
   "cell_type": "code",
   "execution_count": 8,
   "metadata": {},
   "outputs": [],
   "source": [
    "tlen=0\n",
    "for x in range(len(xtemp)):\n",
    "    tlen+= xtemp[x].shape[0]\n",
    "xrun_cum = 0\n",
    "x_train = np.zeros((tlen,xtemp[0].shape[1],xtemp[0].shape[2],xtemp[0].shape[3]),dtype='uint8')\n",
    "for i in range (len(xtemp)):\n",
    "    xrun_n = len(xtemp[i])\n",
    "    x_train[xrun_cum:xrun_cum+xrun_n,:,:,:] = xtemp[i][:xrun_n,:,:,:]\n",
    "    xrun_cum += xrun_n"
   ]
  },
  {
   "cell_type": "code",
   "execution_count": 9,
   "metadata": {},
   "outputs": [
    {
     "name": "stdout",
     "output_type": "stream",
     "text": [
      "(77849, 60, 80, 3)\n"
     ]
    }
   ],
   "source": [
    "print(x_train.shape)\n",
    "del xtemp"
   ]
  },
  {
   "cell_type": "markdown",
   "metadata": {},
   "source": []
  },
  {
   "cell_type": "markdown",
   "metadata": {},
   "source": [
    "# read fcss data"
   ]
  },
  {
   "cell_type": "code",
   "execution_count": 10,
   "metadata": {},
   "outputs": [],
   "source": [
    "\n",
    "n_test = (24,30,31,32,33,35)\n",
    "date = ('11_15_2020','11_24_2020','11_24_2020','11_25_2020','11_25_2020','11_25_2020')\n",
    "subj = ['leo','leo','leo','leo','leo','leo']\n",
    "subjwgt = [67, 67, 67, 67, 67, 67]\n",
    "subjht = [174, 174, 174, 174, 174, 174]\n",
    "xfcss_gt = {}\n",
    "yrun = 0\n",
    "for i in range(len(n_test)):\n",
    "    test_str = 'test' + str(n_test[i])\n",
    "#     data_dir = os.path.join('/home/asilador/CS598/CS598-FinalProject/Preliminary Data V5','Test_Subject_'+subj[i],test_str)\n",
    "    data_dir = os.path.join(r'C:\\Users\\Alex\\Box\\CS598 - Final Project\\Preliminary Data V5','Test_Subject_'+subj[i],test_str)\n",
    "    fcss_data_dir = os.path.join(data_dir , 'fcss_processed_'+subj[i]+'_' + test_str + '_' + date[i] + '.txt')\n",
    "    xfcss_gttemp = pd.read_csv(fcss_data_dir)/subjwgt[i]*subjht[i]**2\n",
    "    xfcss_gt[i]=xfcss_gttemp\n",
    "#     xfcss_gt[i]['weight'] = subjwgt[i]# hacky but will work for now\n",
    "#     xfcss_gt[i]['height'] = subjht[i]# hacky but will work for now\n",
    "    if i==0:\n",
    "        xfcss_train=xfcss_gttemp\n",
    "    else:\n",
    "        xfcss_train = pd.concat([xfcss_train,xfcss_gt[i]],axis=0)\n",
    "del xfcss_gt"
   ]
  },
  {
   "cell_type": "markdown",
   "metadata": {},
   "source": [
    "# Read Output Data\n"
   ]
  },
  {
   "cell_type": "code",
   "execution_count": 11,
   "metadata": {},
   "outputs": [],
   "source": [
    "\n",
    "n_test = (24,30,31,32,33,35)\n",
    "date = ('11_15_2020','11_24_2020','11_24_2020','11_25_2020','11_25_2020','11_25_2020')\n",
    "subj = ['leo','leo','leo','leo','leo','leo']\n",
    "y_gt = {}\n",
    "yrun = 0\n",
    "theta_interest = 'z'\n",
    "for i in range(len(n_test)):\n",
    "    test_str = 'test' + str(n_test[i])\n",
    "#     data_dir = os.path.join('/home/asilador/CS598/CS598-FinalProject/Preliminary Data V5','Test_Subject_'+subj[i],test_str)\n",
    "    data_dir = os.path.join(r'C:\\Users\\Alex\\Box\\CS598 - Final Project\\Preliminary Data V5','Test_Subject_'+subj[i],test_str)\n",
    "    qtm_file_data_dir = os.path.join(data_dir , 'qtm_processed_'+subj[i]+'_test' + str(n_test[i]) + '_' + date[i] + '.txt')\n",
    "    y_gt[i] = read_output_data(qtm_file_data_dir,theta_interest).values\n",
    "\n"
   ]
  },
  {
   "cell_type": "code",
   "execution_count": 12,
   "metadata": {},
   "outputs": [],
   "source": [
    "tlen=0\n",
    "for x in range(len(y_gt)):\n",
    "    tlen+= y_gt[x].shape[0]\n",
    "yrun_cum = 0\n",
    "y_train = np.zeros((tlen,1))\n",
    "for i in range (len(y_gt)):\n",
    "    yrun_n = len(y_gt[i])\n",
    "    y_train[yrun_cum:yrun_cum+yrun_n] = y_gt[i][:]\n",
    "    yrun_cum += yrun_n"
   ]
  },
  {
   "cell_type": "code",
   "execution_count": 13,
   "metadata": {},
   "outputs": [],
   "source": [
    "# Saturate output\n",
    "def saturate(theta, min_val, max_val):\n",
    "    for i in range(len(theta)):\n",
    "        if theta[i] < min_val:\n",
    "            theta[i] = min_val\n",
    "            continue\n",
    "        if theta[i] > max_val:\n",
    "            theta[i] = max_val\n",
    "            continue\n",
    "    return theta\n",
    "\n",
    "def round_of_rating(number):\n",
    "    \"\"\"Round a number to the closest half integer.\n",
    "    >>> round_of_rating(1.3)\n",
    "    1.5\n",
    "    >>> round_of_rating(2.6)\n",
    "    2.5\n",
    "    >>> round_of_rating(3.0)\n",
    "    3.0\n",
    "    >>> round_of_rating(4.1)\n",
    "    4.0\"\"\"\n",
    "\n",
    "    return np.round(number * 2) / 2\n",
    "\n",
    "min_val = -40\n",
    "max_val = 40\n",
    "    \n",
    "y_train = round_of_rating(saturate(y_train, min_val, max_val))\n",
    "\n"
   ]
  },
  {
   "cell_type": "code",
   "execution_count": 14,
   "metadata": {},
   "outputs": [],
   "source": [
    "r_int = 0.5\n",
    "slist = np.arange(min_val,max_val+r_int,r_int)*2 #multiply by 2 to allow labelbinarizer to work"
   ]
  },
  {
   "cell_type": "code",
   "execution_count": 15,
   "metadata": {},
   "outputs": [],
   "source": [
    "lb = LabelBinarizer()"
   ]
  },
  {
   "cell_type": "code",
   "execution_count": 16,
   "metadata": {},
   "outputs": [
    {
     "data": {
      "text/plain": [
       "LabelBinarizer()"
      ]
     },
     "execution_count": 16,
     "metadata": {},
     "output_type": "execute_result"
    }
   ],
   "source": [
    "lb.fit(slist)"
   ]
  },
  {
   "cell_type": "code",
   "execution_count": 17,
   "metadata": {},
   "outputs": [],
   "source": [
    "ylabels = lb.transform(y_train*2)"
   ]
  },
  {
   "cell_type": "code",
   "execution_count": 18,
   "metadata": {},
   "outputs": [
    {
     "name": "stdout",
     "output_type": "stream",
     "text": [
      "(77849, 60, 80, 3)\n",
      "(77849, 6)\n",
      "(77849, 161)\n"
     ]
    }
   ],
   "source": [
    "print(x_train.shape)\n",
    "print(xfcss_train.shape)\n",
    "print(ylabels.shape)"
   ]
  },
  {
   "cell_type": "code",
   "execution_count": null,
   "metadata": {},
   "outputs": [],
   "source": []
  },
  {
   "cell_type": "code",
   "execution_count": 19,
   "metadata": {},
   "outputs": [],
   "source": [
    "nsamps = x_train.shape[0]\n",
    "n80p = int(np.floor(nsamps*0.8))\n",
    "rannums = np.array(random.sample(range(1,nsamps,1), n80p))\n",
    "s_nfiles = np.arange(nsamps)\n",
    "test_set = np.setdiff1d(s_nfiles,rannums)\n",
    "\n",
    "#"
   ]
  },
  {
   "cell_type": "code",
   "execution_count": 48,
   "metadata": {},
   "outputs": [],
   "source": [
    "Trainset = x_train[rannums,:]\n",
    "Trainset2 = xfcss_train.values[rannums,:]\n",
    "Testset = x_train[test_set,:]\n",
    "Testset2 = xfcss_train.values[test_set,:]\n",
    "# Trainy= y_gt[rannums,:]\n",
    "# Testy = y_gt[test_set,:]\n",
    "Trainy= y_train[rannums,:]\n",
    "Testy = y_train[test_set,:]"
   ]
  },
  {
   "cell_type": "code",
   "execution_count": 49,
   "metadata": {},
   "outputs": [],
   "source": [
    "# sc_X2 = StandardScaler()\n",
    "# sc_y = StandardScaler()\n",
    "\n",
    "sc_X2 = MaxAbsScaler()\n",
    "#sc_y = MaxAbsScaler() #not needed at this time"
   ]
  },
  {
   "cell_type": "code",
   "execution_count": 50,
   "metadata": {},
   "outputs": [],
   "source": [
    "Xtrainz = Trainset\n",
    "Xtrainz2 = Trainset2\n",
    "ytrainz = Trainy\n",
    "X = Xtrainz\n",
    "X2 = sc_X2.fit_transform(Xtrainz2)\n",
    "y = lb.transform(ytrainz*2) #scale output by 2 to allow intervals of 0.5"
   ]
  },
  {
   "cell_type": "code",
   "execution_count": 53,
   "metadata": {},
   "outputs": [
    {
     "data": {
      "text/plain": [
       "<matplotlib.image.AxesImage at 0x20eb6cacf28>"
      ]
     },
     "execution_count": 53,
     "metadata": {},
     "output_type": "execute_result"
    },
    {
     "data": {
      "image/png": "[encoded data removed]",
      "text/plain": [
       "<Figure size 1440x1440 with 1 Axes>"
      ]
     },
     "metadata": {
      "needs_background": "light"
     },
     "output_type": "display_data"
    }
   ],
   "source": [
    "plt.figure(figsize=(20,20))\n",
    "plt.imshow(y[:1000,:])"
   ]
  },
  {
   "cell_type": "code",
   "execution_count": 23,
   "metadata": {},
   "outputs": [],
   "source": [
    "#make validation data available to model.fit\n",
    "Xvalid = Testset\n",
    "Xvalid2 = sc_X2.transform(Testset2)\n",
    "y_valid = Testy\n",
    "y_valid = lb.transform(y_valid*2) #scale output by 2 to allow intervals of 0.5\n"
   ]
  },
  {
   "cell_type": "code",
   "execution_count": 54,
   "metadata": {},
   "outputs": [
    {
     "data": {
      "text/plain": [
       "<matplotlib.image.AxesImage at 0x20eb6548898>"
      ]
     },
     "execution_count": 54,
     "metadata": {},
     "output_type": "execute_result"
    },
    {
     "data": {
      "image/png": "[encoded data removed]",
      "text/plain": [
       "<Figure size 1440x1440 with 1 Axes>"
      ]
     },
     "metadata": {
      "needs_background": "light"
     },
     "output_type": "display_data"
    }
   ],
   "source": [
    "plt.figure(figsize=(20,20))\n",
    "plt.imshow(y_valid[:1000,:])"
   ]
  },
  {
   "cell_type": "code",
   "execution_count": 24,
   "metadata": {},
   "outputs": [],
   "source": [
    "# clear up some used variables\n",
    "del Trainset\n",
    "del Trainset2\n",
    "del Testset\n",
    "del Testset2\n"
   ]
  },
  {
   "cell_type": "code",
   "execution_count": 25,
   "metadata": {},
   "outputs": [
    {
     "data": {
      "text/plain": [
       "161"
      ]
     },
     "execution_count": 25,
     "metadata": {},
     "output_type": "execute_result"
    }
   ],
   "source": [
    "y.shape[1]"
   ]
  },
  {
   "cell_type": "markdown",
   "metadata": {},
   "source": [
    "# Regress using Neural Network"
   ]
  },
  {
   "cell_type": "code",
   "execution_count": 116,
   "metadata": {},
   "outputs": [],
   "source": [
    "# Create Neural Netowrk\n",
    "\n",
    "from tensorflow.keras.layers import Bidirectional, Conv2D, MaxPooling2D, Input, concatenate, AveragePooling2D\n",
    "from tensorflow.keras.layers import BatchNormalization\n",
    "from tensorflow.keras.layers import Dense, Activation, Dropout, Reshape, Permute, Flatten\n",
    "from tensorflow.keras.models import Model\n",
    "dropout_rate = 0.2\n",
    "\n",
    "model_start = Input(shape=(x_train.shape[1],x_train.shape[2],x_train.shape[3]))\n",
    "model_start2 = Input(shape=(xfcss_train.shape[1],))\n",
    "model_cnn = model_start\n",
    "model_perc = model_start2\n",
    "\n",
    "model_cnn = Conv2D(filters=8, kernel_size=(3, 3),padding='same',use_bias=False)(model_cnn)\n",
    "model_cnn = BatchNormalization()(model_cnn)\n",
    "model_cnn = Activation('relu')(model_cnn)\n",
    "model_cnn = Conv2D(filters=8, kernel_size=(3, 3),padding='same',use_bias=False)(model_cnn)\n",
    "model_cnn = BatchNormalization()(model_cnn)\n",
    "model_cnn = Activation('relu')(model_cnn)\n",
    "model_cnn = AveragePooling2D(pool_size=(2, 2))(model_cnn)\n",
    "\n",
    "model_perc = Dense(100)(model_perc)\n",
    "model_perc = Activation('relu')(model_perc)\n",
    "\n",
    "model_cnn = Conv2D(filters=16, kernel_size=(3, 3),padding='same',use_bias=False)(model_cnn)\n",
    "model_cnn = BatchNormalization()(model_cnn)\n",
    "model_cnn = Activation('relu')(model_cnn)\n",
    "model_cnn = Conv2D(filters=16, kernel_size=(3, 3),padding='same',use_bias=False)(model_cnn)\n",
    "model_cnn = BatchNormalization()(model_cnn)\n",
    "model_cnn = Activation('relu')(model_cnn)\n",
    "model_cnn = AveragePooling2D(pool_size=(2, 2))(model_cnn)\n",
    "\n",
    "model_perc = Dense(100)(model_perc)\n",
    "model_perc = Activation('relu')(model_perc)\n",
    "\n",
    "model_cnn = Conv2D(filters=32, kernel_size=(3, 3),padding='same',use_bias=False)(model_cnn)\n",
    "model_cnn = BatchNormalization()(model_cnn)\n",
    "model_cnn = Activation('relu')(model_cnn)\n",
    "model_cnn = Conv2D(filters=32, kernel_size=(3, 3),padding='same',use_bias=False)(model_cnn)\n",
    "model_cnn = BatchNormalization()(model_cnn)\n",
    "model_cnn = Activation('relu')(model_cnn)\n",
    "model_cnn = AveragePooling2D(pool_size=(2, 2))(model_cnn)\n",
    "\n",
    "model_cnn = Conv2D(filters=64, kernel_size=(3, 3),padding='same',use_bias=False)(model_cnn)\n",
    "model_cnn = BatchNormalization()(model_cnn)\n",
    "model_cnn = Activation('relu')(model_cnn)\n",
    "model_cnn = Conv2D(filters=64, kernel_size=(3, 3),padding='same',use_bias=False)(model_cnn)\n",
    "model_cnn = BatchNormalization()(model_cnn)\n",
    "model_cnn = Activation('relu')(model_cnn)\n",
    "model_cnn = AveragePooling2D(pool_size=(2, 2))(model_cnn)\n",
    "\n",
    "model_cnn = Flatten()(model_cnn)\n",
    "# model_perc = Flatten()(model_perc)\n",
    "# model_cnn = Activation('relu')(model_cnn)\n",
    "\n",
    "model_cnn = Dense(100)(model_cnn)\n",
    "model_cnn = Activation('relu')(model_cnn)\n",
    "\n",
    "\n",
    "model_comb = concatenate([model_cnn,model_perc],axis=-1)\n",
    "\n",
    "model_comb = Dense(128)(model_comb)\n",
    "model_comb = BatchNormalization()(model_comb)\n",
    "model_comb = Activation('relu')(model_comb)\n",
    "model_comb = Dropout(dropout_rate)(model_comb)\n",
    "\n",
    "output = Dense(y.shape[1])(model_comb)\n",
    "output = Activation('sigmoid', name='thetaz_out')(output)\n",
    "model = Model(inputs=[model_start,model_start2],outputs=output)\n",
    "model.compile(optimizer='adam',\n",
    "              loss='categorical_crossentropy',\n",
    "              metrics=['categorical_accuracy'])\n",
    "\n",
    "\n",
    "# callback = tf.keras.callbacks.EarlyStopping(monitor='val_loss', patience=50,restore_best_weights=True) #Moving to 1000 patience. \n",
    "# callback = tf.keras.callbacks.EarlyStopping(monitor='loss', patience=50,restore_best_weights=True) #Moving to 1000 patience.\n"
   ]
  },
  {
   "cell_type": "code",
   "execution_count": 117,
   "metadata": {},
   "outputs": [
    {
     "name": "stdout",
     "output_type": "stream",
     "text": [
      "Model: \"functional_11\"\n",
      "__________________________________________________________________________________________________\n",
      "Layer (type)                    Output Shape         Param #     Connected to                     \n",
      "==================================================================================================\n",
      "input_13 (InputLayer)           [(None, 60, 80, 3)]  0                                            \n",
      "__________________________________________________________________________________________________\n",
      "conv2d_48 (Conv2D)              (None, 60, 80, 8)    216         input_13[0][0]                   \n",
      "__________________________________________________________________________________________________\n",
      "batch_normalization_19 (BatchNo (None, 60, 80, 8)    32          conv2d_48[0][0]                  \n",
      "__________________________________________________________________________________________________\n",
      "activation_69 (Activation)      (None, 60, 80, 8)    0           batch_normalization_19[0][0]     \n",
      "__________________________________________________________________________________________________\n",
      "conv2d_49 (Conv2D)              (None, 60, 80, 8)    576         activation_69[0][0]              \n",
      "__________________________________________________________________________________________________\n",
      "batch_normalization_20 (BatchNo (None, 60, 80, 8)    32          conv2d_49[0][0]                  \n",
      "__________________________________________________________________________________________________\n",
      "activation_70 (Activation)      (None, 60, 80, 8)    0           batch_normalization_20[0][0]     \n",
      "__________________________________________________________________________________________________\n",
      "average_pooling2d_24 (AveragePo (None, 30, 40, 8)    0           activation_70[0][0]              \n",
      "__________________________________________________________________________________________________\n",
      "conv2d_50 (Conv2D)              (None, 30, 40, 16)   1152        average_pooling2d_24[0][0]       \n",
      "__________________________________________________________________________________________________\n",
      "batch_normalization_21 (BatchNo (None, 30, 40, 16)   64          conv2d_50[0][0]                  \n",
      "__________________________________________________________________________________________________\n",
      "activation_72 (Activation)      (None, 30, 40, 16)   0           batch_normalization_21[0][0]     \n",
      "__________________________________________________________________________________________________\n",
      "conv2d_51 (Conv2D)              (None, 30, 40, 16)   2304        activation_72[0][0]              \n",
      "__________________________________________________________________________________________________\n",
      "batch_normalization_22 (BatchNo (None, 30, 40, 16)   64          conv2d_51[0][0]                  \n",
      "__________________________________________________________________________________________________\n",
      "activation_73 (Activation)      (None, 30, 40, 16)   0           batch_normalization_22[0][0]     \n",
      "__________________________________________________________________________________________________\n",
      "average_pooling2d_25 (AveragePo (None, 15, 20, 16)   0           activation_73[0][0]              \n",
      "__________________________________________________________________________________________________\n",
      "conv2d_52 (Conv2D)              (None, 15, 20, 32)   4608        average_pooling2d_25[0][0]       \n",
      "__________________________________________________________________________________________________\n",
      "batch_normalization_23 (BatchNo (None, 15, 20, 32)   128         conv2d_52[0][0]                  \n",
      "__________________________________________________________________________________________________\n",
      "activation_75 (Activation)      (None, 15, 20, 32)   0           batch_normalization_23[0][0]     \n",
      "__________________________________________________________________________________________________\n",
      "conv2d_53 (Conv2D)              (None, 15, 20, 32)   9216        activation_75[0][0]              \n",
      "__________________________________________________________________________________________________\n",
      "batch_normalization_24 (BatchNo (None, 15, 20, 32)   128         conv2d_53[0][0]                  \n",
      "__________________________________________________________________________________________________\n",
      "activation_76 (Activation)      (None, 15, 20, 32)   0           batch_normalization_24[0][0]     \n",
      "__________________________________________________________________________________________________\n",
      "average_pooling2d_26 (AveragePo (None, 7, 10, 32)    0           activation_76[0][0]              \n",
      "__________________________________________________________________________________________________\n",
      "conv2d_54 (Conv2D)              (None, 7, 10, 64)    18432       average_pooling2d_26[0][0]       \n",
      "__________________________________________________________________________________________________\n",
      "batch_normalization_25 (BatchNo (None, 7, 10, 64)    256         conv2d_54[0][0]                  \n",
      "__________________________________________________________________________________________________\n",
      "activation_77 (Activation)      (None, 7, 10, 64)    0           batch_normalization_25[0][0]     \n",
      "__________________________________________________________________________________________________\n",
      "conv2d_55 (Conv2D)              (None, 7, 10, 64)    36864       activation_77[0][0]              \n",
      "__________________________________________________________________________________________________\n",
      "batch_normalization_26 (BatchNo (None, 7, 10, 64)    256         conv2d_55[0][0]                  \n",
      "__________________________________________________________________________________________________\n",
      "activation_78 (Activation)      (None, 7, 10, 64)    0           batch_normalization_26[0][0]     \n",
      "__________________________________________________________________________________________________\n",
      "input_14 (InputLayer)           [(None, 6)]          0                                            \n",
      "__________________________________________________________________________________________________\n",
      "average_pooling2d_27 (AveragePo (None, 3, 5, 64)     0           activation_78[0][0]              \n",
      "__________________________________________________________________________________________________\n",
      "dense_26 (Dense)                (None, 100)          700         input_14[0][0]                   \n",
      "__________________________________________________________________________________________________\n",
      "flatten_6 (Flatten)             (None, 960)          0           average_pooling2d_27[0][0]       \n",
      "__________________________________________________________________________________________________\n",
      "activation_71 (Activation)      (None, 100)          0           dense_26[0][0]                   \n",
      "__________________________________________________________________________________________________\n",
      "dense_28 (Dense)                (None, 100)          96100       flatten_6[0][0]                  \n",
      "__________________________________________________________________________________________________\n",
      "dense_27 (Dense)                (None, 100)          10100       activation_71[0][0]              \n",
      "__________________________________________________________________________________________________\n",
      "activation_79 (Activation)      (None, 100)          0           dense_28[0][0]                   \n",
      "__________________________________________________________________________________________________\n",
      "activation_74 (Activation)      (None, 100)          0           dense_27[0][0]                   \n",
      "__________________________________________________________________________________________________\n",
      "concatenate_6 (Concatenate)     (None, 200)          0           activation_79[0][0]              \n",
      "                                                                 activation_74[0][0]              \n",
      "__________________________________________________________________________________________________\n",
      "dense_29 (Dense)                (None, 128)          25728       concatenate_6[0][0]              \n",
      "__________________________________________________________________________________________________\n",
      "batch_normalization_27 (BatchNo (None, 128)          512         dense_29[0][0]                   \n",
      "__________________________________________________________________________________________________\n",
      "activation_80 (Activation)      (None, 128)          0           batch_normalization_27[0][0]     \n",
      "__________________________________________________________________________________________________\n",
      "dropout_2 (Dropout)             (None, 128)          0           activation_80[0][0]              \n",
      "__________________________________________________________________________________________________\n",
      "dense_30 (Dense)                (None, 161)          20769       dropout_2[0][0]                  \n",
      "__________________________________________________________________________________________________\n",
      "thetaz_out (Activation)         (None, 161)          0           dense_30[0][0]                   \n",
      "==================================================================================================\n",
      "Total params: 228,237\n",
      "Trainable params: 227,501\n",
      "Non-trainable params: 736\n",
      "__________________________________________________________________________________________________\n"
     ]
    }
   ],
   "source": [
    "model.summary()"
   ]
  },
  {
   "cell_type": "code",
   "execution_count": 118,
   "metadata": {},
   "outputs": [
    {
     "name": "stdout",
     "output_type": "stream",
     "text": [
      "2.3.1\n"
     ]
    }
   ],
   "source": [
    "print(tf.__version__)"
   ]
  },
  {
   "cell_type": "code",
   "execution_count": 119,
   "metadata": {},
   "outputs": [
    {
     "data": {
      "text/plain": [
       "[PhysicalDevice(name='/physical_device:GPU:0', device_type='GPU')]"
      ]
     },
     "execution_count": 119,
     "metadata": {},
     "output_type": "execute_result"
    }
   ],
   "source": [
    "tf.config.list_physical_devices('GPU') "
   ]
  },
  {
   "cell_type": "code",
   "execution_count": 120,
   "metadata": {},
   "outputs": [],
   "source": [
    "from tensorflow.keras import layers\n",
    "with tf.device('/device:CPU:0'):\n",
    "    data_augmentation = tf.keras.Sequential([\n",
    "        layers.experimental.preprocessing.RandomRotation(0.05),\n",
    "        layers.experimental.preprocessing.RandomZoom(height_factor = (-0.2,0.2),\n",
    "                                               width_factor = (-0.2,0.2), \n",
    "                                               fill_mode = 'constant'),\n",
    "        ], \n",
    "        name='data_augmentation')\n",
    "\n",
    "# create data generator\n",
    "def get_generator_cyclic(features1, features2, labels, batch_size=256):\n",
    "    while True:\n",
    "        for n in range(int(len(features1)/batch_size)):\n",
    "            X = features1[n*batch_size: (n+1)*batch_size]\n",
    "            with tf.device('/device:CPU:0'): #to prevent hogging limited gpu space\n",
    "                augmented_images = data_augmentation(X)\n",
    "                Xnew =  tf.cast(augmented_images,tf.float64)/255\n",
    "            yield [Xnew, features2[n*batch_size: (n+1)*batch_size], labels[n*batch_size: (n+1)*batch_size]]\n",
    "        permuted = np.random.permutation(len(features1))\n",
    "        features1 = features1[permuted]\n",
    "        features2 = features2[permuted]\n",
    "        labels = labels[permuted]\n"
   ]
  },
  {
   "cell_type": "code",
   "execution_count": 125,
   "metadata": {},
   "outputs": [],
   "source": [
    "def scheduler(epoch, lr):\n",
    "    if e%300 < 200: #very hacky\n",
    "        return 0.01\n",
    "    else:\n",
    "        if e%25==0 & batches==0:\n",
    "            return lr * 0.99\n",
    "        else:\n",
    "            return lr\n",
    "callback = tf.keras.callbacks.LearningRateScheduler(scheduler)"
   ]
  },
  {
   "cell_type": "code",
   "execution_count": 126,
   "metadata": {},
   "outputs": [
    {
     "name": "stdout",
     "output_type": "stream",
     "text": [
      "Epoch 0 Time:  02:58:56\n",
      "Accuracy at    0 is: 0.04\n",
      "Epoch 1 Time:  02:59:37\n",
      "Accuracy at    1 is: 0.07\n",
      "Epoch 2 Time:  03:00:18\n",
      "Accuracy at    2 is: 0.07\n",
      "Epoch 3 Time:  03:00:59\n",
      "Accuracy at    3 is: 0.10\n",
      "Epoch 4 Time:  03:01:39\n",
      "Accuracy at    4 is: 0.09\n",
      "WARNING:tensorflow:From C:\\Users\\Alex\\AppData\\Roaming\\Python\\Python36\\site-packages\\tensorflow\\python\\training\\tracking\\tracking.py:111: Model.state_updates (from tensorflow.python.keras.engine.training) is deprecated and will be removed in a future version.\n",
      "Instructions for updating:\n",
      "This property should not be used in TensorFlow 2.0, as updates are applied automatically.\n",
      "WARNING:tensorflow:From C:\\Users\\Alex\\AppData\\Roaming\\Python\\Python36\\site-packages\\tensorflow\\python\\training\\tracking\\tracking.py:111: Layer.updates (from tensorflow.python.keras.engine.base_layer) is deprecated and will be removed in a future version.\n",
      "Instructions for updating:\n",
      "This property should not be used in TensorFlow 2.0, as updates are applied automatically.\n",
      "INFO:tensorflow:Assets written to: cnn3v31\\assets\n"
     ]
    }
   ],
   "source": [
    "from datetime import datetime\n",
    "batch_size = 64\n",
    "batch_mult = 8\n",
    "readin = int(batch_size*batch_mult)\n",
    "#epochs = int(1200)\n",
    "epochs = int(5)\n",
    "acc_best = 0\n",
    "training_generator = get_generator_cyclic(X,X2,y,readin)\n",
    "# test_generator = get_generator_cyclic(Xvalid,Xvalid2,y_valid,readin)\n",
    "for e in range(epochs):\n",
    "    now = datetime.now()\n",
    "    current_time = now.strftime(\"%H:%M:%S\")\n",
    "    print('Epoch', e,'Time: ', current_time)\n",
    "    batches = 0\n",
    "    while batches< len(X)/readin:\n",
    "        Xtrain_1, Xtrain_2, ytrain_1 = next(training_generator)\n",
    "#         Xtest_1, Xtest_2, ytest_1 =next(test_generator)\n",
    "#         model.fit([Xtrain_1, Xtrain_2], ytrain_1, callbacks = [callback],validation_data = ([Xtest_1,Xtest_2], ytest_1),batch_size=batch_size,verbose = 0)\n",
    "        model.fit([Xtrain_1, Xtrain_2], ytrain_1, callbacks = [callback],batch_size=batch_size,verbose = 0)\n",
    "        batches += 1\n",
    "    \n",
    "    #calculates and prints the running validation once per epoch\n",
    "    losssc, acc = model.evaluate([Xvalid/255.,Xvalid2],y_valid,verbose=0)\n",
    "    #mae = lb.inverse_transform(np.array(maesc).reshape(1,-1))[0][0]\n",
    "    if acc>acc_best:\n",
    "        modelbest = model\n",
    "        acc_best = acc\n",
    "    print('Accuracy at {:4.0f} is: {:4.2f}'.format(e,acc))\n",
    "modelbest.save('cnn3v31')    "
   ]
  },
  {
   "cell_type": "code",
   "execution_count": 55,
   "metadata": {},
   "outputs": [],
   "source": [
    "cc = model.predict([Xvalid/255.,Xvalid2])"
   ]
  },
  {
   "cell_type": "code",
   "execution_count": 123,
   "metadata": {},
   "outputs": [
    {
     "data": {
      "text/plain": [
       "0.08811817318201065"
      ]
     },
     "execution_count": 123,
     "metadata": {},
     "output_type": "execute_result"
    }
   ],
   "source": [
    "acc"
   ]
  },
  {
   "cell_type": "code",
   "execution_count": 57,
   "metadata": {},
   "outputs": [
    {
     "data": {
      "text/plain": [
       "<matplotlib.image.AxesImage at 0x20eb5ebc0f0>"
      ]
     },
     "execution_count": 57,
     "metadata": {},
     "output_type": "execute_result"
    },
    {
     "data": {
      "image/png": "[encoded data removed]",
      "text/plain": [
       "<Figure size 1440x1440 with 1 Axes>"
      ]
     },
     "metadata": {
      "needs_background": "light"
     },
     "output_type": "display_data"
    }
   ],
   "source": [
    "plt.figure(figsize=(20,20))\n",
    "plt.imshow(cc[1000:2000,:])"
   ]
  },
  {
   "cell_type": "code",
   "execution_count": null,
   "metadata": {},
   "outputs": [],
   "source": [
    "save_notebookparams = 1\n",
    "if save_notebookparams:\n",
    "    pkl_filename = \"depthforcemodelparam_cnn3v31_pb.pkl\"\n",
    "    randata = {}\n",
    "    randata['nsamps']=nsamps\n",
    "    randata['n80p']=n80p\n",
    "    randata['rannums']=rannums\n",
    "    randata['test_set']=test_set\n",
    "#     modelhistory = history.history\n",
    "    \n",
    "    \n",
    "    with open(pkl_filename, 'wb') as file:\n",
    "#         pickle.dump([randata,sc_y,sc_X2,modelhistory], file)\n",
    "          pickle.dump([randata,lb,sc_X2], file)\n",
    "        \n",
    "#     !mkdir -p saved_model\n",
    "#     model.save('saved_model/cnn3v22')"
   ]
  }
 ],
 "metadata": {
  "kernelspec": {
   "display_name": "Python 3",
   "language": "python",
   "name": "python3"
  },
  "language_info": {
   "codemirror_mode": {
    "name": "ipython",
    "version": 3
   },
   "file_extension": ".py",
   "mimetype": "text/x-python",
   "name": "python",
   "nbconvert_exporter": "python",
   "pygments_lexer": "ipython3",
   "version": "3.6.12"
  }
 },
 "nbformat": 4,
 "nbformat_minor": 4
}
