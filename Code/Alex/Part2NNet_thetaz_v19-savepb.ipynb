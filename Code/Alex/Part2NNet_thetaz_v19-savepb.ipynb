{
 "cells": [
  {
   "cell_type": "code",
   "execution_count": 1,
   "metadata": {},
   "outputs": [],
   "source": [
    "import numpy as np\n",
    "import matplotlib.pyplot as plt\n",
    "import math\n",
    "import pandas as pd\n",
    "from scipy import signal\n",
    "import pickle\n",
    "from sklearn.linear_model import LinearRegression\n",
    "from sklearn.preprocessing import StandardScaler\n",
    "from sklearn.svm import SVR\n",
    "import random\n",
    "import tensorflow as tf\n",
    "import cv2\n",
    "from scipy import stats\n",
    "import os\n"
   ]
  },
  {
   "cell_type": "code",
   "execution_count": null,
   "metadata": {},
   "outputs": [],
   "source": [
    "# Add tensorboard stuff\n",
    "# %load_ext tensorboard\n",
    "# import datetime\n",
    "\n",
    "# !rm -rf ./logs/\n"
   ]
  },
  {
   "cell_type": "code",
   "execution_count": 2,
   "metadata": {},
   "outputs": [],
   "source": [
    "#fix all seeds for random number generators\n",
    "# Set seed value\n",
    "seed_value = 9\n",
    "import os\n",
    "os.environ['PYTHONHASHSEED']=str(seed_value)# 2. Set `python` built-in pseudo-random generator at a fixed value\n",
    "random.seed(seed_value)# 3. Set `numpy` pseudo-random generator at a fixed value\n",
    "np.random.seed(seed_value)\n",
    "tf.random.set_seed(seed_value)# 5. Configure a new global `tensorflow` session\n",
    "\n",
    "# TODO need to add session thing for tensorflow"
   ]
  },
  {
   "cell_type": "markdown",
   "metadata": {},
   "source": [
    "# Read Depth Camera"
   ]
  },
  {
   "cell_type": "code",
   "execution_count": 3,
   "metadata": {},
   "outputs": [],
   "source": [
    "# For reading depth camera\n",
    "def read_depth_camera(dcamera_path, show_video, nw_resize=1, nh_resize=1):\n",
    "    video  = cv2.VideoCapture(dcamera_path)\n",
    "    ret, frame = video.read()\n",
    "    \n",
    "    # Get total # of frame count \n",
    "    frame_count = int(video.get(cv2.CAP_PROP_FRAME_COUNT))\n",
    "        \n",
    "    frame_height = int(frame.shape[0])\n",
    "    frame_width = int(frame.shape[1])\n",
    "\n",
    "    \n",
    "    depth_frames = np.empty((frame_count, int(frame_height/nh_resize), int(frame_width/nw_resize)))\n",
    "    depth_frames = np.empty((frame_count, int(frame_height/nh_resize), int(frame_width/nw_resize),3))\n",
    "    count = 0\n",
    "    while (video.isOpened()):\n",
    "        ret, frame = video.read()\n",
    "        \n",
    "        if ret == True:\n",
    "#             gray_frame = cv2.cvtColor(frame, cv2.COLOR_BGR2GRAY)\n",
    "#             gray_frame = frame/np.maximum(np.max(frame),255) keep as int8 for memory savings\n",
    "            gray_frame = frame\n",
    "            gray_frame = cv2.resize(gray_frame, \\\n",
    "                                    (int(frame_width/nw_resize), int(frame_height/nh_resize)),\\\n",
    "                                    interpolation = cv2.INTER_NEAREST)\n",
    "\n",
    "            depth_frames[count] = gray_frame\n",
    "            if show_video == True:\n",
    "                cv2.imshow(\"Depth\", gray_frame)\n",
    "                if cv2.waitKey(1) & 0xFF == ord('q'):\n",
    "                    break\n",
    "            count = count + 1\n",
    "        else: \n",
    "            break\n",
    "            \n",
    "\n",
    "    video.release()\n",
    "    #cv2.destroyAllWindows()\n",
    "    return depth_frames\n",
    "\n",
    "def read_output_data(qtm_file_data, theta):\n",
    "    if theta=='x':\n",
    "        qtm_data = pd.read_csv(qtm_file_data, usecols = [\"Lean Left/Right Angle (deg)\"])\n",
    "    if theta=='y':\n",
    "        qtm_data = pd.read_csv(qtm_file_data, usecols = [\"Lean Forward/Backwards Angle (deg)\"])\n",
    "    if theta=='z':\n",
    "        qtm_data = pd.read_csv(qtm_file_data, usecols = [\"Torso Twist Angle (deg)\"])\n",
    "        \n",
    "    \n",
    "    return qtm_data\n"
   ]
  },
  {
   "cell_type": "code",
   "execution_count": 4,
   "metadata": {},
   "outputs": [],
   "source": [
    "def play_video(read_frames):\n",
    "\n",
    "    for i in range(len(read_frames)):\n",
    "        # Capture frame-by-frame\n",
    "        frame = read_frames[i]\n",
    "\n",
    "        # Display the resulting frame\n",
    "        plt.imshow(frame)\n",
    "#         if cv2.waitKey(1) & 0xFF == ord('q'):\n",
    "#             break\n",
    "    #cv2.destroyAllWindows()\n",
    "\n",
    "    return"
   ]
  },
  {
   "cell_type": "code",
   "execution_count": 5,
   "metadata": {},
   "outputs": [],
   "source": [
    "def show_frame(read_frames, frame_range):\n",
    "      # Capture frame-by-frame\n",
    "\n",
    "    # Display the resulting frame\n",
    "    for i in frame_range:\n",
    "        fig = plt.figure(figsize=(6,6))        \n",
    "        a = plt.imshow(read_frames[i])\n",
    "        \n",
    "    return"
   ]
  },
  {
   "cell_type": "code",
   "execution_count": 31,
   "metadata": {},
   "outputs": [],
   "source": [
    "#fix this to concatenate everything\n",
    "# n_test = 24\n",
    "# date = '11_15_2020'\n",
    "# test_str = '/test' + str(n_test)\n",
    "# #data_dir = r\"C:\\Users\\77bis\\Box\\CS598 - Final Project\\Preliminary Data V4\\Test_Subject_Leo\" + test_str\n",
    "# data_dir = \"/home/asilador/CS598/CS598-FinalProject/Preliminary Data V4/Test_Subject_Leo\" + test_str\n",
    "# train_dcamera_path = data_dir + '/depth_processed_leo_test'+str(n_test)+'.avi'\n",
    "# show_video = 0\n",
    "# n_resize = 1\n",
    "# x_train = read_depth_camera(train_dcamera_path, show_video, nw_resize=2, nh_resize=3)\n",
    "\n",
    "n_test = (1,2,24,30,31,32,33,35,1,3)\n",
    "nw_resize = 2\n",
    "nh_resize = 2\n",
    "xtemp = {}\n",
    "show_video = 0\n",
    "subj = ['cz','cz','leo','leo','leo','leo','leo','leo','yc','yc']\n",
    "        \n",
    "for i in range(len(n_test)):\n",
    "    test_str = 'test' + str(n_test[i])\n",
    "    \n",
    "#     data_dir = \"/home/asilador/CS598/CS598-FinalProject/Preliminary Data V5/Test_Subject_Leo\" + test_str\n",
    "    data_dir = os.path.join(r'C:\\Users\\Alex\\Box\\CS598 - Final Project\\Preliminary Data V5','Test_Subject_'+subj[i],test_str)\n",
    "#     train_dcamera_path = data_dir + '/depth_processed_leo_test'+str(n_test[i])+'.avi'\n",
    "    train_dcamera_path = os.path.join(data_dir , 'depth_processed_'+subj[i]+'_test'+str(n_test[i])+'.avi')\n",
    "    xtemp[i] = read_depth_camera(train_dcamera_path, show_video, nw_resize=nw_resize, nh_resize=nh_resize).astype('uint8')\n",
    "    \n"
   ]
  },
  {
   "cell_type": "code",
   "execution_count": 42,
   "metadata": {},
   "outputs": [],
   "source": [
    "tlen=0\n",
    "for x in range(len(xtemp)):\n",
    "    tlen+= xtemp[x].shape[0]\n",
    "xrun_cum = 0\n",
    "x_train = np.zeros((tlen,xtemp[0].shape[1],xtemp[0].shape[2],xtemp[0].shape[3]),dtype='uint8')\n",
    "for i in range (len(xtemp)):\n",
    "    xrun_n = len(xtemp[i])\n",
    "    x_train[xrun_cum:xrun_cum+xrun_n,:,:,:] = xtemp[i][:xrun_n,:,:,:]\n",
    "    xrun_cum += xrun_n"
   ]
  },
  {
   "cell_type": "code",
   "execution_count": 36,
   "metadata": {},
   "outputs": [
    {
     "data": {
      "text/plain": [
       "(153421, 60, 80, 3)"
      ]
     },
     "execution_count": 36,
     "metadata": {},
     "output_type": "execute_result"
    }
   ],
   "source": [
    "x_train.shape"
   ]
  },
  {
   "cell_type": "code",
   "execution_count": 45,
   "metadata": {},
   "outputs": [
    {
     "data": {
      "text/plain": [
       "<matplotlib.image.AxesImage at 0x21a56d32b38>"
      ]
     },
     "execution_count": 45,
     "metadata": {},
     "output_type": "execute_result"
    },
    {
     "data": {
      "image/png": "[encoded data removed]",
      "text/plain": [
       "<Figure size 432x288 with 1 Axes>"
      ]
     },
     "metadata": {
      "needs_background": "light"
     },
     "output_type": "display_data"
    }
   ],
   "source": [
    "plt.imshow(x_train[153418])"
   ]
  },
  {
   "cell_type": "code",
   "execution_count": 46,
   "metadata": {},
   "outputs": [
    {
     "name": "stdout",
     "output_type": "stream",
     "text": [
      "(153421, 60, 80, 3)\n"
     ]
    }
   ],
   "source": [
    "print(x_train.shape)\n",
    "del xtemp"
   ]
  },
  {
   "cell_type": "markdown",
   "metadata": {},
   "source": []
  },
  {
   "cell_type": "markdown",
   "metadata": {},
   "source": [
    "# read fcss data"
   ]
  },
  {
   "cell_type": "code",
   "execution_count": 54,
   "metadata": {},
   "outputs": [],
   "source": [
    "\n",
    "n_test = (1,2,24,30,31,32,33,35,1,3)\n",
    "date = ('12_2_2020','12_11_2020','11_15_2020','11_24_2020','11_24_2020','11_25_2020','11_25_2020','11_25_2020','12_2_2020','12_11_2020')\n",
    "subj = ['cz','cz','leo','leo','leo','leo','leo','leo','yc','yc']\n",
    "subjwgt = [61,61, 67, 67, 67, 67, 67, 67, 70, 70]\n",
    "subjht = [180, 180, 170, 170, 170, 170, 170, 170, 174, 174]\n",
    "xfcss_gt = {}\n",
    "yrun = 0\n",
    "for i in range(len(n_test)):\n",
    "    test_str = 'test' + str(n_test[i])\n",
    "    data_dir = os.path.join(r'C:\\Users\\Alex\\Box\\CS598 - Final Project\\Preliminary Data V5','Test_Subject_'+subj[i],test_str)\n",
    "    fcss_data_dir = os.path.join(data_dir , 'fcss_processed_'+subj[i]+'_' + test_str + '_' + date[i] + '.txt')\n",
    "    xfcss_gttemp = pd.read_csv(fcss_data_dir)\n",
    "    xfcss_gt[i]=xfcss_gttemp\n",
    "    xfcss_gt[i]['weight'] = subjwgt[i]# hacky but will work for now\n",
    "    xfcss_gt[i]['height'] = subjht[i]# hacky but will work for now\n",
    "    if i==0:\n",
    "        xfcss_train=xfcss_gttemp\n",
    "    else:\n",
    "        xfcss_train = pd.concat([xfcss_train,xfcss_gt[i]],axis=0)\n",
    "del xfcss_gt"
   ]
  },
  {
   "cell_type": "code",
   "execution_count": 55,
   "metadata": {},
   "outputs": [
    {
     "data": {
      "text/html": [
       "<div>\n",
       "<style scoped>\n",
       "    .dataframe tbody tr th:only-of-type {\n",
       "        vertical-align: middle;\n",
       "    }\n",
       "\n",
       "    .dataframe tbody tr th {\n",
       "        vertical-align: top;\n",
       "    }\n",
       "\n",
       "    .dataframe thead th {\n",
       "        text-align: right;\n",
       "    }\n",
       "</style>\n",
       "<table border=\"1\" class=\"dataframe\">\n",
       "  <thead>\n",
       "    <tr style=\"text-align: right;\">\n",
       "      <th></th>\n",
       "      <th>Fz bottom (kg)</th>\n",
       "      <th>Fz left (kg)</th>\n",
       "      <th>Fz right (kg)</th>\n",
       "      <th>Fx left (kg)</th>\n",
       "      <th>Fx right (kg)</th>\n",
       "      <th>Fy (kg)</th>\n",
       "      <th>weight</th>\n",
       "      <th>height</th>\n",
       "    </tr>\n",
       "  </thead>\n",
       "  <tbody>\n",
       "    <tr>\n",
       "      <th>0</th>\n",
       "      <td>-50.52</td>\n",
       "      <td>-11.53</td>\n",
       "      <td>-12.09</td>\n",
       "      <td>9.16</td>\n",
       "      <td>11.96</td>\n",
       "      <td>0.24</td>\n",
       "      <td>61</td>\n",
       "      <td>180</td>\n",
       "    </tr>\n",
       "    <tr>\n",
       "      <th>1</th>\n",
       "      <td>-50.32</td>\n",
       "      <td>-11.58</td>\n",
       "      <td>-12.22</td>\n",
       "      <td>9.16</td>\n",
       "      <td>11.89</td>\n",
       "      <td>0.19</td>\n",
       "      <td>61</td>\n",
       "      <td>180</td>\n",
       "    </tr>\n",
       "    <tr>\n",
       "      <th>2</th>\n",
       "      <td>-50.18</td>\n",
       "      <td>-11.66</td>\n",
       "      <td>-12.37</td>\n",
       "      <td>9.14</td>\n",
       "      <td>11.85</td>\n",
       "      <td>0.16</td>\n",
       "      <td>61</td>\n",
       "      <td>180</td>\n",
       "    </tr>\n",
       "    <tr>\n",
       "      <th>3</th>\n",
       "      <td>-50.09</td>\n",
       "      <td>-11.76</td>\n",
       "      <td>-12.48</td>\n",
       "      <td>9.15</td>\n",
       "      <td>11.89</td>\n",
       "      <td>0.14</td>\n",
       "      <td>61</td>\n",
       "      <td>180</td>\n",
       "    </tr>\n",
       "    <tr>\n",
       "      <th>4</th>\n",
       "      <td>-50.09</td>\n",
       "      <td>-11.84</td>\n",
       "      <td>-12.59</td>\n",
       "      <td>9.14</td>\n",
       "      <td>11.99</td>\n",
       "      <td>0.14</td>\n",
       "      <td>61</td>\n",
       "      <td>180</td>\n",
       "    </tr>\n",
       "    <tr>\n",
       "      <th>...</th>\n",
       "      <td>...</td>\n",
       "      <td>...</td>\n",
       "      <td>...</td>\n",
       "      <td>...</td>\n",
       "      <td>...</td>\n",
       "      <td>...</td>\n",
       "      <td>...</td>\n",
       "      <td>...</td>\n",
       "    </tr>\n",
       "    <tr>\n",
       "      <th>23050</th>\n",
       "      <td>-49.75</td>\n",
       "      <td>-19.08</td>\n",
       "      <td>-17.40</td>\n",
       "      <td>11.51</td>\n",
       "      <td>12.78</td>\n",
       "      <td>0.41</td>\n",
       "      <td>70</td>\n",
       "      <td>174</td>\n",
       "    </tr>\n",
       "    <tr>\n",
       "      <th>23051</th>\n",
       "      <td>-49.78</td>\n",
       "      <td>-18.89</td>\n",
       "      <td>-17.38</td>\n",
       "      <td>11.59</td>\n",
       "      <td>12.51</td>\n",
       "      <td>0.49</td>\n",
       "      <td>70</td>\n",
       "      <td>174</td>\n",
       "    </tr>\n",
       "    <tr>\n",
       "      <th>23052</th>\n",
       "      <td>-49.75</td>\n",
       "      <td>-18.64</td>\n",
       "      <td>-17.39</td>\n",
       "      <td>11.63</td>\n",
       "      <td>12.18</td>\n",
       "      <td>0.54</td>\n",
       "      <td>70</td>\n",
       "      <td>174</td>\n",
       "    </tr>\n",
       "    <tr>\n",
       "      <th>23053</th>\n",
       "      <td>-49.72</td>\n",
       "      <td>-18.41</td>\n",
       "      <td>-17.42</td>\n",
       "      <td>11.70</td>\n",
       "      <td>11.89</td>\n",
       "      <td>0.56</td>\n",
       "      <td>70</td>\n",
       "      <td>174</td>\n",
       "    </tr>\n",
       "    <tr>\n",
       "      <th>23054</th>\n",
       "      <td>-49.73</td>\n",
       "      <td>-18.21</td>\n",
       "      <td>-17.44</td>\n",
       "      <td>11.79</td>\n",
       "      <td>11.61</td>\n",
       "      <td>0.52</td>\n",
       "      <td>70</td>\n",
       "      <td>174</td>\n",
       "    </tr>\n",
       "  </tbody>\n",
       "</table>\n",
       "<p>153421 rows × 8 columns</p>\n",
       "</div>"
      ],
      "text/plain": [
       "       Fz bottom (kg)  Fz left (kg)  Fz right (kg)  Fx left (kg)  \\\n",
       "0              -50.52        -11.53         -12.09          9.16   \n",
       "1              -50.32        -11.58         -12.22          9.16   \n",
       "2              -50.18        -11.66         -12.37          9.14   \n",
       "3              -50.09        -11.76         -12.48          9.15   \n",
       "4              -50.09        -11.84         -12.59          9.14   \n",
       "...               ...           ...            ...           ...   \n",
       "23050          -49.75        -19.08         -17.40         11.51   \n",
       "23051          -49.78        -18.89         -17.38         11.59   \n",
       "23052          -49.75        -18.64         -17.39         11.63   \n",
       "23053          -49.72        -18.41         -17.42         11.70   \n",
       "23054          -49.73        -18.21         -17.44         11.79   \n",
       "\n",
       "       Fx right (kg)  Fy (kg)  weight  height  \n",
       "0              11.96     0.24      61     180  \n",
       "1              11.89     0.19      61     180  \n",
       "2              11.85     0.16      61     180  \n",
       "3              11.89     0.14      61     180  \n",
       "4              11.99     0.14      61     180  \n",
       "...              ...      ...     ...     ...  \n",
       "23050          12.78     0.41      70     174  \n",
       "23051          12.51     0.49      70     174  \n",
       "23052          12.18     0.54      70     174  \n",
       "23053          11.89     0.56      70     174  \n",
       "23054          11.61     0.52      70     174  \n",
       "\n",
       "[153421 rows x 8 columns]"
      ]
     },
     "execution_count": 55,
     "metadata": {},
     "output_type": "execute_result"
    }
   ],
   "source": [
    "xfcss_train"
   ]
  },
  {
   "cell_type": "code",
   "execution_count": null,
   "metadata": {},
   "outputs": [],
   "source": []
  },
  {
   "cell_type": "code",
   "execution_count": null,
   "metadata": {},
   "outputs": [],
   "source": []
  },
  {
   "cell_type": "markdown",
   "metadata": {},
   "source": [
    "# Read Output Data\n"
   ]
  },
  {
   "cell_type": "code",
   "execution_count": null,
   "metadata": {},
   "outputs": [],
   "source": []
  },
  {
   "cell_type": "code",
   "execution_count": null,
   "metadata": {},
   "outputs": [],
   "source": []
  },
  {
   "cell_type": "code",
   "execution_count": 59,
   "metadata": {},
   "outputs": [],
   "source": [
    "\n",
    "n_test = (1,2,24,30,31,32,33,35,1,3)\n",
    "date = ('12_2_2020','12_11_2020','11_15_2020','11_24_2020','11_24_2020','11_25_2020','11_25_2020','11_25_2020','12_2_2020','12_11_2020')\n",
    "subj = ['cz','cz','leo','leo','leo','leo','leo','leo','yc','yc']\n",
    "y_gt = {}\n",
    "yrun = 0\n",
    "theta_interest = 'z'\n",
    "for i in range(len(n_test)):\n",
    "    test_str = 'test' + str(n_test[i])\n",
    "    data_dir = os.path.join(r'C:\\Users\\Alex\\Box\\CS598 - Final Project\\Preliminary Data V5','Test_Subject_'+subj[i],test_str)\n",
    "    qtm_file_data_dir = os.path.join(data_dir , 'qtm_processed_'+subj[i]+'_test' + str(n_test[i]) + '_' + date[i] + '.txt')\n",
    "    y_gt[i] = read_output_data(qtm_file_data_dir,theta_interest).values\n",
    "\n",
    "    \n",
    "\n",
    "# tlen = len(y_gt[0])+len(y_gt[1])+len(y_gt[2])+len(y_gt[3])+len(y_gt[4])+len(y_gt[5])\n",
    "# y_train = np.zeros((tlen,1))\n",
    "# xrun = len(y_gt[0])\n",
    "# y_train[:xrun] = y_gt[0][:xrun]\n",
    "# xrun1 = xrun + len(y_gt[1])\n",
    "# y_train[xrun:xrun1]=y_gt[1][:xrun1-xrun]\n",
    "# xrun2 = xrun1 + len(y_gt[2])\n",
    "# y_train[xrun1:xrun2] = y_gt[2][:xrun2-xrun1]\n",
    "# xrun3 = xrun2 + len(y_gt[3])\n",
    "# y_train[xrun2:xrun3] = y_gt[3][:xrun3-xrun2]\n",
    "# xrun4 = xrun3 + len(y_gt[4])\n",
    "# y_train[xrun3:xrun4] = y_gt[4][:xrun4-xrun3]\n",
    "# xrun5 = xrun4 + len(y_gt[5])\n",
    "# y_train[xrun4:xrun5] = y_gt[5][:xrun5-xrun4]\n",
    "# del y_gt"
   ]
  },
  {
   "cell_type": "code",
   "execution_count": 79,
   "metadata": {},
   "outputs": [],
   "source": [
    "tlen=0\n",
    "for x in range(len(y_gt)):\n",
    "    tlen+= y_gt[x].shape[0]\n",
    "yrun_cum = 0\n",
    "y_train = np.zeros((tlen,1))\n",
    "for i in range (len(y_gt)):\n",
    "    yrun_n = len(y_gt[i])\n",
    "    y_train[yrun_cum:yrun_cum+yrun_n] = y_gt[i][:]\n",
    "    yrun_cum += yrun_n"
   ]
  },
  {
   "cell_type": "code",
   "execution_count": 80,
   "metadata": {},
   "outputs": [],
   "source": [
    "## Saturate output\n",
    "def saturate(theta, min_val, max_val):\n",
    "    for i in range(len(theta)):\n",
    "        if theta[i] < min_val:\n",
    "            theta[i] = min_val\n",
    "            continue\n",
    "        if theta[i] > max_val:\n",
    "            theta[i] = max_val\n",
    "            continue\n",
    "    return theta\n",
    "            \n",
    "min_val = -50\n",
    "max_val = 50\n",
    "    \n",
    "y_train = saturate(y_train, min_val, max_val)"
   ]
  },
  {
   "cell_type": "code",
   "execution_count": 81,
   "metadata": {},
   "outputs": [
    {
     "data": {
      "text/plain": [
       "0"
      ]
     },
     "execution_count": 81,
     "metadata": {},
     "output_type": "execute_result"
    }
   ],
   "source": [
    "len(xtemp)"
   ]
  },
  {
   "cell_type": "code",
   "execution_count": 82,
   "metadata": {},
   "outputs": [
    {
     "name": "stdout",
     "output_type": "stream",
     "text": [
      "(153421, 60, 80, 3)\n",
      "(153421, 8)\n",
      "(153421, 1)\n"
     ]
    }
   ],
   "source": [
    "print(x_train.shape)\n",
    "print(xfcss_train.shape)\n",
    "print(y_train.shape)"
   ]
  },
  {
   "cell_type": "code",
   "execution_count": 146,
   "metadata": {},
   "outputs": [],
   "source": [
    "nsamps = x_train.shape[0]\n",
    "n80p = int(np.floor(nsamps*0.8))\n",
    "rannums = np.array(random.sample(range(1,nsamps,1), n80p))\n",
    "s_nfiles = np.arange(nsamps)\n",
    "test_set = np.setdiff1d(s_nfiles,rannums)\n",
    "\n",
    "#"
   ]
  },
  {
   "cell_type": "code",
   "execution_count": 147,
   "metadata": {},
   "outputs": [],
   "source": [
    "Trainset = x_train[rannums,:]\n",
    "Trainset2 = xfcss_train.values[rannums,:]\n",
    "Testset = x_train[test_set,:]\n",
    "Testset2 = xfcss_train.values[test_set,:]\n",
    "# Trainy= y_gt[rannums,:]\n",
    "# Testy = y_gt[test_set,:]\n",
    "Trainy= y_train[rannums,:]\n",
    "Testy = y_train[test_set,:]"
   ]
  },
  {
   "cell_type": "code",
   "execution_count": 148,
   "metadata": {},
   "outputs": [],
   "source": [
    "sc_X2 = StandardScaler()\n",
    "sc_y = StandardScaler()"
   ]
  },
  {
   "cell_type": "code",
   "execution_count": 149,
   "metadata": {},
   "outputs": [],
   "source": [
    "Xtrainz = Trainset\n",
    "Xtrainz2 = Trainset2\n",
    "ytrainz = Trainy\n",
    "X = Xtrainz\n",
    "X2 = sc_X2.fit_transform(Xtrainz2)\n",
    "y = sc_y.fit_transform(ytrainz)"
   ]
  },
  {
   "cell_type": "code",
   "execution_count": 150,
   "metadata": {},
   "outputs": [],
   "source": [
    "#make validation data available to model.fit\n",
    "Xvalid = Testset\n",
    "Xvalid2 = sc_X2.transform(Testset2)\n",
    "y_valid = Testy\n",
    "y_valid = sc_y.transform(y_valid)\n"
   ]
  },
  {
   "cell_type": "markdown",
   "metadata": {},
   "source": [
    "# Regress using Neural Network"
   ]
  },
  {
   "cell_type": "code",
   "execution_count": 88,
   "metadata": {},
   "outputs": [
    {
     "data": {
      "text/plain": [
       "(153421, 60, 80, 3)"
      ]
     },
     "execution_count": 88,
     "metadata": {},
     "output_type": "execute_result"
    }
   ],
   "source": [
    "x_train.shape"
   ]
  },
  {
   "cell_type": "code",
   "execution_count": 89,
   "metadata": {},
   "outputs": [],
   "source": [
    "# Create Neural Netowrk\n",
    "# model = tf.keras.Sequential()\n",
    "# model.add(tf.keras.Input(shape=(X.shape[1],)))\n",
    "# model.add(tf.keras.layers.Dense(200, activation=\"relu\"))\n",
    "# #model.add(tf.keras.layers.Dropout(0.5))\n",
    "# model.add(tf.keras.layers.Dense(200, activation=\"relu\"))\n",
    "# model.add(tf.keras.layers.Dropout(0.5))          \n",
    "# model.add(tf.keras.layers.Dense(100, activation='linear')) #added extra layer. probably overkill but want good results\n",
    "# model.add(tf.keras.layers.Dense(1, activation='linear'))\n",
    "# model.compile(optimizer='adam',\n",
    "#               loss='mae',\n",
    "#               metrics=['mse','mae'])\n",
    "    \n",
    "# # loss_fn = tf.keras.losses.SparseCategoricalCrossentropy(from_logits=True)\n",
    "\n",
    "# # loss_fn(y_train[:1], predictions).numpy()\n",
    "from tensorflow.keras.layers import Bidirectional, Conv2D, MaxPooling2D, Input, concatenate, AveragePooling2D\n",
    "from tensorflow.keras.layers import BatchNormalization\n",
    "from tensorflow.keras.layers import Dense, Activation, Dropout, Reshape, Permute, Flatten\n",
    "from tensorflow.keras.models import Model\n",
    "dropout_rate = 0.2\n",
    "\n",
    "model_start = Input(shape=(x_train.shape[1],x_train.shape[2],x_train.shape[3]))\n",
    "model_start2 = Input(shape=(xfcss_train.shape[1],))\n",
    "model_cnn = model_start\n",
    "model_perc = model_start2\n",
    "\n",
    "model_cnn = Conv2D(filters=16, kernel_size=(3, 3),padding='same')(model_cnn)\n",
    "model_cnn = Activation('relu')(model_cnn)\n",
    "model_cnn = AveragePooling2D(pool_size=(2, 2))(model_cnn)\n",
    "\n",
    "model_perc = Dense(100)(model_perc)\n",
    "model_perc = Activation('relu')(model_perc)\n",
    "\n",
    "model_cnn = Conv2D(filters=32, kernel_size=(3, 3),padding='same')(model_cnn)\n",
    "model_cnn = Activation('relu')(model_cnn)\n",
    "model_cnn = AveragePooling2D(pool_size=(2, 2))(model_cnn)\n",
    "\n",
    "model_perc = Dense(100)(model_perc)\n",
    "model_perc = Activation('relu')(model_perc)\n",
    "\n",
    "model_cnn = Conv2D(filters=64, kernel_size=(3, 3),padding='same')(model_cnn)\n",
    "model_cnn = Activation('relu')(model_cnn)\n",
    "model_cnn = AveragePooling2D(pool_size=(2, 2))(model_cnn)\n",
    "\n",
    "model_cnn = Conv2D(filters=96, kernel_size=(3, 3),padding='same')(model_cnn)\n",
    "model_cnn = Activation('relu')(model_cnn)\n",
    "model_cnn = AveragePooling2D(pool_size=(2, 2))(model_cnn)\n",
    "\n",
    "model_cnn = Flatten()(model_cnn)\n",
    "# model_perc = Flatten()(model_perc)\n",
    "# model_cnn = Activation('relu')(model_cnn)\n",
    "\n",
    "model_cnn = Dense(128)(model_cnn)\n",
    "model_cnn = Activation('relu')(model_cnn)\n",
    "# model_cnn = Dropout(dropout_rate)(model_cnn)\n",
    "\n",
    "model_comb = concatenate([model_cnn,model_perc],axis=-1)\n",
    "\n",
    "model_comb = Dense(100)(model_comb)\n",
    "model_comb = Activation('relu')(model_comb)\n",
    "model_comb = Dropout(dropout_rate)(model_comb)\n",
    "\n",
    "output = Dense(1)(model_comb)\n",
    "output = Activation('linear', name='thetaz_out')(output)\n",
    "model = Model(inputs=[model_start,model_start2],outputs=output)\n",
    "model.compile(optimizer='adam',\n",
    "              loss='mae',\n",
    "              metrics=['mse','mae'])\n",
    "\n",
    "\n",
    "callback = tf.keras.callbacks.EarlyStopping(monitor='val_loss', patience=50,restore_best_weights=True) #Moving to 1000 patience. \n"
   ]
  },
  {
   "cell_type": "code",
   "execution_count": 90,
   "metadata": {},
   "outputs": [
    {
     "name": "stdout",
     "output_type": "stream",
     "text": [
      "Model: \"model\"\n",
      "__________________________________________________________________________________________________\n",
      "Layer (type)                    Output Shape         Param #     Connected to                     \n",
      "==================================================================================================\n",
      "input_1 (InputLayer)            [(None, 60, 80, 3)]  0                                            \n",
      "__________________________________________________________________________________________________\n",
      "conv2d (Conv2D)                 (None, 60, 80, 16)   448         input_1[0][0]                    \n",
      "__________________________________________________________________________________________________\n",
      "activation (Activation)         (None, 60, 80, 16)   0           conv2d[0][0]                     \n",
      "__________________________________________________________________________________________________\n",
      "average_pooling2d (AveragePooli (None, 30, 40, 16)   0           activation[0][0]                 \n",
      "__________________________________________________________________________________________________\n",
      "conv2d_1 (Conv2D)               (None, 30, 40, 32)   4640        average_pooling2d[0][0]          \n",
      "__________________________________________________________________________________________________\n",
      "activation_2 (Activation)       (None, 30, 40, 32)   0           conv2d_1[0][0]                   \n",
      "__________________________________________________________________________________________________\n",
      "average_pooling2d_1 (AveragePoo (None, 15, 20, 32)   0           activation_2[0][0]               \n",
      "__________________________________________________________________________________________________\n",
      "conv2d_2 (Conv2D)               (None, 15, 20, 64)   18496       average_pooling2d_1[0][0]        \n",
      "__________________________________________________________________________________________________\n",
      "activation_4 (Activation)       (None, 15, 20, 64)   0           conv2d_2[0][0]                   \n",
      "__________________________________________________________________________________________________\n",
      "average_pooling2d_2 (AveragePoo (None, 7, 10, 64)    0           activation_4[0][0]               \n",
      "__________________________________________________________________________________________________\n",
      "conv2d_3 (Conv2D)               (None, 7, 10, 96)    55392       average_pooling2d_2[0][0]        \n",
      "__________________________________________________________________________________________________\n",
      "activation_5 (Activation)       (None, 7, 10, 96)    0           conv2d_3[0][0]                   \n",
      "__________________________________________________________________________________________________\n",
      "input_2 (InputLayer)            [(None, 8)]          0                                            \n",
      "__________________________________________________________________________________________________\n",
      "average_pooling2d_3 (AveragePoo (None, 3, 5, 96)     0           activation_5[0][0]               \n",
      "__________________________________________________________________________________________________\n",
      "dense (Dense)                   (None, 100)          900         input_2[0][0]                    \n",
      "__________________________________________________________________________________________________\n",
      "flatten (Flatten)               (None, 1440)         0           average_pooling2d_3[0][0]        \n",
      "__________________________________________________________________________________________________\n",
      "activation_1 (Activation)       (None, 100)          0           dense[0][0]                      \n",
      "__________________________________________________________________________________________________\n",
      "dense_2 (Dense)                 (None, 128)          184448      flatten[0][0]                    \n",
      "__________________________________________________________________________________________________\n",
      "dense_1 (Dense)                 (None, 100)          10100       activation_1[0][0]               \n",
      "__________________________________________________________________________________________________\n",
      "activation_6 (Activation)       (None, 128)          0           dense_2[0][0]                    \n",
      "__________________________________________________________________________________________________\n",
      "activation_3 (Activation)       (None, 100)          0           dense_1[0][0]                    \n",
      "__________________________________________________________________________________________________\n",
      "concatenate (Concatenate)       (None, 228)          0           activation_6[0][0]               \n",
      "                                                                 activation_3[0][0]               \n",
      "__________________________________________________________________________________________________\n",
      "dense_3 (Dense)                 (None, 100)          22900       concatenate[0][0]                \n",
      "__________________________________________________________________________________________________\n",
      "activation_7 (Activation)       (None, 100)          0           dense_3[0][0]                    \n",
      "__________________________________________________________________________________________________\n",
      "dropout (Dropout)               (None, 100)          0           activation_7[0][0]               \n",
      "__________________________________________________________________________________________________\n",
      "dense_4 (Dense)                 (None, 1)            101         dropout[0][0]                    \n",
      "__________________________________________________________________________________________________\n",
      "thetaz_out (Activation)         (None, 1)            0           dense_4[0][0]                    \n",
      "==================================================================================================\n",
      "Total params: 297,425\n",
      "Trainable params: 297,425\n",
      "Non-trainable params: 0\n",
      "__________________________________________________________________________________________________\n"
     ]
    }
   ],
   "source": [
    "model.summary()"
   ]
  },
  {
   "cell_type": "code",
   "execution_count": 93,
   "metadata": {},
   "outputs": [
    {
     "name": "stdout",
     "output_type": "stream",
     "text": [
      "2.1.0\n"
     ]
    }
   ],
   "source": [
    "print(tf.__version__)"
   ]
  },
  {
   "cell_type": "code",
   "execution_count": 95,
   "metadata": {},
   "outputs": [
    {
     "data": {
      "text/plain": [
       "[]"
      ]
     },
     "execution_count": 95,
     "metadata": {},
     "output_type": "execute_result"
    }
   ],
   "source": [
    "tf.config.list_physical_devices('GPU') "
   ]
  },
  {
   "cell_type": "code",
   "execution_count": 139,
   "metadata": {},
   "outputs": [],
   "source": [
    "# create data generator\n",
    "def get_generator_cyclic(features1, features2, labels, batch_size=256):\n",
    "    while True:\n",
    "        for n in range(int(len(features1)/batch_size)):\n",
    "            yield [features1[n*batch_size: (n+1)*batch_size]/255., features2[n*batch_size: (n+1)*batch_size], labels[n*batch_size: (n+1)*batch_size]]\n",
    "        permuted = np.random.permutation(len(features1))\n",
    "        features1 = features1[permuted]\n",
    "        features2 = features2[permuted]\n",
    "        labels = labels[permuted]\n"
   ]
  },
  {
   "cell_type": "code",
   "execution_count": 140,
   "metadata": {},
   "outputs": [
    {
     "data": {
      "text/plain": [
       "<matplotlib.image.AxesImage at 0x21a4d55a710>"
      ]
     },
     "execution_count": 140,
     "metadata": {},
     "output_type": "execute_result"
    },
    {
     "data": {
      "image/png": "[encoded data removed]",
      "text/plain": [
       "<Figure size 432x288 with 1 Axes>"
      ]
     },
     "metadata": {
      "needs_background": "light"
     },
     "output_type": "display_data"
    }
   ],
   "source": [
    "x1, x2, y = next(training_generator)\n",
    "plt.imshow(x1[0])"
   ]
  },
  {
   "cell_type": "code",
   "execution_count": 124,
   "metadata": {},
   "outputs": [],
   "source": [
    "# from tensorflow.keras.preprocessing.image import ImageDataGenerator\n",
    "# image_data_gen = ImageDataGenerator(rescale=1/255.,height_shift_range=0.2, fill_mode='nearest')"
   ]
  },
  {
   "cell_type": "code",
   "execution_count": 138,
   "metadata": {},
   "outputs": [
    {
     "data": {
      "text/plain": [
       "<generator object get_generator_cyclic at 0x0000021A4D65D570>"
      ]
     },
     "execution_count": 138,
     "metadata": {},
     "output_type": "execute_result"
    }
   ],
   "source": [
    "training_generator"
   ]
  },
  {
   "cell_type": "code",
   "execution_count": null,
   "metadata": {
    "scrolled": true
   },
   "outputs": [
    {
     "name": "stdout",
     "output_type": "stream",
     "text": [
      "Train on 122736 samples, validate on 30685 samples\n",
      "Epoch 1/30000\n"
     ]
    }
   ],
   "source": [
    "epochs = int(30000)\n",
    "batch_size = 256\n",
    "# training_generator = get_generator_cyclic(Xtrainz, Xtrainz2, ytrainz, batch_size=batch_size)\n",
    "history = model.fit([X/255.,X2], y,batch_size=batch_size, epochs = epochs,callbacks = [callback],validation_data = ([Xvalid,Xvalid2], y_valid),verbose=2)\n",
    "# history = model.fit_generator(get_generator_cyclic(Xtrainz, Xtrainz2, ytrainz, batch_size=batch_size))\n",
    "\n",
    "\n",
    "# model.save('depthforcemodel.h5')\n",
    "#history.save('depthforcehist.h5')"
   ]
  },
  {
   "cell_type": "code",
   "execution_count": null,
   "metadata": {},
   "outputs": [],
   "source": [
    "#%tensorboard --logdir logs/fit"
   ]
  },
  {
   "cell_type": "code",
   "execution_count": null,
   "metadata": {},
   "outputs": [],
   "source": [
    "def plot_loss(history):\n",
    "    \n",
    "    v1 = history.history['mae']*np.sqrt(sc_y.var_)\n",
    "    v2 = history.history['val_mae']*np.sqrt(sc_y.var_)\n",
    "    fig1 = plt.figure()\n",
    "    ax1 = fig1.add_subplot(111)\n",
    "    ax1.plot(v1, label='mae')\n",
    "    ax1.plot(v2, label='val_mae')\n",
    "    ax1.set_xlabel('Epoch')\n",
    "    ax1.set_ylabel('Error [deg]')\n",
    "    ax1.legend()\n",
    "    ax1.grid(True)\n",
    "    plt.show()\n",
    "    \n",
    "    v3 = history.history['mse']*sc_y.var_\n",
    "    v4 = history.history['val_mse']*sc_y.var_\n",
    "    fig2 = plt.figure()\n",
    "    ax2 = fig2.add_subplot(111)\n",
    "    ax2.plot(v3, label='mse')\n",
    "    ax2.plot(v4, label='val_mse')\n",
    "    ax2.set_xlabel('Epoch')\n",
    "    ax2.set_ylabel('Error [deg^2]')\n",
    "    ax2.legend()\n",
    "    ax2.grid(True)\n",
    "    plt.show()\n",
    "    \n",
    "    \n",
    "plot_loss(history)\n"
   ]
  },
  {
   "cell_type": "markdown",
   "metadata": {},
   "source": [
    "### 4-layer Network: Predict Against Training Data as a Sanity Check"
   ]
  },
  {
   "cell_type": "code",
   "execution_count": null,
   "metadata": {},
   "outputs": [],
   "source": [
    "\n",
    "# sanity check with 80% data\n",
    "Xtrainz = Trainset\n",
    "Xtrainz2 = sc_X2.transform(Trainset2)\n",
    "y_pred = model.predict([Xtrainz,Xtrainz2])\n",
    "#y_pred = sc_y.inverse_transform(y_pred)\n",
    "y_pred = sc_y.inverse_transform(y_pred)\n",
    "y_new = Trainy\n",
    "plt.figure(figsize=(20,6))\n",
    "plt.plot(y_new,'k')\n",
    "plt.plot(y_pred,'r--')\n",
    "plt.title('Prediction of Training Set (Sanity Check)')\n",
    "#plt.axis([xmin, xmax, ymin, ymax])\n",
    "plt.legend(labels=['Ground Truth','Prediction'])\n",
    "plt.show()\n",
    "# Squared-root of Squared Error\n",
    "\n",
    "test_error = (y_pred - y_new)\n",
    "print('Average error is {:4.2f} degrees'.format(np.sum(test_error)/test_error.shape[0]))\n",
    "rmse = np.sqrt(test_error**2)\n",
    "print('Root Mean Squared Error is {:4.2f} degrees'.format(np.sum(rmse)/test_error.shape[0]))\n",
    "# Mean absolute error\n",
    "print('Mean Absolute Error is {:4.2f} degrees'.format(np.sum(np.abs(test_error))/test_error.shape[0]))\n",
    "plt.figure(figsize=(20,6))\n",
    "plt.plot(rmse,'.')\n",
    "plt.title('Sqrt(Squared Error) of Training Set (Sanity Check)')\n",
    "plt.xlabel('Sample')\n",
    "plt.ylabel('Error (degrees)')\n",
    "plt.show()\n",
    "\n",
    "plt.figure()\n",
    "plt.hist(test_error,bins=100)\n",
    "plt.title('Histogram of Residuals in Training Set')\n",
    "plt.xlabel('Angle')\n",
    "plt.ylabel('Frequency')\n",
    "plt.show()\n",
    "\n",
    "#plot scatterplot of data\n",
    "plt.figure(figsize=(10,5))\n",
    "plt.scatter(y_pred,y_new,marker='.',color='black')\n",
    "plt.xlabel('Predicted angle (degrees)')\n",
    "plt.ylabel('Ground truth angle (degrees)')\n",
    "plt.title('Ground truth vs predicted angle of Training Set')\n",
    "plt.show()"
   ]
  },
  {
   "cell_type": "markdown",
   "metadata": {},
   "source": [
    "### 4-layer Neural Network: Predict Test Set"
   ]
  },
  {
   "cell_type": "code",
   "execution_count": null,
   "metadata": {},
   "outputs": [],
   "source": [
    "# Redo test set\n",
    "Xtest = Testset\n",
    "Xtest2 = sc_X2.transform(Testset2)\n",
    "y_pred = model.predict([Xtest,Xtest2])\n",
    "#y_pred = sc_y.inverse_transform(y_pred)\n",
    "y_pred = sc_y.inverse_transform(y_pred)\n",
    "y_new = Testy\n",
    "\n",
    "plt.figure(figsize=(20,6))\n",
    "plt.plot(y_new,'k')\n",
    "plt.plot(y_pred,'r--')\n",
    "plt.title('Prediction of Test')\n",
    "#plt.axis([xmin, xmax, ymin, ymax])\n",
    "plt.legend(labels=['Ground Truth','Prediction'])\n",
    "plt.show()\n",
    "\n",
    "# Squared-root of Squared Error\n",
    "\n",
    "test_error = (y_pred - y_new)\n",
    "print('Average error is {:4.2f} degrees'.format(np.sum(test_error)/test_error.shape[0]))\n",
    "rmse = np.sqrt(test_error**2)\n",
    "print('Root Mean Squared Error is {:4.2f} degrees'.format(np.sum(rmse)/test_error.shape[0]))\n",
    "# Mean absolute error\n",
    "print('Mean Absolute Error is {:4.2f} degrees'.format(np.sum(np.abs(test_error))/test_error.shape[0]))\n",
    "plt.figure(figsize=(20,6))\n",
    "plt.plot(rmse,'.')\n",
    "plt.title('Sqrt(Squared Error) of Test Set')\n",
    "plt.xlabel('Sample')\n",
    "plt.ylabel('Error (degrees)')\n",
    "plt.show()\n",
    "\n",
    "plt.figure()\n",
    "plt.hist(test_error,bins=100)\n",
    "plt.title('Histogram of Residuals in Test Set')\n",
    "plt.xlabel('Angle')\n",
    "plt.ylabel('Frequency')\n",
    "plt.show()\n",
    "\n",
    "#plot scatterplot of data\n",
    "plt.figure(figsize=(10,5))\n",
    "plt.scatter(y_pred,y_new,marker='.',color='black')\n",
    "plt.xlabel('Predicted angle (degrees)')\n",
    "plt.ylabel('Ground truth angle (degrees)')\n",
    "plt.title('Ground truth vs predicted angle')\n",
    "plt.show()"
   ]
  },
  {
   "cell_type": "code",
   "execution_count": null,
   "metadata": {},
   "outputs": [],
   "source": [
    "save_notebookparams = 1\n",
    "if save_notebookparams:\n",
    "    pkl_filename = \"depthforcemodelparam_cnn3v18_pb.pkl\"\n",
    "    randata = {}\n",
    "    randata['nsamps']=nsamps\n",
    "    randata['n80p']=n80p\n",
    "    randata['rannums']=rannums\n",
    "    randata['test_set']=test_set\n",
    "    modelhistory = history.history\n",
    "    \n",
    "    \n",
    "    with open(pkl_filename, 'wb') as file:\n",
    "        pickle.dump([randata,sc_y,sc_X2,modelhistory], file)\n",
    "        \n",
    "    !mkdir -p saved_model\n",
    "    model.save('saved_model/my_model')"
   ]
  },
  {
   "cell_type": "code",
   "execution_count": null,
   "metadata": {},
   "outputs": [],
   "source": []
  },
  {
   "cell_type": "code",
   "execution_count": null,
   "metadata": {},
   "outputs": [],
   "source": []
  },
  {
   "cell_type": "code",
   "execution_count": null,
   "metadata": {},
   "outputs": [],
   "source": []
  },
  {
   "cell_type": "code",
   "execution_count": null,
   "metadata": {},
   "outputs": [],
   "source": []
  }
 ],
 "metadata": {
  "kernelspec": {
   "display_name": "Python 3",
   "language": "python",
   "name": "python3"
  },
  "language_info": {
   "codemirror_mode": {
    "name": "ipython",
    "version": 3
   },
   "file_extension": ".py",
   "mimetype": "text/x-python",
   "name": "python",
   "nbconvert_exporter": "python",
   "pygments_lexer": "ipython3",
   "version": "3.6.12"
  }
 },
 "nbformat": 4,
 "nbformat_minor": 4
}
