{
 "cells": [
  {
   "cell_type": "code",
   "execution_count": 20,
   "metadata": {},
   "outputs": [
    {
     "data": {
      "image/png": "[encoded data removed]",
      "text/plain": [
       "<Figure size 432x288 with 1 Axes>"
      ]
     },
     "metadata": {
      "needs_background": "light"
     },
     "output_type": "display_data"
    }
   ],
   "source": [
    "#change this folder\n",
    "datadir = r'C:\\Users\\77bis\\Box\\CS598 - Final Project\\Preliminary Data V2\\Test_subject_Leo'\n",
    "\n",
    "import numpy as np\n",
    "import matplotlib.pyplot as plt\n",
    "import math\n",
    "import pandas as pd\n",
    "from scipy import signal\n",
    "import pickle\n",
    "from sklearn.preprocessing import StandardScaler\n",
    "import random\n",
    "import tensorflow as tf\n",
    "\n",
    "\n",
    "#Make a Butterworth filter with a 1 Hz cutoff\n",
    "fs = 25\n",
    "Wn= 9 #critical point 1 Hz. switched to 9 Hz to capture more information\n",
    "butter_b,butter_a = signal.iirfilter(N=2, Wn=Wn, btype='lowpass',ftype='butter',fs=25,output='ba') #will use a zero-phase filtering to double the order\n",
    "#signal.filtfilt\n",
    "w,h = signal.freqz(b=butter_b, a=butter_a, worN=None, whole=False, plot=None);\n",
    "fig=plt.figure()\n",
    "freq = w*fs/(2*math.pi);\n",
    "plt.plot(freq, 20 * np.log10(abs(h)), 'b');\n",
    "plt.title('Butterworth filter Frequency Response')\n",
    "plt.xlabel('Frequency (Hz)')\n",
    "plt.ylabel('Magnitude (dB)')\n",
    "plt.grid('on')\n",
    "plt.show()\n",
    "\n",
    "def readdata(datadir,foldername,datenm,pred='z',takelog_dsensor=True, moment_x=True,moment_y=True,filt=True, b=butter_b,a=butter_a):\n",
    "    \n",
    "    tmpstr = datadir + '\\\\'+foldername + r'\\leo_' + foldername + \"_\" + datenm + \"_fdss_final_data.txt\"\n",
    "    tmpstr2 = datadir  +  '\\\\' + foldername + r\"\\leo_\" + foldername + \"_\" + datenm + \"_qtm_final_data.txt\"\n",
    "    \n",
    "    tmpdata = pd.read_csv(tmpstr)\n",
    "    \n",
    "    #filter before log\n",
    "    if filt:\n",
    "        tmpdata['Far left distance sensor (mm)']=signal.filtfilt(b,a,tmpdata['Far left distance sensor (mm)'])\n",
    "        tmpdata['Center left distance sensor (mm)']=signal.filtfilt(b,a,tmpdata['Center left distance sensor (mm)'])\n",
    "        tmpdata['Center right distance sensor (mm)']=signal.filtfilt(b,a,tmpdata['Center right distance sensor (mm)'])\n",
    "        tmpdata['Far right distance sensor (mm)']=signal.filtfilt(b,a,tmpdata['Far right distance sensor (mm)'])\n",
    "    \n",
    "    if takelog_dsensor:\n",
    "        tmpdata['Far left distance sensor (mm)']=np.log(tmpdata['Far left distance sensor (mm)'])\n",
    "        tmpdata['Center left distance sensor (mm)']=np.log(tmpdata['Center left distance sensor (mm)'])\n",
    "        tmpdata['Center right distance sensor (mm)']=np.log(tmpdata['Center right distance sensor (mm)'])\n",
    "        tmpdata['Far right distance sensor (mm)']=np.log(tmpdata['Far right distance sensor (mm)'])\n",
    "    \n",
    "    if moment_y:\n",
    "        d1 = 0.19\n",
    "        d2 = 0.08\n",
    "        g = 9.81\n",
    "        if moment_x:\n",
    "            tmpdata['My']= (tmpdata['Fx left (kg)'] + tmpdata['Fx right (kg)'])*d2*g\n",
    "        else:\n",
    "            tmpdata['My']= ((tmpdata['Fz left (kg)'] + tmpdata['Fz right (kg)'])*d1+ (tmpdata['Fx left (kg)'] + tmpdata['Fx right (kg)'])*d2)*g\n",
    "        #try a part of momentum\n",
    "        \n",
    "        del tmpdata['Fx left (kg)']\n",
    "        del tmpdata['Fx right (kg)']\n",
    "    if moment_x:\n",
    "        #Collapse Fz data to obtain theta_x\n",
    "        d3 = 0.19\n",
    "        g = 9.81\n",
    "        tmpdata['Mx']= (tmpdata['Fz right (kg)'] - tmpdata['Fz left (kg)'])*d3*g\n",
    "        \n",
    "        del tmpdata['Fz left (kg)']\n",
    "        del tmpdata['Fz right (kg)']\n",
    "\n",
    "    #Reads-in the SVR Model for theta_y and also the Scaling Parameters        \n",
    "    pkl_filename = \"svr_thetay_model.pkl\"\n",
    "    with open(pkl_filename, 'rb') as file:\n",
    "        est_thetay = pickle.load(file)\n",
    "    pkl1_filename = \"Xsc_thetay.pkl\"\n",
    "    with open(pkl1_filename, 'rb') as file:\n",
    "        sc_X_thetay = pickle.load(file)\n",
    "    pkl2_filename = \"ysc_thetay.pkl\"\n",
    "    with open(pkl2_filename, 'rb') as file:\n",
    "        sc_y_thetay = pickle.load(file)\n",
    "    \n",
    "    sc_X = StandardScaler()\n",
    "    Xtest = tmpdata.values\n",
    "    Xtest = sc_X_thetay.transform(Xtest)\n",
    "    y_pred = est_thetay.predict(Xtest)\n",
    "    y_pred1 = sc_y_thetay.inverse_transform(y_pred)\n",
    "\n",
    "    \n",
    "    tmpdata['thetahat_y']=y_pred1\n",
    "    \n",
    "    del tmpdata['My']\n",
    "    \n",
    "    if pred=='x':\n",
    "        tmpdata2 = pd.read_csv(tmpstr2,usecols=[\"Lean Left/Right Angle (deg)\"])\n",
    "    \n",
    "    if pred=='y':\n",
    "        tmpdata2 = pd.read_csv(tmpstr2,usecols=[\"Lean Forward/Backwards Angle (deg)\"])\n",
    "        \n",
    "    if pred=='z':\n",
    "        tmpdata2 = pd.read_csv(tmpstr2,usecols=[\"Torso Twist Angle (deg)\"])\n",
    "        \n",
    "    \n",
    "        \n",
    "    return pd.concat([tmpdata, tmpdata2],axis=1)\n",
    "\n",
    "def create_model():\n",
    "    model = tf.keras.Sequential()\n",
    "    model.add(tf.keras.Input(shape=(6,)))\n",
    "    model.add(tf.keras.layers.Dense(200, activation=\"relu\"))\n",
    "    model.add(tf.keras.layers.Dense(200, activation=\"relu\"))\n",
    "    model.add(tf.keras.layers.Dense(200, activation='relu')) #added extra layer. probably overkill but want good results\n",
    "    model.add(tf.keras.layers.Dense(1, activation='linear'))\n",
    "    model.compile(optimizer='adam',\n",
    "              loss='mse',\n",
    "              metrics=['mse','mae'])\n",
    "    \n",
    "    return model\n",
    "    "
   ]
  },
  {
   "cell_type": "code",
   "execution_count": 21,
   "metadata": {
    "scrolled": true
   },
   "outputs": [
    {
     "ename": "FileNotFoundError",
     "evalue": "[Errno 2] No such file or directory: 'C:\\\\Users\\\\77bis\\\\Box\\\\CS598 - Final Project\\\\Preliminary Data V2\\\\test1\\\\leo_test1_10_27_2020_fdss_final_data.txt'",
     "output_type": "error",
     "traceback": [
      "\u001b[1;31m---------------------------------------------------------------------------\u001b[0m",
      "\u001b[1;31mFileNotFoundError\u001b[0m                         Traceback (most recent call last)",
      "\u001b[1;32m<ipython-input-21-1d6418c4b9ea>\u001b[0m in \u001b[0;36m<module>\u001b[1;34m\u001b[0m\n\u001b[0;32m      1\u001b[0m \u001b[0mdatenm\u001b[0m \u001b[1;33m=\u001b[0m \u001b[1;34m\"10_27_2020\"\u001b[0m\u001b[1;33m\u001b[0m\u001b[1;33m\u001b[0m\u001b[0m\n\u001b[0;32m      2\u001b[0m \u001b[0mfoldername\u001b[0m \u001b[1;33m=\u001b[0m \u001b[1;34m\"test1\"\u001b[0m\u001b[1;33m\u001b[0m\u001b[1;33m\u001b[0m\u001b[0m\n\u001b[1;32m----> 3\u001b[1;33m \u001b[0mx\u001b[0m \u001b[1;33m=\u001b[0m \u001b[0mreaddata\u001b[0m\u001b[1;33m(\u001b[0m\u001b[0mdatadir\u001b[0m\u001b[1;33m,\u001b[0m\u001b[0mfoldername\u001b[0m\u001b[1;33m,\u001b[0m\u001b[0mdatenm\u001b[0m\u001b[1;33m)\u001b[0m\u001b[1;33m\u001b[0m\u001b[1;33m\u001b[0m\u001b[0m\n\u001b[0m\u001b[0;32m      4\u001b[0m \u001b[0mfoldername\u001b[0m \u001b[1;33m=\u001b[0m \u001b[1;34m\"test2\"\u001b[0m\u001b[1;33m\u001b[0m\u001b[1;33m\u001b[0m\u001b[0m\n\u001b[0;32m      5\u001b[0m \u001b[0mx2\u001b[0m \u001b[1;33m=\u001b[0m \u001b[0mreaddata\u001b[0m\u001b[1;33m(\u001b[0m\u001b[0mdatadir\u001b[0m\u001b[1;33m,\u001b[0m\u001b[0mfoldername\u001b[0m\u001b[1;33m,\u001b[0m\u001b[0mdatenm\u001b[0m\u001b[1;33m)\u001b[0m\u001b[1;33m\u001b[0m\u001b[1;33m\u001b[0m\u001b[0m\n",
      "\u001b[1;32m<ipython-input-20-124356ed0d96>\u001b[0m in \u001b[0;36mreaddata\u001b[1;34m(datadir, foldername, datenm, pred, takelog_dsensor, moment_x, moment_y, filt, b, a)\u001b[0m\n\u001b[0;32m     33\u001b[0m     \u001b[0mtmpstr2\u001b[0m \u001b[1;33m=\u001b[0m \u001b[0mdatadir\u001b[0m  \u001b[1;33m+\u001b[0m  \u001b[1;34m'\\\\'\u001b[0m \u001b[1;33m+\u001b[0m \u001b[0mfoldername\u001b[0m \u001b[1;33m+\u001b[0m \u001b[1;34mr\"\\leo_\"\u001b[0m \u001b[1;33m+\u001b[0m \u001b[0mfoldername\u001b[0m \u001b[1;33m+\u001b[0m \u001b[1;34m\"_\"\u001b[0m \u001b[1;33m+\u001b[0m \u001b[0mdatenm\u001b[0m \u001b[1;33m+\u001b[0m \u001b[1;34m\"_qtm_final_data.txt\"\u001b[0m\u001b[1;33m\u001b[0m\u001b[1;33m\u001b[0m\u001b[0m\n\u001b[0;32m     34\u001b[0m \u001b[1;33m\u001b[0m\u001b[0m\n\u001b[1;32m---> 35\u001b[1;33m     \u001b[0mtmpdata\u001b[0m \u001b[1;33m=\u001b[0m \u001b[0mpd\u001b[0m\u001b[1;33m.\u001b[0m\u001b[0mread_csv\u001b[0m\u001b[1;33m(\u001b[0m\u001b[0mtmpstr\u001b[0m\u001b[1;33m)\u001b[0m\u001b[1;33m\u001b[0m\u001b[1;33m\u001b[0m\u001b[0m\n\u001b[0m\u001b[0;32m     36\u001b[0m \u001b[1;33m\u001b[0m\u001b[0m\n\u001b[0;32m     37\u001b[0m     \u001b[1;31m#filter before log\u001b[0m\u001b[1;33m\u001b[0m\u001b[1;33m\u001b[0m\u001b[1;33m\u001b[0m\u001b[0m\n",
      "\u001b[1;32m~\\anaconda3\\envs\\python3.6\\lib\\site-packages\\pandas\\io\\parsers.py\u001b[0m in \u001b[0;36mread_csv\u001b[1;34m(filepath_or_buffer, sep, delimiter, header, names, index_col, usecols, squeeze, prefix, mangle_dupe_cols, dtype, engine, converters, true_values, false_values, skipinitialspace, skiprows, skipfooter, nrows, na_values, keep_default_na, na_filter, verbose, skip_blank_lines, parse_dates, infer_datetime_format, keep_date_col, date_parser, dayfirst, cache_dates, iterator, chunksize, compression, thousands, decimal, lineterminator, quotechar, quoting, doublequote, escapechar, comment, encoding, dialect, error_bad_lines, warn_bad_lines, delim_whitespace, low_memory, memory_map, float_precision)\u001b[0m\n\u001b[0;32m    686\u001b[0m     )\n\u001b[0;32m    687\u001b[0m \u001b[1;33m\u001b[0m\u001b[0m\n\u001b[1;32m--> 688\u001b[1;33m     \u001b[1;32mreturn\u001b[0m \u001b[0m_read\u001b[0m\u001b[1;33m(\u001b[0m\u001b[0mfilepath_or_buffer\u001b[0m\u001b[1;33m,\u001b[0m \u001b[0mkwds\u001b[0m\u001b[1;33m)\u001b[0m\u001b[1;33m\u001b[0m\u001b[1;33m\u001b[0m\u001b[0m\n\u001b[0m\u001b[0;32m    689\u001b[0m \u001b[1;33m\u001b[0m\u001b[0m\n\u001b[0;32m    690\u001b[0m \u001b[1;33m\u001b[0m\u001b[0m\n",
      "\u001b[1;32m~\\anaconda3\\envs\\python3.6\\lib\\site-packages\\pandas\\io\\parsers.py\u001b[0m in \u001b[0;36m_read\u001b[1;34m(filepath_or_buffer, kwds)\u001b[0m\n\u001b[0;32m    452\u001b[0m \u001b[1;33m\u001b[0m\u001b[0m\n\u001b[0;32m    453\u001b[0m     \u001b[1;31m# Create the parser.\u001b[0m\u001b[1;33m\u001b[0m\u001b[1;33m\u001b[0m\u001b[1;33m\u001b[0m\u001b[0m\n\u001b[1;32m--> 454\u001b[1;33m     \u001b[0mparser\u001b[0m \u001b[1;33m=\u001b[0m \u001b[0mTextFileReader\u001b[0m\u001b[1;33m(\u001b[0m\u001b[0mfp_or_buf\u001b[0m\u001b[1;33m,\u001b[0m \u001b[1;33m**\u001b[0m\u001b[0mkwds\u001b[0m\u001b[1;33m)\u001b[0m\u001b[1;33m\u001b[0m\u001b[1;33m\u001b[0m\u001b[0m\n\u001b[0m\u001b[0;32m    455\u001b[0m \u001b[1;33m\u001b[0m\u001b[0m\n\u001b[0;32m    456\u001b[0m     \u001b[1;32mif\u001b[0m \u001b[0mchunksize\u001b[0m \u001b[1;32mor\u001b[0m \u001b[0miterator\u001b[0m\u001b[1;33m:\u001b[0m\u001b[1;33m\u001b[0m\u001b[1;33m\u001b[0m\u001b[0m\n",
      "\u001b[1;32m~\\anaconda3\\envs\\python3.6\\lib\\site-packages\\pandas\\io\\parsers.py\u001b[0m in \u001b[0;36m__init__\u001b[1;34m(self, f, engine, **kwds)\u001b[0m\n\u001b[0;32m    946\u001b[0m             \u001b[0mself\u001b[0m\u001b[1;33m.\u001b[0m\u001b[0moptions\u001b[0m\u001b[1;33m[\u001b[0m\u001b[1;34m\"has_index_names\"\u001b[0m\u001b[1;33m]\u001b[0m \u001b[1;33m=\u001b[0m \u001b[0mkwds\u001b[0m\u001b[1;33m[\u001b[0m\u001b[1;34m\"has_index_names\"\u001b[0m\u001b[1;33m]\u001b[0m\u001b[1;33m\u001b[0m\u001b[1;33m\u001b[0m\u001b[0m\n\u001b[0;32m    947\u001b[0m \u001b[1;33m\u001b[0m\u001b[0m\n\u001b[1;32m--> 948\u001b[1;33m         \u001b[0mself\u001b[0m\u001b[1;33m.\u001b[0m\u001b[0m_make_engine\u001b[0m\u001b[1;33m(\u001b[0m\u001b[0mself\u001b[0m\u001b[1;33m.\u001b[0m\u001b[0mengine\u001b[0m\u001b[1;33m)\u001b[0m\u001b[1;33m\u001b[0m\u001b[1;33m\u001b[0m\u001b[0m\n\u001b[0m\u001b[0;32m    949\u001b[0m \u001b[1;33m\u001b[0m\u001b[0m\n\u001b[0;32m    950\u001b[0m     \u001b[1;32mdef\u001b[0m \u001b[0mclose\u001b[0m\u001b[1;33m(\u001b[0m\u001b[0mself\u001b[0m\u001b[1;33m)\u001b[0m\u001b[1;33m:\u001b[0m\u001b[1;33m\u001b[0m\u001b[1;33m\u001b[0m\u001b[0m\n",
      "\u001b[1;32m~\\anaconda3\\envs\\python3.6\\lib\\site-packages\\pandas\\io\\parsers.py\u001b[0m in \u001b[0;36m_make_engine\u001b[1;34m(self, engine)\u001b[0m\n\u001b[0;32m   1178\u001b[0m     \u001b[1;32mdef\u001b[0m \u001b[0m_make_engine\u001b[0m\u001b[1;33m(\u001b[0m\u001b[0mself\u001b[0m\u001b[1;33m,\u001b[0m \u001b[0mengine\u001b[0m\u001b[1;33m=\u001b[0m\u001b[1;34m\"c\"\u001b[0m\u001b[1;33m)\u001b[0m\u001b[1;33m:\u001b[0m\u001b[1;33m\u001b[0m\u001b[1;33m\u001b[0m\u001b[0m\n\u001b[0;32m   1179\u001b[0m         \u001b[1;32mif\u001b[0m \u001b[0mengine\u001b[0m \u001b[1;33m==\u001b[0m \u001b[1;34m\"c\"\u001b[0m\u001b[1;33m:\u001b[0m\u001b[1;33m\u001b[0m\u001b[1;33m\u001b[0m\u001b[0m\n\u001b[1;32m-> 1180\u001b[1;33m             \u001b[0mself\u001b[0m\u001b[1;33m.\u001b[0m\u001b[0m_engine\u001b[0m \u001b[1;33m=\u001b[0m \u001b[0mCParserWrapper\u001b[0m\u001b[1;33m(\u001b[0m\u001b[0mself\u001b[0m\u001b[1;33m.\u001b[0m\u001b[0mf\u001b[0m\u001b[1;33m,\u001b[0m \u001b[1;33m**\u001b[0m\u001b[0mself\u001b[0m\u001b[1;33m.\u001b[0m\u001b[0moptions\u001b[0m\u001b[1;33m)\u001b[0m\u001b[1;33m\u001b[0m\u001b[1;33m\u001b[0m\u001b[0m\n\u001b[0m\u001b[0;32m   1181\u001b[0m         \u001b[1;32melse\u001b[0m\u001b[1;33m:\u001b[0m\u001b[1;33m\u001b[0m\u001b[1;33m\u001b[0m\u001b[0m\n\u001b[0;32m   1182\u001b[0m             \u001b[1;32mif\u001b[0m \u001b[0mengine\u001b[0m \u001b[1;33m==\u001b[0m \u001b[1;34m\"python\"\u001b[0m\u001b[1;33m:\u001b[0m\u001b[1;33m\u001b[0m\u001b[1;33m\u001b[0m\u001b[0m\n",
      "\u001b[1;32m~\\anaconda3\\envs\\python3.6\\lib\\site-packages\\pandas\\io\\parsers.py\u001b[0m in \u001b[0;36m__init__\u001b[1;34m(self, src, **kwds)\u001b[0m\n\u001b[0;32m   2008\u001b[0m         \u001b[0mkwds\u001b[0m\u001b[1;33m[\u001b[0m\u001b[1;34m\"usecols\"\u001b[0m\u001b[1;33m]\u001b[0m \u001b[1;33m=\u001b[0m \u001b[0mself\u001b[0m\u001b[1;33m.\u001b[0m\u001b[0musecols\u001b[0m\u001b[1;33m\u001b[0m\u001b[1;33m\u001b[0m\u001b[0m\n\u001b[0;32m   2009\u001b[0m \u001b[1;33m\u001b[0m\u001b[0m\n\u001b[1;32m-> 2010\u001b[1;33m         \u001b[0mself\u001b[0m\u001b[1;33m.\u001b[0m\u001b[0m_reader\u001b[0m \u001b[1;33m=\u001b[0m \u001b[0mparsers\u001b[0m\u001b[1;33m.\u001b[0m\u001b[0mTextReader\u001b[0m\u001b[1;33m(\u001b[0m\u001b[0msrc\u001b[0m\u001b[1;33m,\u001b[0m \u001b[1;33m**\u001b[0m\u001b[0mkwds\u001b[0m\u001b[1;33m)\u001b[0m\u001b[1;33m\u001b[0m\u001b[1;33m\u001b[0m\u001b[0m\n\u001b[0m\u001b[0;32m   2011\u001b[0m         \u001b[0mself\u001b[0m\u001b[1;33m.\u001b[0m\u001b[0munnamed_cols\u001b[0m \u001b[1;33m=\u001b[0m \u001b[0mself\u001b[0m\u001b[1;33m.\u001b[0m\u001b[0m_reader\u001b[0m\u001b[1;33m.\u001b[0m\u001b[0munnamed_cols\u001b[0m\u001b[1;33m\u001b[0m\u001b[1;33m\u001b[0m\u001b[0m\n\u001b[0;32m   2012\u001b[0m \u001b[1;33m\u001b[0m\u001b[0m\n",
      "\u001b[1;32mpandas\\_libs\\parsers.pyx\u001b[0m in \u001b[0;36mpandas._libs.parsers.TextReader.__cinit__\u001b[1;34m()\u001b[0m\n",
      "\u001b[1;32mpandas\\_libs\\parsers.pyx\u001b[0m in \u001b[0;36mpandas._libs.parsers.TextReader._setup_parser_source\u001b[1;34m()\u001b[0m\n",
      "\u001b[1;31mFileNotFoundError\u001b[0m: [Errno 2] No such file or directory: 'C:\\\\Users\\\\77bis\\\\Box\\\\CS598 - Final Project\\\\Preliminary Data V2\\\\test1\\\\leo_test1_10_27_2020_fdss_final_data.txt'"
     ]
    }
   ],
   "source": [
    "\n",
    "datenm = \"10_27_2020\"\n",
    "foldername = \"test1\"\n",
    "x = readdata(datadir,foldername,datenm)\n",
    "foldername = \"test2\"\n",
    "x2 = readdata(datadir,foldername,datenm)\n",
    "foldername = \"test3\"\n",
    "x3 = readdata(datadir,foldername,datenm)\n",
    "foldername = \"test4\"\n",
    "x4 = readdata(datadir,foldername,datenm)\n",
    "foldername = \"test5\"\n",
    "x5 = readdata(datadir,foldername,datenm)\n",
    "xfull = pd.concat([x, x2, x3, x4, x5], axis=0)"
   ]
  },
  {
   "cell_type": "code",
   "execution_count": 18,
   "metadata": {},
   "outputs": [
    {
     "data": {
      "text/plain": [
       "'est'"
      ]
     },
     "execution_count": 18,
     "metadata": {},
     "output_type": "execute_result"
    }
   ],
   "source": [
    "foldername[1:-1]"
   ]
  }
 ],
 "metadata": {
  "kernelspec": {
   "display_name": "Python 3",
   "language": "python",
   "name": "python3"
  },
  "language_info": {
   "codemirror_mode": {
    "name": "ipython",
    "version": 3
   },
   "file_extension": ".py",
   "mimetype": "text/x-python",
   "name": "python",
   "nbconvert_exporter": "python",
   "pygments_lexer": "ipython3",
   "version": "3.6.12"
  }
 },
 "nbformat": 4,
 "nbformat_minor": 4
}
