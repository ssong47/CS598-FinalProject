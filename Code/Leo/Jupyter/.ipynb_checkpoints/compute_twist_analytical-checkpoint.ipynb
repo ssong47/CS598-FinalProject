{
 "cells": [
  {
   "cell_type": "code",
   "execution_count": 1,
   "metadata": {},
   "outputs": [],
   "source": [
    "import numpy as np\n",
    "import matplotlib.pyplot as plt\n",
    "import math\n",
    "import pandas as pd\n",
    "from scipy import signal\n",
    "import pickle\n",
    "from sklearn.linear_model import LinearRegression\n",
    "from sklearn.preprocessing import StandardScaler\n",
    "from sklearn.svm import SVR\n",
    "import random\n",
    "import tensorflow as tf\n",
    "import cv2\n",
    "from scipy import stats\n",
    "\n"
   ]
  },
  {
   "cell_type": "markdown",
   "metadata": {},
   "source": [
    "# Drawing Polygons and Lines on images"
   ]
  },
  {
   "cell_type": "code",
   "execution_count": 2,
   "metadata": {},
   "outputs": [],
   "source": [
    "\n",
    "\n",
    "\n",
    "# Create a black image\n",
    "img = np.zeros((512,512,3), np.uint8)\n",
    "\n",
    "\n",
    "# Draw a diagonal blue line with thickness of 5 px\n",
    "cv2.line(img,(40,0),(511,511),(255,0,0),5)\n",
    "\n",
    "# Note that the drawing functions actually alters the image. To refresh, you need to recall the frame or image again\n",
    "\n",
    "cv2.imshow('image',img)\n",
    "\n",
    "cv2.waitKey(0)\n",
    "cv2.destroyAllWindows()"
   ]
  },
  {
   "cell_type": "markdown",
   "metadata": {},
   "source": [
    "# Read Depth Camera"
   ]
  },
  {
   "cell_type": "code",
   "execution_count": 3,
   "metadata": {},
   "outputs": [],
   "source": [
    "# For reading depth camera\n",
    "def read_depth_camera(dcamera_path, show_video, n_resize):\n",
    "    video  = cv2.VideoCapture(dcamera_path)\n",
    "    ret, frame = video.read()\n",
    "    \n",
    "    # Get total # of frame count \n",
    "    frame_count = int(video.get(cv2.CAP_PROP_FRAME_COUNT))\n",
    "        \n",
    "    frame_height = int(frame.shape[0])\n",
    "    frame_width = int(frame.shape[1])\n",
    "\n",
    "    \n",
    "    depth_frames = np.empty((frame_count, int(frame_height/n_resize), int(frame_width/n_resize)))\n",
    "    \n",
    "    count = 0\n",
    "    while (video.isOpened()):\n",
    "        ret, frame = video.read()\n",
    "        \n",
    "        if ret == True:\n",
    "            gray_frame = cv2.cvtColor(frame, cv2.COLOR_BGR2GRAY)\n",
    "            gray_frame = cv2.resize(gray_frame, \\\n",
    "                                    (int(frame_width/n_resize), int(frame_height/n_resize)),\\\n",
    "                                    interpolation = cv2.INTER_AREA)\n",
    "\n",
    "            depth_frames[count] = gray_frame\n",
    "            if show_video == True:\n",
    "                cv2.imshow(\"Depth\", gray_frame)\n",
    "                if cv2.waitKey(1) & 0xFF == ord('q'):\n",
    "                    break\n",
    "            count = count + 1\n",
    "        else: \n",
    "            break\n",
    "            \n",
    "\n",
    "    video.release()\n",
    "    cv2.destroyAllWindows()\n",
    "    return depth_frames"
   ]
  },
  {
   "cell_type": "code",
   "execution_count": 4,
   "metadata": {},
   "outputs": [],
   "source": [
    "def play_video(read_frames):\n",
    "\n",
    "    for i in range(len(read_frames)):\n",
    "        # Capture frame-by-frame\n",
    "        frame = read_frames[i]\n",
    "\n",
    "        # Display the resulting frame\n",
    "        cv2.imshow('frame',frame)\n",
    "        if cv2.waitKey(1) & 0xFF == ord('q'):\n",
    "            break\n",
    "    cv2.destroyAllWindows()\n",
    "\n",
    "    return"
   ]
  },
  {
   "cell_type": "code",
   "execution_count": 5,
   "metadata": {},
   "outputs": [],
   "source": [
    "def show_frame(read_frames, frame_range):\n",
    "      # Capture frame-by-frame\n",
    "\n",
    "    # Display the resulting frame\n",
    "    for i in frame_range:\n",
    "        fig = plt.figure(figsize=(6,6))        \n",
    "        a = plt.imshow(read_frames[i])\n",
    "        \n",
    "    return"
   ]
  },
  {
   "cell_type": "code",
   "execution_count": 81,
   "metadata": {},
   "outputs": [],
   "source": [
    "\n",
    "n_test = 35\n",
    "date = '11_25_2020'\n",
    "test_str = r'\\test' + str(n_test)\n",
    "data_dir = r\"C:\\Users\\77bis\\Box\\CS598 - Final Project\\Preliminary Data V5\\Test_Subject_leo\" + test_str\n",
    "\n",
    "train_dcamera_path = data_dir + r'\\depth_processed_leo_test'+str(n_test)+'.avi'\n",
    "show_video = 0\n",
    "n_resize = 1\n",
    "x_train = read_depth_camera(train_dcamera_path, show_video, n_resize)\n"
   ]
  },
  {
   "cell_type": "code",
   "execution_count": 82,
   "metadata": {},
   "outputs": [],
   "source": [
    "show_frame(x_train, [1])"
   ]
  },
  {
   "cell_type": "markdown",
   "metadata": {},
   "source": [
    "# Read Output Data\n"
   ]
  },
  {
   "cell_type": "code",
   "execution_count": 9,
   "metadata": {},
   "outputs": [],
   "source": [
    "def read_output_data(qtm_file_data, theta):\n",
    "    if theta=='x':\n",
    "        qtm_data = pd.read_csv(qtm_file_data, usecols = [\"Lean Left/Right Angle (deg)\"])\n",
    "    if theta=='y':\n",
    "        qtm_data = pd.read_csv(qtm_file_data, usecols = [\"Lean Forward/Backwards Angle (deg)\"])\n",
    "    if theta=='z':\n",
    "        qtm_data = pd.read_csv(qtm_file_data, usecols = [\"Torso Twist Angle (deg)\"])\n",
    "        \n",
    "    \n",
    "    return qtm_data\n"
   ]
  },
  {
   "cell_type": "code",
   "execution_count": 85,
   "metadata": {
    "scrolled": true
   },
   "outputs": [],
   "source": [
    "test_str = r'\\test' + str(n_test)\n",
    "date = '11_25_2020'\n",
    "data_dir = r\"C:\\Users\\77bis\\Box\\CS598 - Final Project\\Preliminary Data V5\\Test_Subject_leo\" + test_str\n",
    "qtm_file_data_dir = data_dir + r'\\qtm_processed_leo_test' + str(n_test) + '_' + date + '.txt'\n",
    "show_qtm_plot = True\n",
    "theta_interest = 'z'\n",
    "y_train = read_output_data(qtm_file_data_dir,theta_interest).values\n",
    "theta_x = read_output_data(qtm_file_data_dir,'x').values\n",
    "theta_y = read_output_data(qtm_file_data_dir,'y').values\n",
    "theta_z = read_output_data(qtm_file_data_dir,'z').values"
   ]
  },
  {
   "cell_type": "markdown",
   "metadata": {},
   "source": [
    "# Find Regions of Interest (ROI)"
   ]
  },
  {
   "cell_type": "code",
   "execution_count": 11,
   "metadata": {},
   "outputs": [],
   "source": [
    "def obtain_pixels_roi(frame, pts):\n",
    "    # create mask with zeros\n",
    "    mask = np.zeros((frame.shape), dtype = np.uint8)\n",
    "    # Apply mask using pts\n",
    "    cv2.fillPoly(mask, [pts], (255,255,255))\n",
    "    \n",
    "    # get color values \n",
    "    values = frame[np.where((mask == 255))]\n",
    "    \n",
    "    return(values)"
   ]
  },
  {
   "cell_type": "code",
   "execution_count": 12,
   "metadata": {},
   "outputs": [],
   "source": [
    "def define_roi(frame, theta_x, theta_y, show_fig):\n",
    "    # all units are in pixels\n",
    "    \n",
    "    # height of C7 in y-axis\n",
    "    c7_h = 55\n",
    "    \n",
    "    # multiplying factors for computing shifts and tilting of spine and shoulder lines\n",
    "    amp_y = 0.95\n",
    "    offset_y = 45\n",
    "    amp_x = 0.9\n",
    "    \n",
    "    # center of person in neutral position in x-axis\n",
    "    sit_center_x_n = 80\n",
    "    \n",
    "    # y-position of center of person's butt is always at the bottom of image \n",
    "    sit_center_y = frame.shape[0]\n",
    "    \n",
    "    # x-position of center of person's butt changes as the person leans left and right\n",
    "    sit_center_x = int(sit_center_x_n - amp_x * sit_center_x_n * math.sin(theta_x * math.pi/180))\n",
    "    \n",
    "    # x-position of the spinal line changes as the person leans left and right\n",
    "    spine_x = int(-c7_h * math.sin(amp_x * theta_x * math.pi/180) + sit_center_x)\n",
    "    \n",
    "    # y-position of the spinal line extends to the top of the image\n",
    "    spine_y = 0\n",
    "    \n",
    "    # shoulder width\n",
    "    shoulder_w = 40\n",
    "    \n",
    "    # left shoulder zone top left (tl) point coordinates\n",
    "    shld_l_tl_x = spine_x - shoulder_w\n",
    "    shld_l_tl_y = 0\n",
    "    \n",
    "    # left shoulder zone bottom left (bl) point coordinates\n",
    "    shld_l_bl_x = sit_center_x - shoulder_w\n",
    "    shld_l_bl_y = sit_center_y\n",
    "    \n",
    "    # right shoulder zone top right (tr) point coordinates\n",
    "    shld_r_tr_x = spine_x + shoulder_w\n",
    "    shld_r_tr_y = 0\n",
    "    \n",
    "    # right shoulder zone bottom right (br) point coordinates\n",
    "    shld_r_br_x = sit_center_x + shoulder_w\n",
    "    shld_r_br_y = sit_center_y\n",
    "    \n",
    "    \n",
    "    # define points for left shoulder zone\n",
    "    pts_l = np.array([[shld_l_tl_x, shld_l_tl_y], [shld_l_bl_x, shld_l_bl_y], [sit_center_x, sit_center_y], [spine_x, spine_y]])\n",
    "    pts_l = pts_l.reshape((-1,1,2))\n",
    "    \n",
    "    \n",
    "    # define points for right shoulder zone\n",
    "    pts_r = np.array([[shld_r_tr_x, shld_r_tr_y], [shld_r_br_x, shld_r_br_y], [sit_center_x, sit_center_y], [spine_x, spine_y]])\n",
    "    pts_r = pts_r.reshape((-1,1,2))\n",
    "    \n",
    "    if show_fig == True:\n",
    "        # Draw the shoulder zones\n",
    "        cv2.polylines(frame, [pts_l], True, (255,255,255)) # left zone\n",
    "        cv2.polylines(frame, [pts_r], True, (255,255,255)) # right zone\n",
    "\n",
    "        # Plot\n",
    "        plt.figure(figsize = (4,4))\n",
    "        plt.imshow(frame, cmap = 'gray', interpolation = 'bicubic')\n",
    "        plt.show()\n",
    "\n",
    "    # Obtain pixel values within each shoulder zone\n",
    "    pxs_l = obtain_pixels_roi(frame, pts_l)\n",
    "    pxs_r = obtain_pixels_roi(frame, pts_r)\n",
    "    \n",
    "    \n",
    "\n",
    "    \n",
    "    return (pxs_l, pxs_r)"
   ]
  },
  {
   "cell_type": "markdown",
   "metadata": {},
   "source": [
    "# Calculate Angle of Upper Torso"
   ]
  },
  {
   "cell_type": "code",
   "execution_count": 86,
   "metadata": {},
   "outputs": [
    {
     "data": {
      "text/plain": [
       "<matplotlib.image.AxesImage at 0x1d7647cdf28>"
      ]
     },
     "execution_count": 86,
     "metadata": {},
     "output_type": "execute_result"
    }
   ],
   "source": [
    "# x_train = read_depth_camera(train_dcamera_path, show_video, n_resize)\n",
    "j = 0\n",
    "frame = x_train[j]\n",
    "\n",
    "pxs_l, pxs_r = define_roi(frame, theta_x[j], theta_y[j], show_fig = False)\n",
    "\n",
    "framecopy = np.uint8(frame)\n",
    "edges = cv2.Canny(framecopy, 100, 200)\n",
    "# sobelx = cv2.Sobel(edges, cv2.CV_64F, 1, 0)\n",
    "# sobely = cv2.Sobel(edges, cv2.CV_64F, 0, 1)\n",
    "\n",
    "# angles = np.zeros((sobelx.shape))\n",
    "# cv2.phase(sobelx, sobely, angle = angles, angleInDegrees = True)\n",
    "\n",
    "plt.imshow(edges)\n",
    "# plt.figure(figsize = (5,5))\n",
    "# plt.imshow(sobelx, cmap = 'gray')\n",
    "\n",
    "# plt.figure(figsize = (5,5))\n",
    "# plt.imshow(sobely, cmap = 'gray')"
   ]
  },
  {
   "cell_type": "markdown",
   "metadata": {},
   "source": [
    "# Compute $\\Delta{\\overline{d}}$ from Regions of Interest (ROI)"
   ]
  },
  {
   "cell_type": "code",
   "execution_count": 87,
   "metadata": {
    "scrolled": true
   },
   "outputs": [
    {
     "name": "stderr",
     "output_type": "stream",
     "text": [
      "C:\\Users\\77bis\\anaconda3\\envs\\python3.6\\lib\\site-packages\\ipykernel_launcher.py:13: RuntimeWarning: Mean of empty slice\n",
      "  del sys.path[0]\n",
      "C:\\Users\\77bis\\anaconda3\\envs\\python3.6\\lib\\site-packages\\numpy\\lib\\nanfunctions.py:1665: RuntimeWarning: Degrees of freedom <= 0 for slice.\n",
      "  keepdims=keepdims)\n",
      "C:\\Users\\77bis\\anaconda3\\envs\\python3.6\\lib\\site-packages\\ipykernel_launcher.py:17: RuntimeWarning: Mean of empty slice\n",
      "C:\\Users\\77bis\\anaconda3\\envs\\python3.6\\lib\\site-packages\\ipykernel_launcher.py:14: RuntimeWarning: Mean of empty slice\n",
      "  \n"
     ]
    }
   ],
   "source": [
    "x_train = read_depth_camera(train_dcamera_path, show_video, n_resize)\n",
    "diff_dis = np.empty((len(x_train),1))\n",
    "mean_l = np.empty((len(x_train),1))\n",
    "mean_r = np.empty((len(x_train),1))\n",
    "std_l = np.empty((len(x_train),1))\n",
    "std_r = np.empty((len(x_train),1))\n",
    "\n",
    "# for j in [1, 3500]:\n",
    "for j in range(len(x_train)):    \n",
    "    pxs_l, pxs_r = define_roi(x_train[j], theta_x[j], theta_y[j], show_fig = False)\n",
    "    pxs_l[pxs_l == 0] = np.nan\n",
    "    pxs_r[pxs_r == 0] = np.nan\n",
    "    mean_l[j] = np.nanmean(pxs_l)\n",
    "    mean_r[j] = np.nanmean(pxs_r)\n",
    "    std_l[j] = np.nanstd(pxs_l)\n",
    "    std_r[j] = np.nanstd(pxs_r)\n",
    "    diff_dis[j] = np.nanmean(pxs_l) - np.nanmean(pxs_r)\n",
    "#     print(diff_dis[j])\n",
    "\n",
    "\n",
    "diff_dis = np.nan_to_num(diff_dis)\n",
    "mean_l = np.nan_to_num(mean_l)\n",
    "mean_r = np.nan_to_num(mean_r)\n",
    "std_l = np.nan_to_num(std_l)\n",
    "std_r = np.nan_to_num(std_r)"
   ]
  },
  {
   "cell_type": "code",
   "execution_count": 89,
   "metadata": {},
   "outputs": [
    {
     "data": {
      "text/plain": [
       "[<matplotlib.lines.Line2D at 0x1d755e4d5c0>]"
      ]
     },
     "execution_count": 89,
     "metadata": {},
     "output_type": "execute_result"
    }
   ],
   "source": [
    "%matplotlib qt\n",
    "# Plot the results \n",
    "data_i = np.linspace(0, len(x_train), len(x_train))\n",
    "plt.figure(figsize = (15,5))\n",
    "plt.plot(data_i, diff_dis)\n",
    "plt.plot(data_i, theta_z)\n"
   ]
  },
  {
   "cell_type": "markdown",
   "metadata": {},
   "source": [
    "# Regress $\\Delta{\\overline{d}}$ to $\\theta_z$ using Polynomial Regression"
   ]
  },
  {
   "cell_type": "code",
   "execution_count": 18,
   "metadata": {},
   "outputs": [],
   "source": [
    "# Define index of interest\n",
    "c = 8 # time_offset\n",
    "i_start = 1\n",
    "i_end = len(theta_z)-c\n",
    "\n",
    "# i_start = 3525\n",
    "# i_end = 3678\n",
    "\n",
    "\n",
    "# i_start = 1\n",
    "# i_end = 5500\n",
    "\n",
    "# Define X and Y\n",
    "X = diff_dis[i_start:i_end,0]\n",
    "Y = theta_z[i_start+c:i_end+c,0]\n",
    "\n",
    "# Polynomial Regression\n",
    "z = np.polyfit(X,Y,2)\n",
    "p = np.poly1d(z)\n",
    "\n",
    "\n",
    "# Predict\n",
    "Y_pred = p(X)\n"
   ]
  },
  {
   "cell_type": "code",
   "execution_count": 19,
   "metadata": {},
   "outputs": [
    {
     "data": {
      "text/plain": [
       "<matplotlib.legend.Legend at 0x1d755ca4780>"
      ]
     },
     "execution_count": 19,
     "metadata": {},
     "output_type": "execute_result"
    }
   ],
   "source": [
    "# Plot the prediction and true\n",
    "plt.figure(figsize = (5,5))\n",
    "data_i = np.linspace(0,(i_end - i_start), (i_end - i_start ))\n",
    "\n",
    "a1 = plt.plot(data_i, Y_pred, 'k-')\n",
    "a2 =  plt.plot(data_i, Y, 'r-')\n",
    "# a3 = plt.plot(data_i, X,'b-')\n",
    "\n",
    "plt.ylabel('twist angle(deg)')\n",
    "plt.xlabel('data index')\n",
    "plt.legend(['pred','true'])"
   ]
  },
  {
   "cell_type": "markdown",
   "metadata": {},
   "source": [
    "# Regress $\\Delta{\\overline{d}}$ to $\\theta_z$ using Linear Regression"
   ]
  },
  {
   "cell_type": "code",
   "execution_count": 20,
   "metadata": {
    "scrolled": true
   },
   "outputs": [
    {
     "name": "stdout",
     "output_type": "stream",
     "text": [
      "slope and intercepts: 0.5771287165029068 ,  -2.42597162411396\n",
      "r-value: 0.7687402854354931\n"
     ]
    }
   ],
   "source": [
    "# Define index of interest\n",
    "c = 8 # time_offset\n",
    "# i_start = 1\n",
    "# i_end = len(theta_z)-c\n",
    "\n",
    "# i_start = 3525\n",
    "# i_end = 3678\n",
    "\n",
    "i_start = 1\n",
    "i_end = 5500\n",
    "\n",
    "\n",
    "# Regress X and Y \n",
    "\n",
    "X = diff_dis[i_start:i_end,0]\n",
    "Y = theta_z[i_start + c:i_end + c,0]\n",
    "\n",
    "slope, intercept, r_value, p_value,std_error = stats.linregress(X, Y)\n",
    "\n",
    "\n",
    "print('slope and intercepts:', str(slope), ', ', str(intercept))\n",
    "print('r-value:', str(r_value))\n",
    "\n"
   ]
  },
  {
   "cell_type": "code",
   "execution_count": 21,
   "metadata": {},
   "outputs": [
    {
     "data": {
      "text/plain": [
       "[<matplotlib.lines.Line2D at 0x1d7572f2f98>]"
      ]
     },
     "execution_count": 21,
     "metadata": {},
     "output_type": "execute_result"
    }
   ],
   "source": [
    "# plotting zone of interest\n",
    "data_i = np.linspace(0,(i_end - i_start), (i_end - i_start ))\n",
    "plt.figure(figsize = (15,5))\n",
    "plt.plot(data_i, X)\n",
    "plt.plot(data_i, Y)\n"
   ]
  },
  {
   "cell_type": "code",
   "execution_count": 22,
   "metadata": {},
   "outputs": [],
   "source": [
    "# Plot the raw data and correlation\n",
    "plt.figure(figsize = (5,5))\n",
    "plt.plot(X, Y, 'o', label='original data')\n",
    "plt.plot(X, intercept + slope*X, 'r', label='fitted line')\n",
    "plt.legend()\n",
    "plt.show()\n",
    "\n"
   ]
  },
  {
   "cell_type": "code",
   "execution_count": 23,
   "metadata": {},
   "outputs": [],
   "source": [
    "# Plot the prediction and true\n",
    "plt.figure(figsize = (5,5))\n",
    "data_i = np.linspace(0,(i_end - i_start), (i_end - i_start ))\n",
    "\n",
    "a1 = plt.plot(data_i, Y, 'k-')\n",
    "a2 =  plt.plot(data_i, intercept + slope * X, 'r-')\n",
    "# a3 = plt.plot(data_i, X,'b-')\n",
    "\n",
    "plt.ylabel('twist angle(deg)')\n",
    "plt.xlabel('data index')\n",
    "plt.legend(['true','pred', 'raw'])\n",
    "plt.grid(which='both')"
   ]
  },
  {
   "cell_type": "markdown",
   "metadata": {},
   "source": [
    "# Observations\n",
    "The regression works well when the person is in neutral position. The next best scenarios occur when the person is leaning forward/backward or left/right. The worst case scenario is when the person is leaning front and sideways (because the depth doesn't change as much due to the field of view. You only see the contours of the shoulders moving).\n",
    "\n",
    "Thus, we should somehow get a metric for the contour as well. \n",
    "\n",
    "Or we can try multivariate regression using theta_x and theta_y, so that they can somehow amplify the diff_dis term"
   ]
  },
  {
   "cell_type": "markdown",
   "metadata": {},
   "source": [
    "# Regress $\\Delta{\\overline{d}}$ to $\\theta_z$ using Multivariate Linear Regression"
   ]
  },
  {
   "cell_type": "code",
   "execution_count": 24,
   "metadata": {
    "scrolled": true
   },
   "outputs": [],
   "source": [
    "# Define index of interest\n",
    "c = 8 # time_offset\n",
    "i_start = 1\n",
    "i_end = len(theta_z)-c\n",
    "\n",
    "# i_start = 3525\n",
    "# i_end = 3678\n",
    "\n",
    "\n",
    "# X = np.hstack((mean_l[i_start:i_end,:], mean_r[i_start:i_end,:])) #, theta_x[i_start:i_end,:], theta_y[i_start:i_end,:])) #, diff_dis[i_start:i_end,:]))\n",
    "# X = np.hstack((diff_dis[i_start:i_end,:], theta_x[i_start:i_end,:], theta_y[i_start:i_end,:]))\n",
    "X = np.hstack((mean_l[i_start:i_end,:], mean_r[i_start:i_end,:],  mean_l[i_start:i_end,:] * theta_x[i_start:i_end,:], mean_r[i_start:i_end,:] * theta_x[i_start:i_end,:]))\n",
    "Y = np.array(theta_z[i_start:i_end,:])\n"
   ]
  },
  {
   "cell_type": "code",
   "execution_count": 25,
   "metadata": {},
   "outputs": [],
   "source": [
    "# Regress\n",
    "linear_regression = LinearRegression(fit_intercept = True)#copy_X = True, fit_intercept = True, normalize = True)\n",
    "linear_regression.fit(X,Y)\n",
    "\n",
    "# predict\n",
    "Y_pred = linear_regression.predict(X)"
   ]
  },
  {
   "cell_type": "code",
   "execution_count": 26,
   "metadata": {},
   "outputs": [
    {
     "data": {
      "text/plain": [
       "<matplotlib.legend.Legend at 0x1d755f4d710>"
      ]
     },
     "execution_count": 26,
     "metadata": {},
     "output_type": "execute_result"
    }
   ],
   "source": [
    "# plot\n",
    "plt.figure(figsize = (5,5))\n",
    "data_i = np.linspace(0,(i_end - i_start), (i_end - i_start ))\n",
    "\n",
    "a1 = plt.plot(data_i, Y, 'k-')\n",
    "a2 =  plt.plot(data_i, Y_pred, 'r-')\n",
    "\n",
    "plt.ylabel('twist angle(deg)')\n",
    "plt.xlabel('data index')\n",
    "plt.legend(['true','pred',])"
   ]
  },
  {
   "cell_type": "markdown",
   "metadata": {},
   "source": [
    "# Regress using SVR "
   ]
  },
  {
   "cell_type": "code",
   "execution_count": 27,
   "metadata": {},
   "outputs": [],
   "source": [
    "def standardize(data):\n",
    "    \n",
    "    z = data - np.mean(data) / np.std(data)\n",
    "\n",
    "\n",
    "    return(z)"
   ]
  },
  {
   "cell_type": "code",
   "execution_count": 95,
   "metadata": {},
   "outputs": [],
   "source": [
    "# Obtain X and Y data\n",
    "c = 8\n",
    "# i_start = 3525\n",
    "# i_end = 3678 - c\n",
    "\n",
    "\n",
    "i_start = 1\n",
    "i_end = len(x_train)\n",
    "\n",
    "X = np.array([standardize(theta_x[i_start:i_end,0]), standardize(theta_y[i_start:i_end,0]), standardize(diff_dis[i_start:i_end,0])]).transpose()\n",
    "Y = standardize(theta_z[i_start+c:i_end+c,0])\n"
   ]
  },
  {
   "cell_type": "code",
   "execution_count": 29,
   "metadata": {
    "scrolled": true
   },
   "outputs": [
    {
     "data": {
      "text/plain": [
       "SVR(C=10)"
      ]
     },
     "execution_count": 29,
     "metadata": {},
     "output_type": "execute_result"
    }
   ],
   "source": [
    "# Fit SVR to the dataset\n",
    "regressor = SVR(kernel = 'rbf',C = 10)\n",
    "regressor.fit(X, Y)"
   ]
  },
  {
   "cell_type": "code",
   "execution_count": 30,
   "metadata": {},
   "outputs": [],
   "source": [
    "y_pred = regressor.predict(X)\n",
    "y_new = Y\n",
    "plt.figure\n",
    "plt.plot(y_new,'k-')\n",
    "plt.plot(y_pred,'r-')\n",
    "plt.legend(labels=['Ground Truth','Prediction'])\n",
    "plt.title('Train with set 1 and Test with set 1')\n",
    "plt.ylabel('Angle (degrees))')\n",
    "plt.show()"
   ]
  },
  {
   "cell_type": "markdown",
   "metadata": {},
   "source": [
    "# Regress using Neural Network"
   ]
  },
  {
   "cell_type": "code",
   "execution_count": 96,
   "metadata": {},
   "outputs": [],
   "source": [
    "# Obtain X and Y data\n",
    "c = 8\n",
    "i_start = 3525\n",
    "i_end = 3678 - c\n",
    "\n",
    "i_start = 2300\n",
    "i_end = 5050 - c\n",
    "\n",
    "i_start = 1\n",
    "i_end = len(x_train) - c\n",
    "\n",
    "# X = np.array([standardize(theta_x[i_start:i_end,0]), standardize(theta_y[i_start:i_end,0]), standardize(diff_dis[i_start:i_end,0])]).transpose()\n",
    "# X = np.hstack((mean_l[i_start:i_end,:], mean_r[i_start:i_end,:],\\\n",
    "#                theta_x[i_start:i_end,:],  theta_y[i_start:i_end,:],\\\n",
    "#                std_l[i_start:i_end,:], std_r[i_start:i_end,:]))\n",
    "\n",
    "X = np.hstack((mean_l[i_start:i_end,:], mean_r[i_start:i_end,:]))\n",
    "               \n",
    "               \n",
    "               \n",
    "# X = np.hstack((mean_l[i_start:i_end,:], mean_r[i_start:i_end,:],\\\n",
    "#                std_l[i_start:i_end,:], std_r[i_start:i_end,:]))\n",
    "\n",
    "\n",
    "Y = standardize(theta_z[i_start+c:i_end+c,0])\n"
   ]
  },
  {
   "cell_type": "code",
   "execution_count": 52,
   "metadata": {},
   "outputs": [],
   "source": [
    "lr_schedule = tf.keras.optimizers.schedules.InverseTimeDecay(\n",
    "  0.001,\n",
    "  decay_steps=STEPS_PER_EPOCH*100,\n",
    "  decay_rate=1,\n",
    "  staircase=False)\n",
    "\n",
    "def get_optimizer():\n",
    "    return tf.keras.optimizers.Adam(lr_schedule)"
   ]
  },
  {
   "cell_type": "code",
   "execution_count": 67,
   "metadata": {},
   "outputs": [],
   "source": [
    "import tensorflow_docs as tfdocs\n",
    "import tensorflow_docs.modeling\n",
    "import tensorflow_docs.plots\n",
    "import pathlib\n",
    "import tempfile\n",
    "\n",
    "logdir = pathlib.Path(tempfile.mkdtemp())/\"tensorboard_logs\"\n"
   ]
  },
  {
   "cell_type": "code",
   "execution_count": 62,
   "metadata": {},
   "outputs": [],
   "source": [
    "def get_callbacks(name):\n",
    "    return [\n",
    "    tfdocs.modeling.EpochDots(),\n",
    "    tf.keras.callbacks.EarlyStopping(monitor='mae', patience=200),\n",
    "    tf.keras.callbacks.TensorBoard(logdir/name),\n",
    "    ]"
   ]
  },
  {
   "cell_type": "code",
   "execution_count": 59,
   "metadata": {},
   "outputs": [],
   "source": [
    "def compile_and_fit(X,Y, model, name, optimizer=None, max_epochs=10000):\n",
    "    if optimizer is None:\n",
    "        optimizer = get_optimizer()\n",
    "        \n",
    "    model.compile(optimizer=optimizer,\n",
    "                loss = 'mae',\n",
    "                metrics=['mae'])\n",
    "\n",
    "    model.summary()\n",
    "\n",
    "    history = model.fit(\n",
    "        X, Y,\n",
    "        steps_per_epoch = STEPS_PER_EPOCH,\n",
    "        epochs=max_epochs,\n",
    "        validation_split = 0.2,\n",
    "        callbacks=get_callbacks(name),\n",
    "        verbose=0)\n",
    "    return history"
   ]
  },
  {
   "cell_type": "code",
   "execution_count": 109,
   "metadata": {},
   "outputs": [],
   "source": [
    "FEATURES = 2\n",
    "# N_VALIDATION = len()\n",
    "N_TRAIN = len(X)\n",
    "# BUFFER_SIZE = int(1e4)\n",
    "BATCH_SIZE = 100\n",
    "STEPS_PER_EPOCH = N_TRAIN"
   ]
  },
  {
   "cell_type": "code",
   "execution_count": 111,
   "metadata": {},
   "outputs": [],
   "source": [
    "# Create Neural Netowrk\n",
    "dropout_rate = 0.2\n",
    "tiny_model = tf.keras.models.Sequential([\n",
    "        tf.keras.layers.Dense(200, activation='relu', input_shape = (FEATURES, )),\n",
    "        tf.keras.layers.Dropout(dropout_rate),\n",
    "        tf.keras.layers.Dense(200, activation='relu'),\n",
    "        tf.keras.layers.Dropout(dropout_rate),\n",
    "        tf.keras.layers.Dense(200, activation='relu'),\n",
    "        tf.keras.layers.Dropout(dropout_rate),\n",
    "        tf.keras.layers.Dense(1, activation = 'linear')\n",
    "])\n",
    "    \n",
    "tiny_model.compile(optimizer = 'adam',\n",
    "#     loss = tf.keras.losses.SparseCategoricalCrossentropy(from_logits=True),\n",
    "#     loss = tf.keras.losses.CategoricalCrossentropy(from_logits=True),\n",
    "    loss = 'mae',\n",
    "    metrics = ['mae'])"
   ]
  },
  {
   "cell_type": "code",
   "execution_count": 112,
   "metadata": {},
   "outputs": [
    {
     "name": "stdout",
     "output_type": "stream",
     "text": [
      "Model: \"sequential_13\"\n",
      "_________________________________________________________________\n",
      "Layer (type)                 Output Shape              Param #   \n",
      "=================================================================\n",
      "dense_44 (Dense)             (None, 200)               600       \n",
      "_________________________________________________________________\n",
      "dropout_21 (Dropout)         (None, 200)               0         \n",
      "_________________________________________________________________\n",
      "dense_45 (Dense)             (None, 200)               40200     \n",
      "_________________________________________________________________\n",
      "dropout_22 (Dropout)         (None, 200)               0         \n",
      "_________________________________________________________________\n",
      "dense_46 (Dense)             (None, 200)               40200     \n",
      "_________________________________________________________________\n",
      "dropout_23 (Dropout)         (None, 200)               0         \n",
      "_________________________________________________________________\n",
      "dense_47 (Dense)             (None, 1)                 201       \n",
      "=================================================================\n",
      "Total params: 81,201\n",
      "Trainable params: 81,201\n",
      "Non-trainable params: 0\n",
      "_________________________________________________________________\n"
     ]
    }
   ],
   "source": [
    "tiny_model.summary()"
   ]
  },
  {
   "cell_type": "code",
   "execution_count": 68,
   "metadata": {
    "scrolled": true
   },
   "outputs": [
    {
     "name": "stdout",
     "output_type": "stream",
     "text": [
      "Model: \"sequential_8\"\n",
      "_________________________________________________________________\n",
      "Layer (type)                 Output Shape              Param #   \n",
      "=================================================================\n",
      "dense_26 (Dense)             (None, 16)                64        \n",
      "_________________________________________________________________\n",
      "dense_27 (Dense)             (None, 1)                 17        \n",
      "=================================================================\n",
      "Total params: 81\n",
      "Trainable params: 81\n",
      "Non-trainable params: 0\n",
      "_________________________________________________________________\n",
      "WARNING:tensorflow:Callback method `on_train_batch_begin` is slow compared to the batch time (batch time: 0.0006s vs `on_train_batch_begin` time: 0.0015s). Check your callbacks.\n",
      "WARNING:tensorflow:Callback method `on_train_batch_end` is slow compared to the batch time (batch time: 0.0006s vs `on_train_batch_end` time: 0.0925s). Check your callbacks.\n",
      "\n",
      "Epoch: 0, loss:5.5908,  mae:5.5908,  val_loss:4.8216,  val_mae:4.8216,  \n",
      "....................................................................................................\n",
      "Epoch: 100, loss:4.4014,  mae:4.4014,  val_loss:4.7996,  val_mae:4.7996,  \n",
      "....................................................................................................\n",
      "Epoch: 200, loss:4.3210,  mae:4.3210,  val_loss:4.8472,  val_mae:4.8472,  \n",
      "....................................................................................................\n",
      "Epoch: 300, loss:4.2637,  mae:4.2637,  val_loss:4.6448,  val_mae:4.6448,  \n",
      "....................................................................................................\n",
      "Epoch: 400, loss:4.2016,  mae:4.2016,  val_loss:4.7724,  val_mae:4.7724,  \n",
      "....................................................................................................\n",
      "Epoch: 500, loss:4.2396,  mae:4.2396,  val_loss:4.7781,  val_mae:4.7781,  \n",
      "....................................................................................................\n",
      "Epoch: 600, loss:4.2186,  mae:4.2186,  val_loss:4.7060,  val_mae:4.7060,  \n",
      "....................................................................................................\n",
      "Epoch: 700, loss:4.2459,  mae:4.2459,  val_loss:4.8687,  val_mae:4.8687,  \n",
      "........"
     ]
    },
    {
     "ename": "KeyboardInterrupt",
     "evalue": "",
     "output_type": "error",
     "traceback": [
      "\u001b[1;31m---------------------------------------------------------------------------\u001b[0m",
      "\u001b[1;31mKeyboardInterrupt\u001b[0m                         Traceback (most recent call last)",
      "\u001b[1;32m<ipython-input-68-e61e85366ad9>\u001b[0m in \u001b[0;36m<module>\u001b[1;34m\u001b[0m\n\u001b[0;32m      1\u001b[0m \u001b[0msize_histories\u001b[0m \u001b[1;33m=\u001b[0m \u001b[1;33m{\u001b[0m\u001b[1;33m}\u001b[0m\u001b[1;33m\u001b[0m\u001b[1;33m\u001b[0m\u001b[0m\n\u001b[1;32m----> 2\u001b[1;33m \u001b[0msize_histories\u001b[0m\u001b[1;33m[\u001b[0m\u001b[1;34m'Tiny_leo'\u001b[0m\u001b[1;33m]\u001b[0m \u001b[1;33m=\u001b[0m \u001b[0mcompile_and_fit\u001b[0m\u001b[1;33m(\u001b[0m\u001b[0mX\u001b[0m\u001b[1;33m,\u001b[0m \u001b[0mY\u001b[0m\u001b[1;33m,\u001b[0m \u001b[0mtiny_model\u001b[0m\u001b[1;33m,\u001b[0m \u001b[1;34m'sizes/Tiny_leo'\u001b[0m\u001b[1;33m)\u001b[0m\u001b[1;33m\u001b[0m\u001b[1;33m\u001b[0m\u001b[0m\n\u001b[0m",
      "\u001b[1;32m<ipython-input-59-59dda811ec53>\u001b[0m in \u001b[0;36mcompile_and_fit\u001b[1;34m(X, Y, model, name, optimizer, max_epochs)\u001b[0m\n\u001b[0;32m     15\u001b[0m         \u001b[0mvalidation_split\u001b[0m \u001b[1;33m=\u001b[0m \u001b[1;36m0.2\u001b[0m\u001b[1;33m,\u001b[0m\u001b[1;33m\u001b[0m\u001b[1;33m\u001b[0m\u001b[0m\n\u001b[0;32m     16\u001b[0m         \u001b[0mcallbacks\u001b[0m\u001b[1;33m=\u001b[0m\u001b[0mget_callbacks\u001b[0m\u001b[1;33m(\u001b[0m\u001b[0mname\u001b[0m\u001b[1;33m)\u001b[0m\u001b[1;33m,\u001b[0m\u001b[1;33m\u001b[0m\u001b[1;33m\u001b[0m\u001b[0m\n\u001b[1;32m---> 17\u001b[1;33m         verbose=0)\n\u001b[0m\u001b[0;32m     18\u001b[0m     \u001b[1;32mreturn\u001b[0m \u001b[0mhistory\u001b[0m\u001b[1;33m\u001b[0m\u001b[1;33m\u001b[0m\u001b[0m\n",
      "\u001b[1;32m~\\anaconda3\\envs\\python3.6\\lib\\site-packages\\tensorflow\\python\\keras\\engine\\training.py\u001b[0m in \u001b[0;36mfit\u001b[1;34m(self, x, y, batch_size, epochs, verbose, callbacks, validation_split, validation_data, shuffle, class_weight, sample_weight, initial_epoch, steps_per_epoch, validation_steps, validation_batch_size, validation_freq, max_queue_size, workers, use_multiprocessing)\u001b[0m\n\u001b[0;32m   1130\u001b[0m                 _r=1):\n\u001b[0;32m   1131\u001b[0m               \u001b[0mcallbacks\u001b[0m\u001b[1;33m.\u001b[0m\u001b[0mon_train_batch_begin\u001b[0m\u001b[1;33m(\u001b[0m\u001b[0mstep\u001b[0m\u001b[1;33m)\u001b[0m\u001b[1;33m\u001b[0m\u001b[1;33m\u001b[0m\u001b[0m\n\u001b[1;32m-> 1132\u001b[1;33m               \u001b[0mtmp_logs\u001b[0m \u001b[1;33m=\u001b[0m \u001b[0mself\u001b[0m\u001b[1;33m.\u001b[0m\u001b[0mtrain_function\u001b[0m\u001b[1;33m(\u001b[0m\u001b[0miterator\u001b[0m\u001b[1;33m)\u001b[0m\u001b[1;33m\u001b[0m\u001b[1;33m\u001b[0m\u001b[0m\n\u001b[0m\u001b[0;32m   1133\u001b[0m               \u001b[1;32mif\u001b[0m \u001b[0mdata_handler\u001b[0m\u001b[1;33m.\u001b[0m\u001b[0mshould_sync\u001b[0m\u001b[1;33m:\u001b[0m\u001b[1;33m\u001b[0m\u001b[1;33m\u001b[0m\u001b[0m\n\u001b[0;32m   1134\u001b[0m                 \u001b[0mcontext\u001b[0m\u001b[1;33m.\u001b[0m\u001b[0masync_wait\u001b[0m\u001b[1;33m(\u001b[0m\u001b[1;33m)\u001b[0m\u001b[1;33m\u001b[0m\u001b[1;33m\u001b[0m\u001b[0m\n",
      "\u001b[1;32m~\\anaconda3\\envs\\python3.6\\lib\\site-packages\\tensorflow\\python\\eager\\def_function.py\u001b[0m in \u001b[0;36m__call__\u001b[1;34m(self, *args, **kwds)\u001b[0m\n\u001b[0;32m    795\u001b[0m     \u001b[0mtracing_count\u001b[0m \u001b[1;33m=\u001b[0m \u001b[0mself\u001b[0m\u001b[1;33m.\u001b[0m\u001b[0mexperimental_get_tracing_count\u001b[0m\u001b[1;33m(\u001b[0m\u001b[1;33m)\u001b[0m\u001b[1;33m\u001b[0m\u001b[1;33m\u001b[0m\u001b[0m\n\u001b[0;32m    796\u001b[0m     \u001b[1;32mwith\u001b[0m \u001b[0mtrace\u001b[0m\u001b[1;33m.\u001b[0m\u001b[0mTrace\u001b[0m\u001b[1;33m(\u001b[0m\u001b[0mself\u001b[0m\u001b[1;33m.\u001b[0m\u001b[0m_name\u001b[0m\u001b[1;33m)\u001b[0m \u001b[1;32mas\u001b[0m \u001b[0mtm\u001b[0m\u001b[1;33m:\u001b[0m\u001b[1;33m\u001b[0m\u001b[1;33m\u001b[0m\u001b[0m\n\u001b[1;32m--> 797\u001b[1;33m       \u001b[0mresult\u001b[0m \u001b[1;33m=\u001b[0m \u001b[0mself\u001b[0m\u001b[1;33m.\u001b[0m\u001b[0m_call\u001b[0m\u001b[1;33m(\u001b[0m\u001b[1;33m*\u001b[0m\u001b[0margs\u001b[0m\u001b[1;33m,\u001b[0m \u001b[1;33m**\u001b[0m\u001b[0mkwds\u001b[0m\u001b[1;33m)\u001b[0m\u001b[1;33m\u001b[0m\u001b[1;33m\u001b[0m\u001b[0m\n\u001b[0m\u001b[0;32m    798\u001b[0m       \u001b[0mcompiler\u001b[0m \u001b[1;33m=\u001b[0m \u001b[1;34m\"xla\"\u001b[0m \u001b[1;32mif\u001b[0m \u001b[0mself\u001b[0m\u001b[1;33m.\u001b[0m\u001b[0m_jit_compile\u001b[0m \u001b[1;32melse\u001b[0m \u001b[1;34m\"nonXla\"\u001b[0m\u001b[1;33m\u001b[0m\u001b[1;33m\u001b[0m\u001b[0m\n\u001b[0;32m    799\u001b[0m       \u001b[0mnew_tracing_count\u001b[0m \u001b[1;33m=\u001b[0m \u001b[0mself\u001b[0m\u001b[1;33m.\u001b[0m\u001b[0mexperimental_get_tracing_count\u001b[0m\u001b[1;33m(\u001b[0m\u001b[1;33m)\u001b[0m\u001b[1;33m\u001b[0m\u001b[1;33m\u001b[0m\u001b[0m\n",
      "\u001b[1;32m~\\anaconda3\\envs\\python3.6\\lib\\site-packages\\tensorflow\\python\\eager\\def_function.py\u001b[0m in \u001b[0;36m_call\u001b[1;34m(self, *args, **kwds)\u001b[0m\n\u001b[0;32m    823\u001b[0m       \u001b[1;31m# In this case we have created variables on the first call, so we run the\u001b[0m\u001b[1;33m\u001b[0m\u001b[1;33m\u001b[0m\u001b[1;33m\u001b[0m\u001b[0m\n\u001b[0;32m    824\u001b[0m       \u001b[1;31m# defunned version which is guaranteed to never create variables.\u001b[0m\u001b[1;33m\u001b[0m\u001b[1;33m\u001b[0m\u001b[1;33m\u001b[0m\u001b[0m\n\u001b[1;32m--> 825\u001b[1;33m       \u001b[1;32mreturn\u001b[0m \u001b[0mself\u001b[0m\u001b[1;33m.\u001b[0m\u001b[0m_stateless_fn\u001b[0m\u001b[1;33m(\u001b[0m\u001b[1;33m*\u001b[0m\u001b[0margs\u001b[0m\u001b[1;33m,\u001b[0m \u001b[1;33m**\u001b[0m\u001b[0mkwds\u001b[0m\u001b[1;33m)\u001b[0m  \u001b[1;31m# pylint: disable=not-callable\u001b[0m\u001b[1;33m\u001b[0m\u001b[1;33m\u001b[0m\u001b[0m\n\u001b[0m\u001b[0;32m    826\u001b[0m     \u001b[1;32melif\u001b[0m \u001b[0mself\u001b[0m\u001b[1;33m.\u001b[0m\u001b[0m_stateful_fn\u001b[0m \u001b[1;32mis\u001b[0m \u001b[1;32mnot\u001b[0m \u001b[1;32mNone\u001b[0m\u001b[1;33m:\u001b[0m\u001b[1;33m\u001b[0m\u001b[1;33m\u001b[0m\u001b[0m\n\u001b[0;32m    827\u001b[0m       \u001b[1;31m# Release the lock early so that multiple threads can perform the call\u001b[0m\u001b[1;33m\u001b[0m\u001b[1;33m\u001b[0m\u001b[1;33m\u001b[0m\u001b[0m\n",
      "\u001b[1;32m~\\anaconda3\\envs\\python3.6\\lib\\site-packages\\tensorflow\\python\\eager\\function.py\u001b[0m in \u001b[0;36m__call__\u001b[1;34m(self, *args, **kwargs)\u001b[0m\n\u001b[0;32m   2970\u001b[0m        filtered_flat_args) = self._maybe_define_function(args, kwargs)\n\u001b[0;32m   2971\u001b[0m     return graph_function._call_flat(\n\u001b[1;32m-> 2972\u001b[1;33m         filtered_flat_args, captured_inputs=graph_function.captured_inputs)  # pylint: disable=protected-access\n\u001b[0m\u001b[0;32m   2973\u001b[0m \u001b[1;33m\u001b[0m\u001b[0m\n\u001b[0;32m   2974\u001b[0m   \u001b[1;33m@\u001b[0m\u001b[0mproperty\u001b[0m\u001b[1;33m\u001b[0m\u001b[1;33m\u001b[0m\u001b[0m\n",
      "\u001b[1;32m~\\anaconda3\\envs\\python3.6\\lib\\site-packages\\tensorflow\\python\\eager\\function.py\u001b[0m in \u001b[0;36m_call_flat\u001b[1;34m(self, args, captured_inputs, cancellation_manager)\u001b[0m\n\u001b[0;32m   1946\u001b[0m       \u001b[1;31m# No tape is watching; skip to running the function.\u001b[0m\u001b[1;33m\u001b[0m\u001b[1;33m\u001b[0m\u001b[1;33m\u001b[0m\u001b[0m\n\u001b[0;32m   1947\u001b[0m       return self._build_call_outputs(self._inference_function.call(\n\u001b[1;32m-> 1948\u001b[1;33m           ctx, args, cancellation_manager=cancellation_manager))\n\u001b[0m\u001b[0;32m   1949\u001b[0m     forward_backward = self._select_forward_and_backward_functions(\n\u001b[0;32m   1950\u001b[0m         \u001b[0margs\u001b[0m\u001b[1;33m,\u001b[0m\u001b[1;33m\u001b[0m\u001b[1;33m\u001b[0m\u001b[0m\n",
      "\u001b[1;32m~\\anaconda3\\envs\\python3.6\\lib\\site-packages\\tensorflow\\python\\eager\\function.py\u001b[0m in \u001b[0;36mcall\u001b[1;34m(self, ctx, args, cancellation_manager)\u001b[0m\n\u001b[0;32m    559\u001b[0m               \u001b[0minputs\u001b[0m\u001b[1;33m=\u001b[0m\u001b[0margs\u001b[0m\u001b[1;33m,\u001b[0m\u001b[1;33m\u001b[0m\u001b[1;33m\u001b[0m\u001b[0m\n\u001b[0;32m    560\u001b[0m               \u001b[0mattrs\u001b[0m\u001b[1;33m=\u001b[0m\u001b[0mattrs\u001b[0m\u001b[1;33m,\u001b[0m\u001b[1;33m\u001b[0m\u001b[1;33m\u001b[0m\u001b[0m\n\u001b[1;32m--> 561\u001b[1;33m               ctx=ctx)\n\u001b[0m\u001b[0;32m    562\u001b[0m         \u001b[1;32melse\u001b[0m\u001b[1;33m:\u001b[0m\u001b[1;33m\u001b[0m\u001b[1;33m\u001b[0m\u001b[0m\n\u001b[0;32m    563\u001b[0m           outputs = execute.execute_with_cancellation(\n",
      "\u001b[1;32m~\\anaconda3\\envs\\python3.6\\lib\\site-packages\\tensorflow\\python\\eager\\execute.py\u001b[0m in \u001b[0;36mquick_execute\u001b[1;34m(op_name, num_outputs, inputs, attrs, ctx, name)\u001b[0m\n\u001b[0;32m     58\u001b[0m     \u001b[0mctx\u001b[0m\u001b[1;33m.\u001b[0m\u001b[0mensure_initialized\u001b[0m\u001b[1;33m(\u001b[0m\u001b[1;33m)\u001b[0m\u001b[1;33m\u001b[0m\u001b[1;33m\u001b[0m\u001b[0m\n\u001b[0;32m     59\u001b[0m     tensors = pywrap_tfe.TFE_Py_Execute(ctx._handle, device_name, op_name,\n\u001b[1;32m---> 60\u001b[1;33m                                         inputs, attrs, num_outputs)\n\u001b[0m\u001b[0;32m     61\u001b[0m   \u001b[1;32mexcept\u001b[0m \u001b[0mcore\u001b[0m\u001b[1;33m.\u001b[0m\u001b[0m_NotOkStatusException\u001b[0m \u001b[1;32mas\u001b[0m \u001b[0me\u001b[0m\u001b[1;33m:\u001b[0m\u001b[1;33m\u001b[0m\u001b[1;33m\u001b[0m\u001b[0m\n\u001b[0;32m     62\u001b[0m     \u001b[1;32mif\u001b[0m \u001b[0mname\u001b[0m \u001b[1;32mis\u001b[0m \u001b[1;32mnot\u001b[0m \u001b[1;32mNone\u001b[0m\u001b[1;33m:\u001b[0m\u001b[1;33m\u001b[0m\u001b[1;33m\u001b[0m\u001b[0m\n",
      "\u001b[1;31mKeyboardInterrupt\u001b[0m: "
     ]
    }
   ],
   "source": [
    "size_histories = {}\n",
    "size_histories['Tiny_leo'] = compile_and_fit(X, Y, tiny_model, 'sizes/Tiny_leo')"
   ]
  },
  {
   "cell_type": "code",
   "execution_count": null,
   "metadata": {
    "scrolled": true
   },
   "outputs": [
    {
     "name": "stdout",
     "output_type": "stream",
     "text": [
      "Epoch 1/300\n",
      "225/225 [==============================] - 1s 2ms/step - loss: 9.9056 - mae: 9.9056 - val_loss: 12.2702 - val_mae: 12.2702\n",
      "Epoch 2/300\n",
      "225/225 [==============================] - 0s 2ms/step - loss: 8.3528 - mae: 8.3528 - val_loss: 12.0893 - val_mae: 12.0893\n",
      "Epoch 3/300\n",
      "225/225 [==============================] - 0s 2ms/step - loss: 8.2115 - mae: 8.2115 - val_loss: 11.8294 - val_mae: 11.8294\n",
      "Epoch 4/300\n",
      "225/225 [==============================] - 0s 2ms/step - loss: 8.1556 - mae: 8.1556 - val_loss: 11.8003 - val_mae: 11.8003\n",
      "Epoch 5/300\n",
      "225/225 [==============================] - 0s 2ms/step - loss: 8.0793 - mae: 8.0793 - val_loss: 11.8410 - val_mae: 11.8410\n",
      "Epoch 6/300\n",
      "225/225 [==============================] - 0s 2ms/step - loss: 8.0371 - mae: 8.0371 - val_loss: 11.9861 - val_mae: 11.9861\n",
      "Epoch 7/300\n",
      "225/225 [==============================] - 0s 2ms/step - loss: 8.1627 - mae: 8.1627 - val_loss: 11.8261 - val_mae: 11.8261\n",
      "Epoch 8/300\n",
      "225/225 [==============================] - 0s 2ms/step - loss: 8.1361 - mae: 8.1361 - val_loss: 12.0731 - val_mae: 12.0731\n",
      "Epoch 9/300\n",
      "225/225 [==============================] - 0s 2ms/step - loss: 8.0357 - mae: 8.0357 - val_loss: 12.4163 - val_mae: 12.4163\n",
      "Epoch 10/300\n",
      "225/225 [==============================] - 0s 2ms/step - loss: 8.0461 - mae: 8.0461 - val_loss: 12.5444 - val_mae: 12.5444\n",
      "Epoch 11/300\n",
      "225/225 [==============================] - 0s 2ms/step - loss: 8.1069 - mae: 8.1069 - val_loss: 12.8535 - val_mae: 12.8535\n",
      "Epoch 12/300\n",
      "225/225 [==============================] - 0s 2ms/step - loss: 8.0305 - mae: 8.0305 - val_loss: 13.2376 - val_mae: 13.2376\n",
      "Epoch 13/300\n",
      "225/225 [==============================] - 0s 2ms/step - loss: 7.9975 - mae: 7.9975 - val_loss: 13.2153 - val_mae: 13.2153\n",
      "Epoch 14/300\n",
      "225/225 [==============================] - 0s 2ms/step - loss: 8.0352 - mae: 8.0352 - val_loss: 14.1185 - val_mae: 14.1185\n",
      "Epoch 15/300\n",
      "225/225 [==============================] - 0s 2ms/step - loss: 8.1261 - mae: 8.1261 - val_loss: 13.7975 - val_mae: 13.7975\n",
      "Epoch 16/300\n",
      "225/225 [==============================] - 0s 2ms/step - loss: 7.9713 - mae: 7.9713 - val_loss: 14.2579 - val_mae: 14.2579\n",
      "Epoch 17/300\n",
      "225/225 [==============================] - 1s 2ms/step - loss: 8.0468 - mae: 8.0468 - val_loss: 14.1515 - val_mae: 14.1515\n",
      "Epoch 18/300\n",
      "225/225 [==============================] - 0s 2ms/step - loss: 7.9492 - mae: 7.9492 - val_loss: 14.0098 - val_mae: 14.0098\n",
      "Epoch 19/300\n",
      "225/225 [==============================] - 0s 2ms/step - loss: 8.0639 - mae: 8.0639 - val_loss: 14.2355 - val_mae: 14.2355\n",
      "Epoch 20/300\n",
      "225/225 [==============================] - 0s 2ms/step - loss: 7.9550 - mae: 7.9550 - val_loss: 14.2502 - val_mae: 14.2502\n",
      "Epoch 21/300\n",
      "225/225 [==============================] - 0s 2ms/step - loss: 8.0074 - mae: 8.0074 - val_loss: 14.4569 - val_mae: 14.4569\n",
      "Epoch 22/300\n",
      "225/225 [==============================] - 0s 2ms/step - loss: 7.9615 - mae: 7.9615 - val_loss: 14.8029 - val_mae: 14.8029\n",
      "Epoch 23/300\n",
      "225/225 [==============================] - 0s 2ms/step - loss: 8.0111 - mae: 8.0111 - val_loss: 15.3477 - val_mae: 15.3477\n",
      "Epoch 24/300\n",
      "225/225 [==============================] - 0s 2ms/step - loss: 8.0588 - mae: 8.0588 - val_loss: 14.8196 - val_mae: 14.8196\n",
      "Epoch 25/300\n",
      "225/225 [==============================] - 0s 2ms/step - loss: 7.9633 - mae: 7.9633 - val_loss: 14.6593 - val_mae: 14.6593\n",
      "Epoch 26/300\n",
      "225/225 [==============================] - 0s 2ms/step - loss: 8.0275 - mae: 8.0275 - val_loss: 14.5100 - val_mae: 14.5100\n",
      "Epoch 27/300\n",
      "225/225 [==============================] - 0s 2ms/step - loss: 8.0115 - mae: 8.0115 - val_loss: 14.5650 - val_mae: 14.5650\n",
      "Epoch 28/300\n",
      "225/225 [==============================] - 0s 2ms/step - loss: 7.9638 - mae: 7.9638 - val_loss: 14.9790 - val_mae: 14.9790\n",
      "Epoch 29/300\n",
      "225/225 [==============================] - 0s 2ms/step - loss: 7.9981 - mae: 7.9981 - val_loss: 14.7148 - val_mae: 14.7148\n",
      "Epoch 30/300\n",
      "225/225 [==============================] - 0s 2ms/step - loss: 8.0111 - mae: 8.0111 - val_loss: 14.3837 - val_mae: 14.3837\n",
      "Epoch 31/300\n",
      "225/225 [==============================] - 0s 2ms/step - loss: 7.8964 - mae: 7.8964 - val_loss: 14.7038 - val_mae: 14.7038\n",
      "Epoch 32/300\n",
      "225/225 [==============================] - 0s 2ms/step - loss: 7.9938 - mae: 7.9938 - val_loss: 15.1034 - val_mae: 15.1034\n",
      "Epoch 33/300\n",
      "225/225 [==============================] - 0s 2ms/step - loss: 7.8264 - mae: 7.8264 - val_loss: 15.1395 - val_mae: 15.1395\n",
      "Epoch 34/300\n",
      "225/225 [==============================] - 0s 2ms/step - loss: 7.9716 - mae: 7.9716 - val_loss: 14.6860 - val_mae: 14.6860\n",
      "Epoch 35/300\n",
      "225/225 [==============================] - 0s 2ms/step - loss: 7.9665 - mae: 7.9665 - val_loss: 14.8689 - val_mae: 14.8689\n",
      "Epoch 36/300\n",
      "225/225 [==============================] - 0s 2ms/step - loss: 7.9056 - mae: 7.9056 - val_loss: 14.2855 - val_mae: 14.2855\n",
      "Epoch 37/300\n",
      "225/225 [==============================] - 0s 2ms/step - loss: 7.9007 - mae: 7.9007 - val_loss: 14.6231 - val_mae: 14.6231\n",
      "Epoch 38/300\n",
      "225/225 [==============================] - 0s 2ms/step - loss: 7.8841 - mae: 7.8841 - val_loss: 14.1886 - val_mae: 14.1886\n",
      "Epoch 39/300\n",
      "225/225 [==============================] - 0s 2ms/step - loss: 7.8806 - mae: 7.8806 - val_loss: 14.2486 - val_mae: 14.2486\n",
      "Epoch 40/300\n",
      "225/225 [==============================] - 0s 2ms/step - loss: 7.9670 - mae: 7.9670 - val_loss: 15.3265 - val_mae: 15.3265\n",
      "Epoch 41/300\n",
      "225/225 [==============================] - 0s 2ms/step - loss: 7.8821 - mae: 7.8821 - val_loss: 14.5798 - val_mae: 14.5798\n",
      "Epoch 42/300\n",
      "225/225 [==============================] - 0s 2ms/step - loss: 8.0180 - mae: 8.0180 - val_loss: 14.2055 - val_mae: 14.2055\n",
      "Epoch 43/300\n",
      "225/225 [==============================] - 0s 2ms/step - loss: 8.0247 - mae: 8.0247 - val_loss: 15.0278 - val_mae: 15.0278\n",
      "Epoch 44/300\n",
      "225/225 [==============================] - 0s 2ms/step - loss: 7.9385 - mae: 7.9385 - val_loss: 14.3690 - val_mae: 14.3690\n",
      "Epoch 45/300\n",
      "225/225 [==============================] - 0s 2ms/step - loss: 8.0535 - mae: 8.0535 - val_loss: 15.2789 - val_mae: 15.2789\n",
      "Epoch 46/300\n",
      "225/225 [==============================] - 0s 2ms/step - loss: 7.9445 - mae: 7.9445 - val_loss: 14.7505 - val_mae: 14.7505\n",
      "Epoch 47/300\n",
      "225/225 [==============================] - 0s 2ms/step - loss: 7.9405 - mae: 7.9405 - val_loss: 15.0562 - val_mae: 15.0562\n",
      "Epoch 48/300\n",
      "225/225 [==============================] - 0s 2ms/step - loss: 7.9466 - mae: 7.9466 - val_loss: 14.8177 - val_mae: 14.8177\n",
      "Epoch 49/300\n",
      "225/225 [==============================] - 0s 2ms/step - loss: 7.9624 - mae: 7.9624 - val_loss: 14.5360 - val_mae: 14.5360\n",
      "Epoch 50/300\n",
      "225/225 [==============================] - 0s 2ms/step - loss: 7.9249 - mae: 7.9249 - val_loss: 14.5925 - val_mae: 14.5925\n",
      "Epoch 51/300\n",
      "225/225 [==============================] - 0s 2ms/step - loss: 7.9954 - mae: 7.9954 - val_loss: 15.0754 - val_mae: 15.0754\n",
      "Epoch 52/300\n",
      "225/225 [==============================] - 0s 2ms/step - loss: 7.8869 - mae: 7.8869 - val_loss: 14.6027 - val_mae: 14.6027\n",
      "Epoch 53/300\n",
      "225/225 [==============================] - 0s 2ms/step - loss: 7.9404 - mae: 7.9404 - val_loss: 15.1492 - val_mae: 15.1492\n",
      "Epoch 54/300\n",
      "225/225 [==============================] - 0s 2ms/step - loss: 8.0468 - mae: 8.0468 - val_loss: 14.1150 - val_mae: 14.1150\n",
      "Epoch 55/300\n",
      "225/225 [==============================] - 0s 2ms/step - loss: 7.9810 - mae: 7.9810 - val_loss: 14.3691 - val_mae: 14.3691\n",
      "Epoch 56/300\n",
      "225/225 [==============================] - 0s 2ms/step - loss: 7.9729 - mae: 7.9729 - val_loss: 14.7333 - val_mae: 14.7333\n",
      "Epoch 57/300\n",
      "225/225 [==============================] - 0s 2ms/step - loss: 7.9678 - mae: 7.9678 - val_loss: 14.4975 - val_mae: 14.4975\n",
      "Epoch 58/300\n",
      "225/225 [==============================] - 0s 2ms/step - loss: 8.0031 - mae: 8.0031 - val_loss: 14.7782 - val_mae: 14.7782\n",
      "Epoch 59/300\n",
      "225/225 [==============================] - 0s 2ms/step - loss: 7.9815 - mae: 7.9815 - val_loss: 14.3910 - val_mae: 14.3910\n",
      "Epoch 60/300\n",
      "225/225 [==============================] - 0s 2ms/step - loss: 7.9074 - mae: 7.9074 - val_loss: 14.9445 - val_mae: 14.9445\n",
      "Epoch 61/300\n"
     ]
    },
    {
     "name": "stdout",
     "output_type": "stream",
     "text": [
      "225/225 [==============================] - 1s 2ms/step - loss: 7.9554 - mae: 7.9554 - val_loss: 14.3506 - val_mae: 14.3506\n",
      "Epoch 62/300\n",
      "225/225 [==============================] - 1s 2ms/step - loss: 7.9058 - mae: 7.9058 - val_loss: 14.7693 - val_mae: 14.7693\n",
      "Epoch 63/300\n",
      "225/225 [==============================] - 0s 2ms/step - loss: 7.8837 - mae: 7.8837 - val_loss: 14.6423 - val_mae: 14.6423\n",
      "Epoch 64/300\n",
      "225/225 [==============================] - 0s 2ms/step - loss: 7.9564 - mae: 7.9564 - val_loss: 15.1130 - val_mae: 15.1130\n",
      "Epoch 65/300\n",
      "225/225 [==============================] - 0s 2ms/step - loss: 7.8807 - mae: 7.8807 - val_loss: 14.8226 - val_mae: 14.8226\n",
      "Epoch 66/300\n",
      "225/225 [==============================] - 1s 2ms/step - loss: 8.0520 - mae: 8.0520 - val_loss: 14.6403 - val_mae: 14.6403\n",
      "Epoch 67/300\n",
      "225/225 [==============================] - 0s 2ms/step - loss: 7.9009 - mae: 7.9009 - val_loss: 14.9781 - val_mae: 14.9781\n",
      "Epoch 68/300\n",
      "225/225 [==============================] - 1s 2ms/step - loss: 7.9783 - mae: 7.9783 - val_loss: 14.9739 - val_mae: 14.9739\n",
      "Epoch 69/300\n",
      "225/225 [==============================] - 0s 2ms/step - loss: 7.9509 - mae: 7.9509 - val_loss: 14.6199 - val_mae: 14.6199\n",
      "Epoch 70/300\n",
      "225/225 [==============================] - 1s 2ms/step - loss: 7.9769 - mae: 7.9769 - val_loss: 14.4682 - val_mae: 14.4682\n",
      "Epoch 71/300\n",
      "225/225 [==============================] - 1s 2ms/step - loss: 7.9283 - mae: 7.9283 - val_loss: 14.8480 - val_mae: 14.8480\n",
      "Epoch 72/300\n",
      "225/225 [==============================] - 1s 2ms/step - loss: 7.9169 - mae: 7.9169 - val_loss: 15.0184 - val_mae: 15.0184\n",
      "Epoch 73/300\n",
      "225/225 [==============================] - 1s 2ms/step - loss: 7.9459 - mae: 7.9459 - val_loss: 15.3049 - val_mae: 15.3049\n",
      "Epoch 74/300\n",
      "225/225 [==============================] - 1s 2ms/step - loss: 7.9550 - mae: 7.9550 - val_loss: 14.5366 - val_mae: 14.5366\n",
      "Epoch 75/300\n",
      "225/225 [==============================] - 1s 2ms/step - loss: 7.9217 - mae: 7.9217 - val_loss: 15.4360 - val_mae: 15.4360\n",
      "Epoch 76/300\n",
      "225/225 [==============================] - 1s 2ms/step - loss: 7.9344 - mae: 7.9344 - val_loss: 14.5646 - val_mae: 14.5646\n",
      "Epoch 77/300\n",
      "225/225 [==============================] - 1s 2ms/step - loss: 7.9391 - mae: 7.9391 - val_loss: 14.9963 - val_mae: 14.9963\n",
      "Epoch 78/300\n",
      "225/225 [==============================] - 1s 2ms/step - loss: 7.9732 - mae: 7.9732 - val_loss: 14.7558 - val_mae: 14.7558\n",
      "Epoch 79/300\n",
      "225/225 [==============================] - 0s 2ms/step - loss: 7.9164 - mae: 7.9164 - val_loss: 14.5300 - val_mae: 14.5300\n",
      "Epoch 80/300\n",
      "225/225 [==============================] - 0s 2ms/step - loss: 7.8608 - mae: 7.8608 - val_loss: 15.0349 - val_mae: 15.0349\n",
      "Epoch 81/300\n",
      "225/225 [==============================] - 0s 2ms/step - loss: 8.0719 - mae: 8.0719 - val_loss: 14.8807 - val_mae: 14.8807\n",
      "Epoch 82/300\n",
      "225/225 [==============================] - 0s 2ms/step - loss: 7.8602 - mae: 7.8602 - val_loss: 14.5763 - val_mae: 14.5763\n",
      "Epoch 83/300\n",
      "225/225 [==============================] - 0s 2ms/step - loss: 7.9284 - mae: 7.9284 - val_loss: 15.1451 - val_mae: 15.1451\n",
      "Epoch 84/300\n",
      "225/225 [==============================] - 0s 2ms/step - loss: 7.9667 - mae: 7.9667 - val_loss: 14.8924 - val_mae: 14.8924\n",
      "Epoch 85/300\n",
      "225/225 [==============================] - 1s 2ms/step - loss: 8.0018 - mae: 8.0018 - val_loss: 13.9027 - val_mae: 13.9027\n",
      "Epoch 86/300\n",
      "225/225 [==============================] - 0s 2ms/step - loss: 7.9534 - mae: 7.9534 - val_loss: 14.3028 - val_mae: 14.3028\n",
      "Epoch 87/300\n",
      "225/225 [==============================] - 0s 2ms/step - loss: 7.9845 - mae: 7.9845 - val_loss: 14.5473 - val_mae: 14.5473\n",
      "Epoch 88/300\n",
      "225/225 [==============================] - 0s 2ms/step - loss: 7.9371 - mae: 7.9371 - val_loss: 14.5127 - val_mae: 14.5127\n",
      "Epoch 89/300\n",
      "225/225 [==============================] - 1s 2ms/step - loss: 7.9094 - mae: 7.9094 - val_loss: 14.4388 - val_mae: 14.4388\n",
      "Epoch 90/300\n",
      "225/225 [==============================] - 1s 2ms/step - loss: 7.9273 - mae: 7.9273 - val_loss: 15.0525 - val_mae: 15.0525\n",
      "Epoch 91/300\n",
      "225/225 [==============================] - 1s 2ms/step - loss: 7.9229 - mae: 7.9229 - val_loss: 14.0962 - val_mae: 14.0962\n",
      "Epoch 92/300\n",
      "225/225 [==============================] - 0s 2ms/step - loss: 7.9134 - mae: 7.9134 - val_loss: 14.3083 - val_mae: 14.3083\n",
      "Epoch 93/300\n",
      "225/225 [==============================] - 0s 2ms/step - loss: 7.9158 - mae: 7.9158 - val_loss: 15.2299 - val_mae: 15.2299\n",
      "Epoch 94/300\n",
      "225/225 [==============================] - 0s 2ms/step - loss: 7.9044 - mae: 7.9044 - val_loss: 14.6539 - val_mae: 14.6539\n",
      "Epoch 95/300\n",
      "225/225 [==============================] - 0s 2ms/step - loss: 7.9324 - mae: 7.9324 - val_loss: 14.8357 - val_mae: 14.8357\n",
      "Epoch 96/300\n",
      "225/225 [==============================] - 1s 2ms/step - loss: 7.9148 - mae: 7.9148 - val_loss: 14.9769 - val_mae: 14.9769\n",
      "Epoch 97/300\n",
      "225/225 [==============================] - 1s 2ms/step - loss: 7.9493 - mae: 7.9493 - val_loss: 15.2611 - val_mae: 15.2611\n",
      "Epoch 98/300\n",
      "225/225 [==============================] - 1s 2ms/step - loss: 7.9424 - mae: 7.9424 - val_loss: 14.8338 - val_mae: 14.8338\n",
      "Epoch 99/300\n",
      "225/225 [==============================] - 1s 2ms/step - loss: 7.9364 - mae: 7.9364 - val_loss: 15.1614 - val_mae: 15.1614\n",
      "Epoch 100/300\n",
      "225/225 [==============================] - 0s 2ms/step - loss: 7.9334 - mae: 7.9334 - val_loss: 14.3023 - val_mae: 14.3023\n",
      "Epoch 101/300\n",
      "225/225 [==============================] - 0s 2ms/step - loss: 7.9243 - mae: 7.9243 - val_loss: 14.5027 - val_mae: 14.5027\n",
      "Epoch 102/300\n",
      "225/225 [==============================] - 0s 2ms/step - loss: 7.8955 - mae: 7.8955 - val_loss: 14.7408 - val_mae: 14.7408\n",
      "Epoch 103/300\n",
      "225/225 [==============================] - 0s 2ms/step - loss: 8.0356 - mae: 8.0356 - val_loss: 14.9677 - val_mae: 14.9677\n",
      "Epoch 104/300\n",
      "225/225 [==============================] - 0s 2ms/step - loss: 7.9928 - mae: 7.9928 - val_loss: 14.5544 - val_mae: 14.5544\n",
      "Epoch 105/300\n",
      "225/225 [==============================] - 1s 2ms/step - loss: 7.9225 - mae: 7.9225 - val_loss: 14.9129 - val_mae: 14.9129\n",
      "Epoch 106/300\n",
      "225/225 [==============================] - 0s 2ms/step - loss: 7.9326 - mae: 7.9326 - val_loss: 14.3459 - val_mae: 14.3459\n",
      "Epoch 107/300\n",
      "225/225 [==============================] - 0s 2ms/step - loss: 7.9165 - mae: 7.9165 - val_loss: 14.5569 - val_mae: 14.5569\n",
      "Epoch 108/300\n",
      "225/225 [==============================] - 0s 2ms/step - loss: 7.9841 - mae: 7.9841 - val_loss: 15.1014 - val_mae: 15.1014\n",
      "Epoch 109/300\n",
      "225/225 [==============================] - 0s 2ms/step - loss: 7.9273 - mae: 7.9273 - val_loss: 14.7143 - val_mae: 14.7143\n",
      "Epoch 110/300\n",
      "225/225 [==============================] - 0s 2ms/step - loss: 7.8773 - mae: 7.8773 - val_loss: 15.1071 - val_mae: 15.1071\n",
      "Epoch 111/300\n",
      "225/225 [==============================] - 0s 2ms/step - loss: 8.0173 - mae: 8.0173 - val_loss: 15.0209 - val_mae: 15.0209\n",
      "Epoch 112/300\n",
      "225/225 [==============================] - 0s 2ms/step - loss: 7.9301 - mae: 7.9301 - val_loss: 14.7669 - val_mae: 14.7669\n",
      "Epoch 113/300\n",
      "225/225 [==============================] - 0s 2ms/step - loss: 7.9573 - mae: 7.9573 - val_loss: 15.4495 - val_mae: 15.4495\n",
      "Epoch 114/300\n",
      "225/225 [==============================] - 0s 2ms/step - loss: 8.0029 - mae: 8.0029 - val_loss: 14.2572 - val_mae: 14.2572\n",
      "Epoch 115/300\n",
      "225/225 [==============================] - 1s 3ms/step - loss: 7.9763 - mae: 7.9763 - val_loss: 14.6452 - val_mae: 14.6452\n",
      "Epoch 116/300\n",
      "225/225 [==============================] - 1s 2ms/step - loss: 7.8744 - mae: 7.8744 - val_loss: 14.8483 - val_mae: 14.8483\n",
      "Epoch 117/300\n",
      "225/225 [==============================] - 0s 2ms/step - loss: 7.9260 - mae: 7.9260 - val_loss: 14.8654 - val_mae: 14.8654\n",
      "Epoch 118/300\n",
      "225/225 [==============================] - 0s 2ms/step - loss: 7.8600 - mae: 7.8600 - val_loss: 14.7097 - val_mae: 14.7097\n",
      "Epoch 119/300\n",
      "225/225 [==============================] - 0s 2ms/step - loss: 7.8972 - mae: 7.8972 - val_loss: 14.3532 - val_mae: 14.3532\n",
      "Epoch 120/300\n",
      "225/225 [==============================] - 0s 2ms/step - loss: 7.9487 - mae: 7.9487 - val_loss: 14.8388 - val_mae: 14.8388\n",
      "Epoch 121/300\n"
     ]
    },
    {
     "name": "stdout",
     "output_type": "stream",
     "text": [
      "225/225 [==============================] - 0s 2ms/step - loss: 7.9405 - mae: 7.9405 - val_loss: 14.3512 - val_mae: 14.3512\n",
      "Epoch 122/300\n",
      "225/225 [==============================] - 0s 2ms/step - loss: 7.8981 - mae: 7.8981 - val_loss: 14.1120 - val_mae: 14.1120\n",
      "Epoch 123/300\n",
      "225/225 [==============================] - 0s 2ms/step - loss: 7.8547 - mae: 7.8547 - val_loss: 14.7846 - val_mae: 14.7846\n",
      "Epoch 124/300\n",
      "225/225 [==============================] - 0s 2ms/step - loss: 7.9779 - mae: 7.9779 - val_loss: 14.8314 - val_mae: 14.8314\n",
      "Epoch 125/300\n",
      "225/225 [==============================] - 0s 2ms/step - loss: 7.9635 - mae: 7.9635 - val_loss: 14.7228 - val_mae: 14.7228\n",
      "Epoch 126/300\n",
      "225/225 [==============================] - 0s 2ms/step - loss: 7.9167 - mae: 7.9167 - val_loss: 14.8726 - val_mae: 14.8726\n",
      "Epoch 127/300\n",
      "225/225 [==============================] - 0s 2ms/step - loss: 7.9386 - mae: 7.9386 - val_loss: 14.3911 - val_mae: 14.3911\n",
      "Epoch 128/300\n",
      "225/225 [==============================] - 0s 2ms/step - loss: 7.8673 - mae: 7.8673 - val_loss: 14.9281 - val_mae: 14.9281\n",
      "Epoch 129/300\n",
      "225/225 [==============================] - 0s 2ms/step - loss: 7.9373 - mae: 7.9373 - val_loss: 14.9952 - val_mae: 14.9952\n",
      "Epoch 130/300\n",
      " 90/225 [===========>..................] - ETA: 0s - loss: 7.9648 - mae: 7.9648"
     ]
    }
   ],
   "source": [
    "\n",
    "history = tiny_model.fit(X, Y, batch_size = 50, epochs = 300, validation_split = 0.2)\n"
   ]
  },
  {
   "cell_type": "code",
   "execution_count": 99,
   "metadata": {},
   "outputs": [],
   "source": [
    "def plot_loss(history):\n",
    "    plt.figure()\n",
    "    plt.plot(history.history['mae'], label='mae')\n",
    "    plt.plot(history.history['val_mae'], label='val_mae')\n",
    "    plt.xlabel('Epoch')\n",
    "    plt.ylabel('Error [deg]')\n",
    "    plt.legend()\n",
    "    plt.grid(True)\n",
    "    \n",
    "plot_loss(history)\n"
   ]
  },
  {
   "cell_type": "code",
   "execution_count": 72,
   "metadata": {},
   "outputs": [
    {
     "data": {
      "text/plain": [
       "<tensorflow.python.keras.callbacks.History at 0x1d7577fb9b0>"
      ]
     },
     "execution_count": 72,
     "metadata": {},
     "output_type": "execute_result"
    }
   ],
   "source": [
    "history"
   ]
  },
  {
   "cell_type": "code",
   "execution_count": 100,
   "metadata": {},
   "outputs": [
    {
     "ename": "ValueError",
     "evalue": "in user code:\n\n    C:\\Users\\77bis\\anaconda3\\envs\\python3.6\\lib\\site-packages\\tensorflow\\python\\keras\\engine\\training.py:1510 predict_function  *\n        return step_function(self, iterator)\n    C:\\Users\\77bis\\anaconda3\\envs\\python3.6\\lib\\site-packages\\tensorflow\\python\\keras\\engine\\training.py:1500 step_function  **\n        outputs = model.distribute_strategy.run(run_step, args=(data,))\n    C:\\Users\\77bis\\anaconda3\\envs\\python3.6\\lib\\site-packages\\tensorflow\\python\\distribute\\distribute_lib.py:1263 run\n        return self._extended.call_for_each_replica(fn, args=args, kwargs=kwargs)\n    C:\\Users\\77bis\\anaconda3\\envs\\python3.6\\lib\\site-packages\\tensorflow\\python\\distribute\\distribute_lib.py:2735 call_for_each_replica\n        return self._call_for_each_replica(fn, args, kwargs)\n    C:\\Users\\77bis\\anaconda3\\envs\\python3.6\\lib\\site-packages\\tensorflow\\python\\distribute\\distribute_lib.py:3424 _call_for_each_replica\n        return fn(*args, **kwargs)\n    C:\\Users\\77bis\\anaconda3\\envs\\python3.6\\lib\\site-packages\\tensorflow\\python\\keras\\engine\\training.py:1493 run_step  **\n        outputs = model.predict_step(data)\n    C:\\Users\\77bis\\anaconda3\\envs\\python3.6\\lib\\site-packages\\tensorflow\\python\\keras\\engine\\training.py:1466 predict_step\n        return self(x, training=False)\n    C:\\Users\\77bis\\anaconda3\\envs\\python3.6\\lib\\site-packages\\tensorflow\\python\\keras\\engine\\base_layer.py:1004 __call__\n        input_spec.assert_input_compatibility(self.input_spec, inputs, self.name)\n    C:\\Users\\77bis\\anaconda3\\envs\\python3.6\\lib\\site-packages\\tensorflow\\python\\keras\\engine\\input_spec.py:259 assert_input_compatibility\n        ' but received input with shape ' + display_shape(x.shape))\n\n    ValueError: Input 0 of layer sequential_7 is incompatible with the layer: expected axis -1 of input shape to have value 3 but received input with shape (None, 2)\n",
     "output_type": "error",
     "traceback": [
      "\u001b[1;31m---------------------------------------------------------------------------\u001b[0m",
      "\u001b[1;31mValueError\u001b[0m                                Traceback (most recent call last)",
      "\u001b[1;32m<ipython-input-100-23f7e8de4e66>\u001b[0m in \u001b[0;36m<module>\u001b[1;34m\u001b[0m\n\u001b[0;32m      2\u001b[0m \u001b[1;33m\u001b[0m\u001b[0m\n\u001b[0;32m      3\u001b[0m \u001b[1;33m\u001b[0m\u001b[0m\n\u001b[1;32m----> 4\u001b[1;33m \u001b[0my_pred_train\u001b[0m \u001b[1;33m=\u001b[0m \u001b[0mmodel\u001b[0m\u001b[1;33m.\u001b[0m\u001b[0mpredict\u001b[0m\u001b[1;33m(\u001b[0m\u001b[0mX\u001b[0m\u001b[1;33m)\u001b[0m\u001b[1;33m\u001b[0m\u001b[1;33m\u001b[0m\u001b[0m\n\u001b[0m\u001b[0;32m      5\u001b[0m \u001b[0mplt\u001b[0m\u001b[1;33m.\u001b[0m\u001b[0mfigure\u001b[0m\u001b[1;33m(\u001b[0m\u001b[0mfigsize\u001b[0m \u001b[1;33m=\u001b[0m \u001b[1;33m(\u001b[0m\u001b[1;36m20\u001b[0m\u001b[1;33m,\u001b[0m\u001b[1;36m6\u001b[0m\u001b[1;33m)\u001b[0m\u001b[1;33m)\u001b[0m\u001b[1;33m\u001b[0m\u001b[1;33m\u001b[0m\u001b[0m\n\u001b[0;32m      6\u001b[0m \u001b[0mplt\u001b[0m\u001b[1;33m.\u001b[0m\u001b[0mplot\u001b[0m\u001b[1;33m(\u001b[0m\u001b[0my_pred_train\u001b[0m\u001b[1;33m[\u001b[0m\u001b[1;33m:\u001b[0m\u001b[1;33m,\u001b[0m\u001b[1;33m-\u001b[0m\u001b[1;36m1\u001b[0m\u001b[1;33m]\u001b[0m\u001b[1;33m)\u001b[0m\u001b[1;33m\u001b[0m\u001b[1;33m\u001b[0m\u001b[0m\n",
      "\u001b[1;32m~\\anaconda3\\envs\\python3.6\\lib\\site-packages\\tensorflow\\python\\keras\\engine\\training.py\u001b[0m in \u001b[0;36mpredict\u001b[1;34m(self, x, batch_size, verbose, steps, callbacks, max_queue_size, workers, use_multiprocessing)\u001b[0m\n\u001b[0;32m   1659\u001b[0m           \u001b[1;32mfor\u001b[0m \u001b[0mstep\u001b[0m \u001b[1;32min\u001b[0m \u001b[0mdata_handler\u001b[0m\u001b[1;33m.\u001b[0m\u001b[0msteps\u001b[0m\u001b[1;33m(\u001b[0m\u001b[1;33m)\u001b[0m\u001b[1;33m:\u001b[0m\u001b[1;33m\u001b[0m\u001b[1;33m\u001b[0m\u001b[0m\n\u001b[0;32m   1660\u001b[0m             \u001b[0mcallbacks\u001b[0m\u001b[1;33m.\u001b[0m\u001b[0mon_predict_batch_begin\u001b[0m\u001b[1;33m(\u001b[0m\u001b[0mstep\u001b[0m\u001b[1;33m)\u001b[0m\u001b[1;33m\u001b[0m\u001b[1;33m\u001b[0m\u001b[0m\n\u001b[1;32m-> 1661\u001b[1;33m             \u001b[0mtmp_batch_outputs\u001b[0m \u001b[1;33m=\u001b[0m \u001b[0mself\u001b[0m\u001b[1;33m.\u001b[0m\u001b[0mpredict_function\u001b[0m\u001b[1;33m(\u001b[0m\u001b[0miterator\u001b[0m\u001b[1;33m)\u001b[0m\u001b[1;33m\u001b[0m\u001b[1;33m\u001b[0m\u001b[0m\n\u001b[0m\u001b[0;32m   1662\u001b[0m             \u001b[1;32mif\u001b[0m \u001b[0mdata_handler\u001b[0m\u001b[1;33m.\u001b[0m\u001b[0mshould_sync\u001b[0m\u001b[1;33m:\u001b[0m\u001b[1;33m\u001b[0m\u001b[1;33m\u001b[0m\u001b[0m\n\u001b[0;32m   1663\u001b[0m               \u001b[0mcontext\u001b[0m\u001b[1;33m.\u001b[0m\u001b[0masync_wait\u001b[0m\u001b[1;33m(\u001b[0m\u001b[1;33m)\u001b[0m\u001b[1;33m\u001b[0m\u001b[1;33m\u001b[0m\u001b[0m\n",
      "\u001b[1;32m~\\anaconda3\\envs\\python3.6\\lib\\site-packages\\tensorflow\\python\\eager\\def_function.py\u001b[0m in \u001b[0;36m__call__\u001b[1;34m(self, *args, **kwds)\u001b[0m\n\u001b[0;32m    795\u001b[0m     \u001b[0mtracing_count\u001b[0m \u001b[1;33m=\u001b[0m \u001b[0mself\u001b[0m\u001b[1;33m.\u001b[0m\u001b[0mexperimental_get_tracing_count\u001b[0m\u001b[1;33m(\u001b[0m\u001b[1;33m)\u001b[0m\u001b[1;33m\u001b[0m\u001b[1;33m\u001b[0m\u001b[0m\n\u001b[0;32m    796\u001b[0m     \u001b[1;32mwith\u001b[0m \u001b[0mtrace\u001b[0m\u001b[1;33m.\u001b[0m\u001b[0mTrace\u001b[0m\u001b[1;33m(\u001b[0m\u001b[0mself\u001b[0m\u001b[1;33m.\u001b[0m\u001b[0m_name\u001b[0m\u001b[1;33m)\u001b[0m \u001b[1;32mas\u001b[0m \u001b[0mtm\u001b[0m\u001b[1;33m:\u001b[0m\u001b[1;33m\u001b[0m\u001b[1;33m\u001b[0m\u001b[0m\n\u001b[1;32m--> 797\u001b[1;33m       \u001b[0mresult\u001b[0m \u001b[1;33m=\u001b[0m \u001b[0mself\u001b[0m\u001b[1;33m.\u001b[0m\u001b[0m_call\u001b[0m\u001b[1;33m(\u001b[0m\u001b[1;33m*\u001b[0m\u001b[0margs\u001b[0m\u001b[1;33m,\u001b[0m \u001b[1;33m**\u001b[0m\u001b[0mkwds\u001b[0m\u001b[1;33m)\u001b[0m\u001b[1;33m\u001b[0m\u001b[1;33m\u001b[0m\u001b[0m\n\u001b[0m\u001b[0;32m    798\u001b[0m       \u001b[0mcompiler\u001b[0m \u001b[1;33m=\u001b[0m \u001b[1;34m\"xla\"\u001b[0m \u001b[1;32mif\u001b[0m \u001b[0mself\u001b[0m\u001b[1;33m.\u001b[0m\u001b[0m_jit_compile\u001b[0m \u001b[1;32melse\u001b[0m \u001b[1;34m\"nonXla\"\u001b[0m\u001b[1;33m\u001b[0m\u001b[1;33m\u001b[0m\u001b[0m\n\u001b[0;32m    799\u001b[0m       \u001b[0mnew_tracing_count\u001b[0m \u001b[1;33m=\u001b[0m \u001b[0mself\u001b[0m\u001b[1;33m.\u001b[0m\u001b[0mexperimental_get_tracing_count\u001b[0m\u001b[1;33m(\u001b[0m\u001b[1;33m)\u001b[0m\u001b[1;33m\u001b[0m\u001b[1;33m\u001b[0m\u001b[0m\n",
      "\u001b[1;32m~\\anaconda3\\envs\\python3.6\\lib\\site-packages\\tensorflow\\python\\eager\\def_function.py\u001b[0m in \u001b[0;36m_call\u001b[1;34m(self, *args, **kwds)\u001b[0m\n\u001b[0;32m    830\u001b[0m       \u001b[1;31m# In this case we have not created variables on the first call. So we can\u001b[0m\u001b[1;33m\u001b[0m\u001b[1;33m\u001b[0m\u001b[1;33m\u001b[0m\u001b[0m\n\u001b[0;32m    831\u001b[0m       \u001b[1;31m# run the first trace but we should fail if variables are created.\u001b[0m\u001b[1;33m\u001b[0m\u001b[1;33m\u001b[0m\u001b[1;33m\u001b[0m\u001b[0m\n\u001b[1;32m--> 832\u001b[1;33m       \u001b[0mresults\u001b[0m \u001b[1;33m=\u001b[0m \u001b[0mself\u001b[0m\u001b[1;33m.\u001b[0m\u001b[0m_stateful_fn\u001b[0m\u001b[1;33m(\u001b[0m\u001b[1;33m*\u001b[0m\u001b[0margs\u001b[0m\u001b[1;33m,\u001b[0m \u001b[1;33m**\u001b[0m\u001b[0mkwds\u001b[0m\u001b[1;33m)\u001b[0m\u001b[1;33m\u001b[0m\u001b[1;33m\u001b[0m\u001b[0m\n\u001b[0m\u001b[0;32m    833\u001b[0m       \u001b[1;32mif\u001b[0m \u001b[0mself\u001b[0m\u001b[1;33m.\u001b[0m\u001b[0m_created_variables\u001b[0m\u001b[1;33m:\u001b[0m\u001b[1;33m\u001b[0m\u001b[1;33m\u001b[0m\u001b[0m\n\u001b[0;32m    834\u001b[0m         raise ValueError(\"Creating variables on a non-first call to a function\"\n",
      "\u001b[1;32m~\\anaconda3\\envs\\python3.6\\lib\\site-packages\\tensorflow\\python\\eager\\function.py\u001b[0m in \u001b[0;36m__call__\u001b[1;34m(self, *args, **kwargs)\u001b[0m\n\u001b[0;32m   2968\u001b[0m     \u001b[1;32mwith\u001b[0m \u001b[0mself\u001b[0m\u001b[1;33m.\u001b[0m\u001b[0m_lock\u001b[0m\u001b[1;33m:\u001b[0m\u001b[1;33m\u001b[0m\u001b[1;33m\u001b[0m\u001b[0m\n\u001b[0;32m   2969\u001b[0m       (graph_function,\n\u001b[1;32m-> 2970\u001b[1;33m        filtered_flat_args) = self._maybe_define_function(args, kwargs)\n\u001b[0m\u001b[0;32m   2971\u001b[0m     return graph_function._call_flat(\n\u001b[0;32m   2972\u001b[0m         filtered_flat_args, captured_inputs=graph_function.captured_inputs)  # pylint: disable=protected-access\n",
      "\u001b[1;32m~\\anaconda3\\envs\\python3.6\\lib\\site-packages\\tensorflow\\python\\eager\\function.py\u001b[0m in \u001b[0;36m_maybe_define_function\u001b[1;34m(self, args, kwargs)\u001b[0m\n\u001b[0;32m   3385\u001b[0m               call_context_key in self._function_cache.missed):\n\u001b[0;32m   3386\u001b[0m             return self._define_function_with_shape_relaxation(\n\u001b[1;32m-> 3387\u001b[1;33m                 args, kwargs, flat_args, filtered_flat_args, cache_key_context)\n\u001b[0m\u001b[0;32m   3388\u001b[0m \u001b[1;33m\u001b[0m\u001b[0m\n\u001b[0;32m   3389\u001b[0m           \u001b[0mself\u001b[0m\u001b[1;33m.\u001b[0m\u001b[0m_function_cache\u001b[0m\u001b[1;33m.\u001b[0m\u001b[0mmissed\u001b[0m\u001b[1;33m.\u001b[0m\u001b[0madd\u001b[0m\u001b[1;33m(\u001b[0m\u001b[0mcall_context_key\u001b[0m\u001b[1;33m)\u001b[0m\u001b[1;33m\u001b[0m\u001b[1;33m\u001b[0m\u001b[0m\n",
      "\u001b[1;32m~\\anaconda3\\envs\\python3.6\\lib\\site-packages\\tensorflow\\python\\eager\\function.py\u001b[0m in \u001b[0;36m_define_function_with_shape_relaxation\u001b[1;34m(self, args, kwargs, flat_args, filtered_flat_args, cache_key_context)\u001b[0m\n\u001b[0;32m   3307\u001b[0m \u001b[1;33m\u001b[0m\u001b[0m\n\u001b[0;32m   3308\u001b[0m     graph_function = self._create_graph_function(\n\u001b[1;32m-> 3309\u001b[1;33m         args, kwargs, override_flat_arg_shapes=relaxed_arg_shapes)\n\u001b[0m\u001b[0;32m   3310\u001b[0m     \u001b[0mself\u001b[0m\u001b[1;33m.\u001b[0m\u001b[0m_function_cache\u001b[0m\u001b[1;33m.\u001b[0m\u001b[0marg_relaxed\u001b[0m\u001b[1;33m[\u001b[0m\u001b[0mrank_only_cache_key\u001b[0m\u001b[1;33m]\u001b[0m \u001b[1;33m=\u001b[0m \u001b[0mgraph_function\u001b[0m\u001b[1;33m\u001b[0m\u001b[1;33m\u001b[0m\u001b[0m\n\u001b[0;32m   3311\u001b[0m \u001b[1;33m\u001b[0m\u001b[0m\n",
      "\u001b[1;32m~\\anaconda3\\envs\\python3.6\\lib\\site-packages\\tensorflow\\python\\eager\\function.py\u001b[0m in \u001b[0;36m_create_graph_function\u001b[1;34m(self, args, kwargs, override_flat_arg_shapes)\u001b[0m\n\u001b[0;32m   3233\u001b[0m             \u001b[0marg_names\u001b[0m\u001b[1;33m=\u001b[0m\u001b[0marg_names\u001b[0m\u001b[1;33m,\u001b[0m\u001b[1;33m\u001b[0m\u001b[1;33m\u001b[0m\u001b[0m\n\u001b[0;32m   3234\u001b[0m             \u001b[0moverride_flat_arg_shapes\u001b[0m\u001b[1;33m=\u001b[0m\u001b[0moverride_flat_arg_shapes\u001b[0m\u001b[1;33m,\u001b[0m\u001b[1;33m\u001b[0m\u001b[1;33m\u001b[0m\u001b[0m\n\u001b[1;32m-> 3235\u001b[1;33m             capture_by_value=self._capture_by_value),\n\u001b[0m\u001b[0;32m   3236\u001b[0m         \u001b[0mself\u001b[0m\u001b[1;33m.\u001b[0m\u001b[0m_function_attributes\u001b[0m\u001b[1;33m,\u001b[0m\u001b[1;33m\u001b[0m\u001b[1;33m\u001b[0m\u001b[0m\n\u001b[0;32m   3237\u001b[0m         \u001b[0mfunction_spec\u001b[0m\u001b[1;33m=\u001b[0m\u001b[0mself\u001b[0m\u001b[1;33m.\u001b[0m\u001b[0mfunction_spec\u001b[0m\u001b[1;33m,\u001b[0m\u001b[1;33m\u001b[0m\u001b[1;33m\u001b[0m\u001b[0m\n",
      "\u001b[1;32m~\\anaconda3\\envs\\python3.6\\lib\\site-packages\\tensorflow\\python\\framework\\func_graph.py\u001b[0m in \u001b[0;36mfunc_graph_from_py_func\u001b[1;34m(name, python_func, args, kwargs, signature, func_graph, autograph, autograph_options, add_control_dependencies, arg_names, op_return_value, collections, capture_by_value, override_flat_arg_shapes)\u001b[0m\n\u001b[0;32m    996\u001b[0m         \u001b[0m_\u001b[0m\u001b[1;33m,\u001b[0m \u001b[0moriginal_func\u001b[0m \u001b[1;33m=\u001b[0m \u001b[0mtf_decorator\u001b[0m\u001b[1;33m.\u001b[0m\u001b[0munwrap\u001b[0m\u001b[1;33m(\u001b[0m\u001b[0mpython_func\u001b[0m\u001b[1;33m)\u001b[0m\u001b[1;33m\u001b[0m\u001b[1;33m\u001b[0m\u001b[0m\n\u001b[0;32m    997\u001b[0m \u001b[1;33m\u001b[0m\u001b[0m\n\u001b[1;32m--> 998\u001b[1;33m       \u001b[0mfunc_outputs\u001b[0m \u001b[1;33m=\u001b[0m \u001b[0mpython_func\u001b[0m\u001b[1;33m(\u001b[0m\u001b[1;33m*\u001b[0m\u001b[0mfunc_args\u001b[0m\u001b[1;33m,\u001b[0m \u001b[1;33m**\u001b[0m\u001b[0mfunc_kwargs\u001b[0m\u001b[1;33m)\u001b[0m\u001b[1;33m\u001b[0m\u001b[1;33m\u001b[0m\u001b[0m\n\u001b[0m\u001b[0;32m    999\u001b[0m \u001b[1;33m\u001b[0m\u001b[0m\n\u001b[0;32m   1000\u001b[0m       \u001b[1;31m# invariant: `func_outputs` contains only Tensors, CompositeTensors,\u001b[0m\u001b[1;33m\u001b[0m\u001b[1;33m\u001b[0m\u001b[1;33m\u001b[0m\u001b[0m\n",
      "\u001b[1;32m~\\anaconda3\\envs\\python3.6\\lib\\site-packages\\tensorflow\\python\\eager\\def_function.py\u001b[0m in \u001b[0;36mwrapped_fn\u001b[1;34m(*args, **kwds)\u001b[0m\n\u001b[0;32m    601\u001b[0m             \u001b[0mxla_context\u001b[0m\u001b[1;33m.\u001b[0m\u001b[0mExit\u001b[0m\u001b[1;33m(\u001b[0m\u001b[1;33m)\u001b[0m\u001b[1;33m\u001b[0m\u001b[1;33m\u001b[0m\u001b[0m\n\u001b[0;32m    602\u001b[0m         \u001b[1;32melse\u001b[0m\u001b[1;33m:\u001b[0m\u001b[1;33m\u001b[0m\u001b[1;33m\u001b[0m\u001b[0m\n\u001b[1;32m--> 603\u001b[1;33m           \u001b[0mout\u001b[0m \u001b[1;33m=\u001b[0m \u001b[0mweak_wrapped_fn\u001b[0m\u001b[1;33m(\u001b[0m\u001b[1;33m)\u001b[0m\u001b[1;33m.\u001b[0m\u001b[0m__wrapped__\u001b[0m\u001b[1;33m(\u001b[0m\u001b[1;33m*\u001b[0m\u001b[0margs\u001b[0m\u001b[1;33m,\u001b[0m \u001b[1;33m**\u001b[0m\u001b[0mkwds\u001b[0m\u001b[1;33m)\u001b[0m\u001b[1;33m\u001b[0m\u001b[1;33m\u001b[0m\u001b[0m\n\u001b[0m\u001b[0;32m    604\u001b[0m         \u001b[1;32mreturn\u001b[0m \u001b[0mout\u001b[0m\u001b[1;33m\u001b[0m\u001b[1;33m\u001b[0m\u001b[0m\n\u001b[0;32m    605\u001b[0m \u001b[1;33m\u001b[0m\u001b[0m\n",
      "\u001b[1;32m~\\anaconda3\\envs\\python3.6\\lib\\site-packages\\tensorflow\\python\\framework\\func_graph.py\u001b[0m in \u001b[0;36mwrapper\u001b[1;34m(*args, **kwargs)\u001b[0m\n\u001b[0;32m    983\u001b[0m           \u001b[1;32mexcept\u001b[0m \u001b[0mException\u001b[0m \u001b[1;32mas\u001b[0m \u001b[0me\u001b[0m\u001b[1;33m:\u001b[0m  \u001b[1;31m# pylint:disable=broad-except\u001b[0m\u001b[1;33m\u001b[0m\u001b[1;33m\u001b[0m\u001b[0m\n\u001b[0;32m    984\u001b[0m             \u001b[1;32mif\u001b[0m \u001b[0mhasattr\u001b[0m\u001b[1;33m(\u001b[0m\u001b[0me\u001b[0m\u001b[1;33m,\u001b[0m \u001b[1;34m\"ag_error_metadata\"\u001b[0m\u001b[1;33m)\u001b[0m\u001b[1;33m:\u001b[0m\u001b[1;33m\u001b[0m\u001b[1;33m\u001b[0m\u001b[0m\n\u001b[1;32m--> 985\u001b[1;33m               \u001b[1;32mraise\u001b[0m \u001b[0me\u001b[0m\u001b[1;33m.\u001b[0m\u001b[0mag_error_metadata\u001b[0m\u001b[1;33m.\u001b[0m\u001b[0mto_exception\u001b[0m\u001b[1;33m(\u001b[0m\u001b[0me\u001b[0m\u001b[1;33m)\u001b[0m\u001b[1;33m\u001b[0m\u001b[1;33m\u001b[0m\u001b[0m\n\u001b[0m\u001b[0;32m    986\u001b[0m             \u001b[1;32melse\u001b[0m\u001b[1;33m:\u001b[0m\u001b[1;33m\u001b[0m\u001b[1;33m\u001b[0m\u001b[0m\n\u001b[0;32m    987\u001b[0m               \u001b[1;32mraise\u001b[0m\u001b[1;33m\u001b[0m\u001b[1;33m\u001b[0m\u001b[0m\n",
      "\u001b[1;31mValueError\u001b[0m: in user code:\n\n    C:\\Users\\77bis\\anaconda3\\envs\\python3.6\\lib\\site-packages\\tensorflow\\python\\keras\\engine\\training.py:1510 predict_function  *\n        return step_function(self, iterator)\n    C:\\Users\\77bis\\anaconda3\\envs\\python3.6\\lib\\site-packages\\tensorflow\\python\\keras\\engine\\training.py:1500 step_function  **\n        outputs = model.distribute_strategy.run(run_step, args=(data,))\n    C:\\Users\\77bis\\anaconda3\\envs\\python3.6\\lib\\site-packages\\tensorflow\\python\\distribute\\distribute_lib.py:1263 run\n        return self._extended.call_for_each_replica(fn, args=args, kwargs=kwargs)\n    C:\\Users\\77bis\\anaconda3\\envs\\python3.6\\lib\\site-packages\\tensorflow\\python\\distribute\\distribute_lib.py:2735 call_for_each_replica\n        return self._call_for_each_replica(fn, args, kwargs)\n    C:\\Users\\77bis\\anaconda3\\envs\\python3.6\\lib\\site-packages\\tensorflow\\python\\distribute\\distribute_lib.py:3424 _call_for_each_replica\n        return fn(*args, **kwargs)\n    C:\\Users\\77bis\\anaconda3\\envs\\python3.6\\lib\\site-packages\\tensorflow\\python\\keras\\engine\\training.py:1493 run_step  **\n        outputs = model.predict_step(data)\n    C:\\Users\\77bis\\anaconda3\\envs\\python3.6\\lib\\site-packages\\tensorflow\\python\\keras\\engine\\training.py:1466 predict_step\n        return self(x, training=False)\n    C:\\Users\\77bis\\anaconda3\\envs\\python3.6\\lib\\site-packages\\tensorflow\\python\\keras\\engine\\base_layer.py:1004 __call__\n        input_spec.assert_input_compatibility(self.input_spec, inputs, self.name)\n    C:\\Users\\77bis\\anaconda3\\envs\\python3.6\\lib\\site-packages\\tensorflow\\python\\keras\\engine\\input_spec.py:259 assert_input_compatibility\n        ' but received input with shape ' + display_shape(x.shape))\n\n    ValueError: Input 0 of layer sequential_7 is incompatible with the layer: expected axis -1 of input shape to have value 3 but received input with shape (None, 2)\n"
     ]
    }
   ],
   "source": [
    "# plot_loss(history)\n",
    "\n",
    "\n",
    "y_pred_train = model.predict(X)\n",
    "plt.figure(figsize = (20,6))\n",
    "plt.plot(y_pred_train[:,-1])\n",
    "plt.plot(Y)\n",
    "plt.legend(['pred','truth'])\n",
    "\n",
    "# y_pred_test = model.predict(X)\n",
    "# plt.figure(figsize = (20,6))\n",
    "# plt.plot(y_pred_test[:,-1])\n",
    "# plt.plot(y_test)"
   ]
  },
  {
   "cell_type": "code",
   "execution_count": 733,
   "metadata": {},
   "outputs": [
    {
     "data": {
      "text/plain": [
       "<matplotlib.legend.Legend at 0x1e4aff2cdd8>"
      ]
     },
     "execution_count": 733,
     "metadata": {},
     "output_type": "execute_result"
    }
   ],
   "source": [
    "y_pred_train = model.predict(X)\n",
    "plt.figure(figsize = (20,6))\n",
    "plt.plot(abs( Y - y_pred_train[:,-1] ))\n",
    "plt.legend(['pred','truth'])\n"
   ]
  }
 ],
 "metadata": {
  "kernelspec": {
   "display_name": "Python 3",
   "language": "python",
   "name": "python3"
  },
  "language_info": {
   "codemirror_mode": {
    "name": "ipython",
    "version": 3
   },
   "file_extension": ".py",
   "mimetype": "text/x-python",
   "name": "python",
   "nbconvert_exporter": "python",
   "pygments_lexer": "ipython3",
   "version": "3.6.12"
  }
 },
 "nbformat": 4,
 "nbformat_minor": 4
}
