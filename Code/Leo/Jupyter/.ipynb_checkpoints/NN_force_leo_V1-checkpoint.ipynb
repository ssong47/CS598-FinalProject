{
 "cells": [
  {
   "cell_type": "code",
   "execution_count": 162,
   "metadata": {},
   "outputs": [],
   "source": [
    "import os\n",
    "import numpy as np\n",
    "import pandas as pd\n",
    "import matplotlib.pyplot as plt\n",
    "import tensorflow as tf\n",
    "import time\n",
    "import cv2"
   ]
  },
  {
   "cell_type": "markdown",
   "metadata": {},
   "source": [
    "# Read Depth Data"
   ]
  },
  {
   "cell_type": "code",
   "execution_count": 160,
   "metadata": {},
   "outputs": [],
   "source": [
    "# For reading depth camera\n",
    "def read_depth_camera(dcamera_path, show_video, nw_resize=1, nh_resize=1):\n",
    "    video  = cv2.VideoCapture(dcamera_path)\n",
    "    ret, frame = video.read()\n",
    "    \n",
    "    # Get total # of frame count \n",
    "    frame_count = int(video.get(cv2.CAP_PROP_FRAME_COUNT))\n",
    "        \n",
    "    frame_height = int(frame.shape[0])\n",
    "    frame_width = int(frame.shape[1])\n",
    "\n",
    "    \n",
    "    depth_frames = np.empty((frame_count, int(frame_height/nh_resize), int(frame_width/nw_resize)))\n",
    "    depth_frames = np.empty((frame_count, int(frame_height/nh_resize), int(frame_width/nw_resize),3))\n",
    "    count = 0\n",
    "    while (video.isOpened()):\n",
    "        ret, frame = video.read()\n",
    "        \n",
    "        if ret == True:\n",
    "            gray_frame = frame\n",
    "            gray_frame = cv2.resize(gray_frame, \\\n",
    "                                    (int(frame_width/nw_resize), int(frame_height/nh_resize)),\\\n",
    "                                    interpolation = cv2.INTER_NEAREST)\n",
    "\n",
    "            depth_frames[count] = gray_frame\n",
    "            if show_video == True:\n",
    "                cv2.imshow(\"Depth\", gray_frame)\n",
    "                if cv2.waitKey(1) & 0xFF == ord('q'):\n",
    "                    break\n",
    "            count = count + 1\n",
    "        else: \n",
    "            break\n",
    "            \n",
    "\n",
    "    video.release()\n",
    "    #cv2.destroyAllWindows()\n",
    "    return depth_frames\n"
   ]
  },
  {
   "cell_type": "code",
   "execution_count": 163,
   "metadata": {},
   "outputs": [],
   "source": [
    "n_test = (24,30,31,32,33,35)\n",
    "nw_resize = 2 # for reducing width\n",
    "nh_resize = 2 # for reducing height\n",
    "xtemp = {}\n",
    "show_video = 0\n",
    "subj = ['leo','leo','leo','leo','leo','leo']\n",
    "        \n",
    "for i in range(len(n_test)):\n",
    "    test_str = 'test' + str(n_test[i])\n",
    "    data_dir = os.path.join(r'C:\\Users\\77bis\\Box\\CS598 - Final Project\\Preliminary Data V5','Test_Subject_'+subj[i],test_str)\n",
    "    train_dcamera_path = os.path.join(data_dir , 'depth_processed_'+subj[i]+'_test'+str(n_test[i])+'.avi')\n",
    "    xtemp[i] = read_depth_camera(train_dcamera_path, show_video, nw_resize=nw_resize, nh_resize=nh_resize).astype('uint8')\n",
    "    \n"
   ]
  },
  {
   "cell_type": "code",
   "execution_count": 164,
   "metadata": {},
   "outputs": [],
   "source": [
    "tlen=0 # total length of training data set\n",
    "for x in range(len(xtemp)):\n",
    "    tlen+= xtemp[x].shape[0]\n",
    "\n",
    "\n",
    "x_train = np.zeros((tlen,xtemp[0].shape[1],xtemp[0].shape[2],xtemp[0].shape[3]),dtype='uint8') # initialize training set data\n",
    "xrun_cum = 0\n",
    "for i in range (len(xtemp)):\n",
    "    xrun_n = len(xtemp[i])\n",
    "    x_train[xrun_cum:xrun_cum+xrun_n,:,:,:] = xtemp[i][:xrun_n,:,:,:] # compiling all the training data into one large array\n",
    "    xrun_cum += xrun_n"
   ]
  },
  {
   "cell_type": "markdown",
   "metadata": {},
   "source": [
    "# Read Force Data"
   ]
  },
  {
   "cell_type": "code",
   "execution_count": 165,
   "metadata": {},
   "outputs": [],
   "source": [
    "n_test = (24,30,31,32,33,35)\n",
    "date = ('11_15_2020','11_24_2020','11_24_2020','11_25_2020','11_25_2020','11_25_2020')\n",
    "subj = ['leo','leo','leo','leo','leo','leo']\n",
    "subjwgt = [67, 67, 67, 67, 67, 67]\n",
    "subjht = [174, 174, 174, 174, 174, 174]\n",
    "xfcss_gt = {}\n",
    "yrun = 0\n",
    "\n",
    "for i in range(len(n_test)):\n",
    "    test_str = 'test' + str(n_test[i])\n",
    "    data_dir = os.path.join(r'C:\\Users\\77bis\\Box\\CS598 - Final Project\\Preliminary Data V5','Test_Subject_'+subj[i],test_str)\n",
    "    fcss_data_dir = os.path.join(data_dir , 'fcss_processed_'+subj[i]+'_' + test_str + '_' + date[i] + '.txt')\n",
    "    xfcss_gttemp = pd.read_csv(fcss_data_dir)/subjwgt[i]\n",
    "    xfcss_gt[i]=xfcss_gttemp\n",
    "    if i == 0:\n",
    "        xfcss_train = xfcss_gttemp\n",
    "    else:\n",
    "        xfcss_train = pd.concat([xfcss_train,xfcss_gt[i]],axis=0)\n",
    "del xfcss_gt"
   ]
  },
  {
   "cell_type": "code",
   "execution_count": 149,
   "metadata": {},
   "outputs": [],
   "source": [
    "def compute_moment(fdss_data):\n",
    "    d1 = 0.19\n",
    "    d2 = 0.08\n",
    "    d3 = 0.19\n",
    "    g = 9.81\n",
    "    \n",
    "    N = len(fdss_data)\n",
    "    moment = np.zeros((N,3))\n",
    "    \n",
    "    for i in range(N):\n",
    "        moment[i,0] = ((fdss_data[i, 1] - fdss_data[i, 2]) * d3  + fdss_data[i,5] * d2)* g \n",
    "        \n",
    "        moment[i,1] = ((fdss_data[i, 1] + fdss_data[i, 2] - fdss_data[i,0]) * d1 + (fdss_data[i, 3] + fdss_data[i, 4]) * d2) * g\n",
    "        \n",
    "        moment[i,2] = (fdss_data[i,3] - fdss_data[i,4]) * d3 * g\n",
    "\n",
    "\n",
    "    return moment"
   ]
  },
  {
   "cell_type": "code",
   "execution_count": 150,
   "metadata": {},
   "outputs": [],
   "source": [
    "moment = compute_moment(xfcss_train.values)"
   ]
  },
  {
   "cell_type": "markdown",
   "metadata": {},
   "source": [
    "# Read Output Data"
   ]
  },
  {
   "cell_type": "code",
   "execution_count": 3,
   "metadata": {},
   "outputs": [],
   "source": [
    "def read_output_data(qtm_file_data, theta):\n",
    "    if theta=='x':\n",
    "        qtm_data = pd.read_csv(qtm_file_data, usecols = [\"Lean Left/Right Angle (deg)\"])\n",
    "    if theta=='y':\n",
    "        qtm_data = pd.read_csv(qtm_file_data, usecols = [\"Lean Forward/Backwards Angle (deg)\"])\n",
    "    if theta=='z':\n",
    "        qtm_data = pd.read_csv(qtm_file_data, usecols = [\"Torso Twist Angle (deg)\"])\n",
    "        \n",
    "    \n",
    "    return qtm_data"
   ]
  },
  {
   "cell_type": "code",
   "execution_count": 4,
   "metadata": {},
   "outputs": [],
   "source": [
    "n_test = (24,30,31,32,33,35)\n",
    "date = ('11_15_2020','11_24_2020','11_24_2020','11_25_2020','11_25_2020','11_25_2020')\n",
    "subj = ['leo','leo','leo','leo','leo','leo']\n",
    "y_gt = {}\n",
    "yrun = 0\n",
    "theta_interest = 'z'\n",
    "for i in range(len(n_test)):\n",
    "    test_str = 'test' + str(n_test[i])\n",
    "    data_dir = os.path.join(r'C:\\Users\\77bis\\Box\\CS598 - Final Project\\Preliminary Data V5','Test_Subject_'+subj[i],test_str)\n",
    "    qtm_file_data_dir = os.path.join(data_dir , 'qtm_processed_'+subj[i]+'_test' + str(n_test[i]) + '_' + date[i] + '.txt')\n",
    "    y_gt[i] = read_output_data(qtm_file_data_dir,theta_interest).values\n",
    "\n",
    "    "
   ]
  },
  {
   "cell_type": "code",
   "execution_count": 5,
   "metadata": {},
   "outputs": [],
   "source": [
    "tlen=0\n",
    "for x in range(len(y_gt)):\n",
    "    tlen+= y_gt[x].shape[0]\n",
    "    \n",
    "yrun_cum = 0\n",
    "y_train = np.zeros((tlen,1))\n",
    "for i in range (len(y_gt)):\n",
    "    yrun_n = len(y_gt[i])\n",
    "    y_train[yrun_cum:yrun_cum+yrun_n] = y_gt[i][:]\n",
    "    yrun_cum += yrun_n"
   ]
  },
  {
   "cell_type": "markdown",
   "metadata": {},
   "source": [
    "# Divide into training, validation, and testing dataset"
   ]
  },
  {
   "cell_type": "code",
   "execution_count": 166,
   "metadata": {},
   "outputs": [],
   "source": [
    "nsamps = xfcss_train.shape[0]\n",
    "n60p = int(np.floor(nsamps*0.6))\n",
    "n80p = int(np.floor(nsamps*0.8))\n",
    "\n",
    "TrainX = x_train[0:n60p]\n",
    "TrainX2 = xfcss_train.values[0:n60p]\n",
    "TrainY = y_train[0:n60p]\n",
    "\n",
    "ValX = x_train[n60p:n80p]\n",
    "ValX2 = xfcss_train.values[n60p:n80p]\n",
    "ValY = y_train[n60p:n80p]\n",
    "\n",
    "TestX = x_train[n80p:nsamps]\n",
    "TestX2 = xfcss_train.values[n80p:nsamps]\n",
    "TestY = y_train[n80p:nsamps]\n"
   ]
  },
  {
   "cell_type": "code",
   "execution_count": 151,
   "metadata": {},
   "outputs": [],
   "source": [
    "nsamps = moment.shape[0]\n",
    "n60p = int(np.floor(nsamps*0.6))\n",
    "n80p = int(np.floor(nsamps*0.8))\n",
    "\n",
    "TrainX = moment[0:n60p]\n",
    "TrainY = y_train[0:n60p]\n",
    "\n",
    "ValX = moment[n60p:n80p]\n",
    "ValY = y_train[n60p:n80p]\n",
    "\n",
    "TestX = moment[n80p:nsamps]\n",
    "TestY = y_train[n80p:nsamps]\n"
   ]
  },
  {
   "cell_type": "markdown",
   "metadata": {},
   "source": [
    "# Normalize X data"
   ]
  },
  {
   "cell_type": "code",
   "execution_count": 153,
   "metadata": {
    "scrolled": true
   },
   "outputs": [
    {
     "data": {
      "text/plain": [
       "[<matplotlib.lines.Line2D at 0x22de5c0e208>,\n",
       " <matplotlib.lines.Line2D at 0x22de5c0e2b0>,\n",
       " <matplotlib.lines.Line2D at 0x22de5c0e358>]"
      ]
     },
     "execution_count": 153,
     "metadata": {},
     "output_type": "execute_result"
    }
   ],
   "source": [
    "max_x = np.zeros((3,1))\n",
    "X = np.zeros(TrainX.shape)\n",
    "X_val = np.zeros(ValX.shape)\n",
    "X_test = np.zeros(TestX.shape)\n",
    "for i in range(3):\n",
    "    max_x[i] = max(abs(TrainX[:,i]))\n",
    "    X[:,i] = TrainX[:,i]/max_x[i]\n",
    "    X_val[:,i] = ValX[:,i]/max_x[i]\n",
    "    X_test[:,i] = TestX[:,i]/max_x[i]\n",
    "    \n",
    "plt.plot(X_test)"
   ]
  },
  {
   "cell_type": "markdown",
   "metadata": {},
   "source": [
    "# Discretize Output Data "
   ]
  },
  {
   "cell_type": "code",
   "execution_count": 154,
   "metadata": {},
   "outputs": [
    {
     "name": "stdout",
     "output_type": "stream",
     "text": [
      "[-50.   0.  50.]\n"
     ]
    },
    {
     "data": {
      "text/plain": [
       "[<matplotlib.lines.Line2D at 0x22dc27a1b70>]"
      ]
     },
     "execution_count": 154,
     "metadata": {},
     "output_type": "execute_result"
    }
   ],
   "source": [
    "n_bin = 3\n",
    "min_val = -50\n",
    "max_val = 50\n",
    "\n",
    "y_bins = np.linspace(min_val, max_val, n_bin)\n",
    "print(y_bins)\n",
    "Y_raw = np.digitize(y, y_bins) - 1\n",
    "Y_val_raw = np.digitize(y_val, y_bins) - 1\n",
    "Y_test_raw = np.digitize(y_test, y_bins) -1 \n",
    "\n",
    "Y = tf.keras.utils.to_categorical(Y_raw, num_classes=n_bin-1, dtype='float32')\n",
    "Y_val = tf.keras.utils.to_categorical(Y_val_raw, num_classes=n_bin-1, dtype='float32')\n",
    "Y_test = tf.keras.utils.to_categorical(Y_test_raw, num_classes=n_bin-1, dtype='float32')\n",
    "\n",
    "\n",
    "plt.figure(figsize=(15,5))\n",
    "plt.plot(Y_val_raw)\n"
   ]
  },
  {
   "cell_type": "markdown",
   "metadata": {},
   "source": [
    "# Create model "
   ]
  },
  {
   "cell_type": "code",
   "execution_count": 157,
   "metadata": {},
   "outputs": [
    {
     "name": "stdout",
     "output_type": "stream",
     "text": [
      "Model: \"sequential_16\"\n",
      "_________________________________________________________________\n",
      "Layer (type)                 Output Shape              Param #   \n",
      "=================================================================\n",
      "dense_50 (Dense)             (None, 256)               1024      \n",
      "_________________________________________________________________\n",
      "dropout_17 (Dropout)         (None, 256)               0         \n",
      "_________________________________________________________________\n",
      "dense_51 (Dense)             (None, 128)               32896     \n",
      "_________________________________________________________________\n",
      "dense_52 (Dense)             (None, 64)                8256      \n",
      "_________________________________________________________________\n",
      "dropout_18 (Dropout)         (None, 64)                0         \n",
      "_________________________________________________________________\n",
      "dense_53 (Dense)             (None, 32)                2080      \n",
      "_________________________________________________________________\n",
      "dense_54 (Dense)             (None, 2)                 66        \n",
      "=================================================================\n",
      "Total params: 44,322\n",
      "Trainable params: 44,322\n",
      "Non-trainable params: 0\n",
      "_________________________________________________________________\n"
     ]
    }
   ],
   "source": [
    "# Create Neural Netowrk\n",
    "from tensorflow.keras import layers\n",
    "\n",
    "from tensorflow.keras.layers import Bidirectional, Conv2D, MaxPooling2D, Input, concatenate, AveragePooling2D\n",
    "from tensorflow.keras.layers import BatchNormalization\n",
    "from tensorflow.keras.layers import Dense, Activation, Dropout, Reshape, Permute, Flatten\n",
    "from tensorflow.keras.models import Model\n",
    "\n",
    "\n",
    "\n",
    "\n",
    "model = tf.keras.Sequential([\n",
    "    layers.InputLayer(input_shape = (X.shape[1],)),\n",
    "    layers.Dense(256, activation = 'relu'),\n",
    "    layers.Dropout(0.2),\n",
    "    layers.Dense(128, activation = 'relu'),\n",
    "    layers.Dense(64, activation = 'relu'),\n",
    "    layers.Dropout(0.2),\n",
    "    layers.Dense(32, activation = 'relu'),\n",
    "    layers.Dense(n_bin-1)\n",
    "])\n",
    "\n",
    "\n",
    "model.compile(\n",
    "    optimizer = 'adam',\n",
    "#     loss = tf.keras.losses.SparseCategoricalCrossentropy(from_logits=True),\n",
    "    loss = tf.keras.losses.CategoricalCrossentropy(from_logits=True),\n",
    "#     loss = tf.keras.losses.BinaryCrossentropy(from_logits=True),\n",
    "    metrics = ['accuracy'])\n",
    "\n",
    "model.summary()\n",
    "\n",
    "# callback = tf.keras.callbacks.EarlyStopping(monitor='loss', patience=50,restore_best_weights=True) #Moving to 1000 patience. "
   ]
  },
  {
   "cell_type": "code",
   "execution_count": 158,
   "metadata": {
    "scrolled": true
   },
   "outputs": [
    {
     "name": "stdout",
     "output_type": "stream",
     "text": [
      "Epoch 1/100\n",
      "1545/1545 [==============================] - 2s 1ms/step - loss: 0.5273 - accuracy: 0.7346 - val_loss: 0.6797 - val_accuracy: 0.6540\n",
      "Epoch 2/100\n",
      "1545/1545 [==============================] - 2s 1ms/step - loss: 0.4839 - accuracy: 0.7701 - val_loss: 0.6390 - val_accuracy: 0.6668\n",
      "Epoch 3/100\n",
      "1545/1545 [==============================] - 2s 1ms/step - loss: 0.4774 - accuracy: 0.7719 - val_loss: 0.6288 - val_accuracy: 0.6662\n",
      "Epoch 4/100\n",
      "1545/1545 [==============================] - 2s 1ms/step - loss: 0.4717 - accuracy: 0.7740 - val_loss: 0.6166 - val_accuracy: 0.6712\n",
      "Epoch 5/100\n",
      "1545/1545 [==============================] - 2s 1ms/step - loss: 0.4696 - accuracy: 0.7752 - val_loss: 0.6647 - val_accuracy: 0.6618\n",
      "Epoch 6/100\n",
      "1545/1545 [==============================] - 2s 1ms/step - loss: 0.4701 - accuracy: 0.7743 - val_loss: 0.6337 - val_accuracy: 0.6637\n",
      "Epoch 7/100\n",
      "1545/1545 [==============================] - 2s 1ms/step - loss: 0.4700 - accuracy: 0.7735 - val_loss: 0.6077 - val_accuracy: 0.6792\n",
      "Epoch 8/100\n",
      "1545/1545 [==============================] - 2s 1ms/step - loss: 0.4645 - accuracy: 0.7760 - val_loss: 0.6310 - val_accuracy: 0.6696\n",
      "Epoch 9/100\n",
      "1545/1545 [==============================] - 2s 1ms/step - loss: 0.4632 - accuracy: 0.7775 - val_loss: 0.6193 - val_accuracy: 0.6750\n",
      "Epoch 10/100\n",
      "1545/1545 [==============================] - 2s 1ms/step - loss: 0.4645 - accuracy: 0.7776 - val_loss: 0.6357 - val_accuracy: 0.6667\n",
      "Epoch 11/100\n",
      "1545/1545 [==============================] - 2s 1ms/step - loss: 0.4621 - accuracy: 0.7781 - val_loss: 0.6233 - val_accuracy: 0.6706\n",
      "Epoch 12/100\n",
      "1545/1545 [==============================] - 2s 1ms/step - loss: 0.4660 - accuracy: 0.7722 - val_loss: 0.6185 - val_accuracy: 0.6666\n",
      "Epoch 13/100\n",
      "1545/1545 [==============================] - 2s 1ms/step - loss: 0.4595 - accuracy: 0.7807 - val_loss: 0.6497 - val_accuracy: 0.6668\n",
      "Epoch 14/100\n",
      "1545/1545 [==============================] - 2s 1ms/step - loss: 0.4613 - accuracy: 0.7771 - val_loss: 0.6262 - val_accuracy: 0.6713\n",
      "Epoch 15/100\n",
      "1545/1545 [==============================] - 2s 1ms/step - loss: 0.4577 - accuracy: 0.7788 - val_loss: 0.6250 - val_accuracy: 0.6770\n",
      "Epoch 16/100\n",
      "1545/1545 [==============================] - 2s 1ms/step - loss: 0.4615 - accuracy: 0.7763 - val_loss: 0.6328 - val_accuracy: 0.6678\n",
      "Epoch 17/100\n",
      "1545/1545 [==============================] - 2s 1ms/step - loss: 0.4611 - accuracy: 0.7773 - val_loss: 0.6224 - val_accuracy: 0.6763\n",
      "Epoch 18/100\n",
      "1545/1545 [==============================] - 2s 1ms/step - loss: 0.4572 - accuracy: 0.7809 - val_loss: 0.6134 - val_accuracy: 0.6744\n",
      "Epoch 19/100\n",
      "1545/1545 [==============================] - 2s 1ms/step - loss: 0.4545 - accuracy: 0.7810 - val_loss: 0.6228 - val_accuracy: 0.6720\n",
      "Epoch 20/100\n",
      "1545/1545 [==============================] - 2s 1ms/step - loss: 0.4575 - accuracy: 0.7771 - val_loss: 0.6318 - val_accuracy: 0.6737\n",
      "Epoch 21/100\n",
      "1545/1545 [==============================] - 2s 1ms/step - loss: 0.4596 - accuracy: 0.7785 - val_loss: 0.6001 - val_accuracy: 0.6771\n",
      "Epoch 22/100\n",
      "1545/1545 [==============================] - 2s 1ms/step - loss: 0.4543 - accuracy: 0.7810 - val_loss: 0.6128 - val_accuracy: 0.6740\n",
      "Epoch 23/100\n",
      "1545/1545 [==============================] - 2s 1ms/step - loss: 0.4539 - accuracy: 0.7829 - val_loss: 0.6063 - val_accuracy: 0.6792\n",
      "Epoch 24/100\n",
      "1545/1545 [==============================] - 2s 1ms/step - loss: 0.4525 - accuracy: 0.7832 - val_loss: 0.6109 - val_accuracy: 0.6734\n",
      "Epoch 25/100\n",
      "1545/1545 [==============================] - 2s 1ms/step - loss: 0.4541 - accuracy: 0.7796 - val_loss: 0.6137 - val_accuracy: 0.6731\n",
      "Epoch 26/100\n",
      "1545/1545 [==============================] - 2s 1ms/step - loss: 0.4518 - accuracy: 0.7824 - val_loss: 0.6570 - val_accuracy: 0.6621\n",
      "Epoch 27/100\n",
      "1545/1545 [==============================] - 2s 1ms/step - loss: 0.4516 - accuracy: 0.7823 - val_loss: 0.6219 - val_accuracy: 0.6817\n",
      "Epoch 28/100\n",
      "1545/1545 [==============================] - 3s 2ms/step - loss: 0.4500 - accuracy: 0.7823 - val_loss: 0.6260 - val_accuracy: 0.6712\n",
      "Epoch 29/100\n",
      "1545/1545 [==============================] - 3s 2ms/step - loss: 0.4527 - accuracy: 0.7779 - val_loss: 0.6165 - val_accuracy: 0.6712\n",
      "Epoch 30/100\n",
      "1545/1545 [==============================] - 2s 1ms/step - loss: 0.4489 - accuracy: 0.7854 - val_loss: 0.6139 - val_accuracy: 0.6751\n",
      "Epoch 31/100\n",
      "1545/1545 [==============================] - 2s 1ms/step - loss: 0.4504 - accuracy: 0.7820 - val_loss: 0.6151 - val_accuracy: 0.6775\n",
      "Epoch 32/100\n",
      "1545/1545 [==============================] - 2s 1ms/step - loss: 0.4506 - accuracy: 0.7831 - val_loss: 0.6323 - val_accuracy: 0.6692\n",
      "Epoch 33/100\n",
      "1545/1545 [==============================] - 2s 2ms/step - loss: 0.4529 - accuracy: 0.7825 - val_loss: 0.6245 - val_accuracy: 0.6846\n",
      "Epoch 34/100\n",
      "1545/1545 [==============================] - 2s 2ms/step - loss: 0.4546 - accuracy: 0.7799 - val_loss: 0.6227 - val_accuracy: 0.6744\n",
      "Epoch 35/100\n",
      "1545/1545 [==============================] - 2s 1ms/step - loss: 0.4531 - accuracy: 0.7815 - val_loss: 0.6145 - val_accuracy: 0.6943\n",
      "Epoch 36/100\n",
      "1545/1545 [==============================] - 2s 1ms/step - loss: 0.4496 - accuracy: 0.7838 - val_loss: 0.6330 - val_accuracy: 0.6692\n",
      "Epoch 37/100\n",
      "1545/1545 [==============================] - 2s 1ms/step - loss: 0.4499 - accuracy: 0.7830 - val_loss: 0.6261 - val_accuracy: 0.6722\n",
      "Epoch 38/100\n",
      "1545/1545 [==============================] - 2s 1ms/step - loss: 0.4507 - accuracy: 0.7817 - val_loss: 0.6154 - val_accuracy: 0.6675\n",
      "Epoch 39/100\n",
      "1545/1545 [==============================] - 2s 1ms/step - loss: 0.4510 - accuracy: 0.7804 - val_loss: 0.6300 - val_accuracy: 0.6618\n",
      "Epoch 40/100\n",
      "1545/1545 [==============================] - 2s 1ms/step - loss: 0.4489 - accuracy: 0.7845 - val_loss: 0.6072 - val_accuracy: 0.6878\n",
      "Epoch 41/100\n",
      "1545/1545 [==============================] - 2s 2ms/step - loss: 0.4500 - accuracy: 0.7820 - val_loss: 0.6231 - val_accuracy: 0.6676\n",
      "Epoch 42/100\n",
      "1545/1545 [==============================] - 2s 1ms/step - loss: 0.4475 - accuracy: 0.7836 - val_loss: 0.6407 - val_accuracy: 0.6656\n",
      "Epoch 43/100\n",
      "1545/1545 [==============================] - 2s 1ms/step - loss: 0.4482 - accuracy: 0.7839 - val_loss: 0.6130 - val_accuracy: 0.6852\n",
      "Epoch 44/100\n",
      "1545/1545 [==============================] - 2s 1ms/step - loss: 0.4472 - accuracy: 0.7827 - val_loss: 0.6175 - val_accuracy: 0.6806\n",
      "Epoch 45/100\n",
      "1545/1545 [==============================] - 2s 1ms/step - loss: 0.4511 - accuracy: 0.7804 - val_loss: 0.6244 - val_accuracy: 0.6645\n",
      "Epoch 46/100\n",
      "1545/1545 [==============================] - 2s 1ms/step - loss: 0.4466 - accuracy: 0.7855 - val_loss: 0.6003 - val_accuracy: 0.6831\n",
      "Epoch 47/100\n",
      "1545/1545 [==============================] - 2s 1ms/step - loss: 0.4463 - accuracy: 0.7837 - val_loss: 0.6214 - val_accuracy: 0.6682\n",
      "Epoch 48/100\n",
      "1545/1545 [==============================] - 2s 1ms/step - loss: 0.4488 - accuracy: 0.7809 - val_loss: 0.6328 - val_accuracy: 0.6685\n",
      "Epoch 49/100\n",
      "1545/1545 [==============================] - 2s 1ms/step - loss: 0.4496 - accuracy: 0.7820 - val_loss: 0.6075 - val_accuracy: 0.6705\n",
      "Epoch 50/100\n",
      "1545/1545 [==============================] - 2s 1ms/step - loss: 0.4464 - accuracy: 0.7840 - val_loss: 0.6314 - val_accuracy: 0.6874\n",
      "Epoch 51/100\n",
      "1545/1545 [==============================] - 2s 1ms/step - loss: 0.4455 - accuracy: 0.7833 - val_loss: 0.6175 - val_accuracy: 0.6879\n",
      "Epoch 52/100\n",
      "1545/1545 [==============================] - 2s 1ms/step - loss: 0.4469 - accuracy: 0.7862 - val_loss: 0.6365 - val_accuracy: 0.6683\n",
      "Epoch 53/100\n",
      "1545/1545 [==============================] - 2s 2ms/step - loss: 0.4499 - accuracy: 0.7831 - val_loss: 0.6148 - val_accuracy: 0.6800\n",
      "Epoch 54/100\n",
      "1545/1545 [==============================] - 2s 2ms/step - loss: 0.4445 - accuracy: 0.7853 - val_loss: 0.7084 - val_accuracy: 0.6295\n",
      "Epoch 55/100\n",
      "1545/1545 [==============================] - 2s 2ms/step - loss: 0.4469 - accuracy: 0.7851 - val_loss: 0.6200 - val_accuracy: 0.6688\n",
      "Epoch 56/100\n",
      "1545/1545 [==============================] - 2s 1ms/step - loss: 0.4418 - accuracy: 0.7880 - val_loss: 0.6143 - val_accuracy: 0.6687\n",
      "Epoch 57/100\n"
     ]
    },
    {
     "name": "stdout",
     "output_type": "stream",
     "text": [
      "1545/1545 [==============================] - 2s 1ms/step - loss: 0.4441 - accuracy: 0.7861 - val_loss: 0.6199 - val_accuracy: 0.6718\n",
      "Epoch 58/100\n",
      "1545/1545 [==============================] - 2s 2ms/step - loss: 0.4489 - accuracy: 0.7835 - val_loss: 0.6299 - val_accuracy: 0.6784\n",
      "Epoch 59/100\n",
      "1545/1545 [==============================] - 2s 1ms/step - loss: 0.4500 - accuracy: 0.7820 - val_loss: 0.6154 - val_accuracy: 0.6655\n",
      "Epoch 60/100\n",
      "1545/1545 [==============================] - 2s 1ms/step - loss: 0.4458 - accuracy: 0.7832 - val_loss: 0.6132 - val_accuracy: 0.6888\n",
      "Epoch 61/100\n",
      "1545/1545 [==============================] - 2s 1ms/step - loss: 0.4485 - accuracy: 0.7817 - val_loss: 0.6233 - val_accuracy: 0.6828\n",
      "Epoch 62/100\n",
      "1545/1545 [==============================] - 2s 1ms/step - loss: 0.4469 - accuracy: 0.7858 - val_loss: 0.6202 - val_accuracy: 0.6683\n",
      "Epoch 63/100\n",
      "1545/1545 [==============================] - 2s 1ms/step - loss: 0.4424 - accuracy: 0.7853 - val_loss: 0.6022 - val_accuracy: 0.7027\n",
      "Epoch 64/100\n",
      "1545/1545 [==============================] - 2s 1ms/step - loss: 0.4464 - accuracy: 0.7848 - val_loss: 0.6220 - val_accuracy: 0.6691\n",
      "Epoch 65/100\n",
      "1545/1545 [==============================] - 2s 1ms/step - loss: 0.4417 - accuracy: 0.7864 - val_loss: 0.6164 - val_accuracy: 0.6674\n",
      "Epoch 66/100\n",
      "1545/1545 [==============================] - 2s 1ms/step - loss: 0.4463 - accuracy: 0.7829 - val_loss: 0.6313 - val_accuracy: 0.6684\n",
      "Epoch 67/100\n",
      "1545/1545 [==============================] - 2s 1ms/step - loss: 0.4442 - accuracy: 0.7852 - val_loss: 0.6087 - val_accuracy: 0.6860\n",
      "Epoch 68/100\n",
      "1545/1545 [==============================] - 2s 2ms/step - loss: 0.4420 - accuracy: 0.7865 - val_loss: 0.6218 - val_accuracy: 0.6743\n",
      "Epoch 69/100\n",
      "1545/1545 [==============================] - 2s 2ms/step - loss: 0.4468 - accuracy: 0.7846 - val_loss: 0.6085 - val_accuracy: 0.6943\n",
      "Epoch 70/100\n",
      "1545/1545 [==============================] - 2s 2ms/step - loss: 0.4472 - accuracy: 0.7825 - val_loss: 0.6304 - val_accuracy: 0.6662\n",
      "Epoch 71/100\n",
      "1545/1545 [==============================] - 2s 1ms/step - loss: 0.4444 - accuracy: 0.7854 - val_loss: 0.6158 - val_accuracy: 0.6860\n",
      "Epoch 72/100\n",
      "1545/1545 [==============================] - 2s 1ms/step - loss: 0.4441 - accuracy: 0.7853 - val_loss: 0.6120 - val_accuracy: 0.6883\n",
      "Epoch 73/100\n",
      "1545/1545 [==============================] - 2s 1ms/step - loss: 0.4428 - accuracy: 0.7888 - val_loss: 0.6217 - val_accuracy: 0.6662\n",
      "Epoch 74/100\n",
      "1545/1545 [==============================] - 2s 1ms/step - loss: 0.4437 - accuracy: 0.7841 - val_loss: 0.6214 - val_accuracy: 0.6596\n",
      "Epoch 75/100\n",
      "1545/1545 [==============================] - 2s 1ms/step - loss: 0.4449 - accuracy: 0.7842 - val_loss: 0.6131 - val_accuracy: 0.6783\n",
      "Epoch 76/100\n",
      "1545/1545 [==============================] - 3s 2ms/step - loss: 0.4454 - accuracy: 0.7839 - val_loss: 0.6124 - val_accuracy: 0.6868\n",
      "Epoch 77/100\n",
      "1545/1545 [==============================] - 2s 1ms/step - loss: 0.4472 - accuracy: 0.7801 - val_loss: 0.6104 - val_accuracy: 0.6715\n",
      "Epoch 78/100\n",
      "1545/1545 [==============================] - 2s 1ms/step - loss: 0.4442 - accuracy: 0.7862 - val_loss: 0.6144 - val_accuracy: 0.6797\n",
      "Epoch 79/100\n",
      "1545/1545 [==============================] - 2s 1ms/step - loss: 0.4392 - accuracy: 0.7896 - val_loss: 0.6157 - val_accuracy: 0.6791\n",
      "Epoch 80/100\n",
      "1545/1545 [==============================] - 2s 1ms/step - loss: 0.4439 - accuracy: 0.7852 - val_loss: 0.6156 - val_accuracy: 0.6769\n",
      "Epoch 81/100\n",
      "1545/1545 [==============================] - 2s 1ms/step - loss: 0.4426 - accuracy: 0.7869 - val_loss: 0.6241 - val_accuracy: 0.6685\n",
      "Epoch 82/100\n",
      "1545/1545 [==============================] - 2s 2ms/step - loss: 0.4460 - accuracy: 0.7842 - val_loss: 0.6283 - val_accuracy: 0.6681\n",
      "Epoch 83/100\n",
      "1545/1545 [==============================] - 2s 1ms/step - loss: 0.4456 - accuracy: 0.7831 - val_loss: 0.6229 - val_accuracy: 0.6753\n",
      "Epoch 84/100\n",
      "1545/1545 [==============================] - 2s 1ms/step - loss: 0.4427 - accuracy: 0.7842 - val_loss: 0.6147 - val_accuracy: 0.6826\n",
      "Epoch 85/100\n",
      "1545/1545 [==============================] - 2s 1ms/step - loss: 0.4446 - accuracy: 0.7842 - val_loss: 0.6232 - val_accuracy: 0.6815\n",
      "Epoch 86/100\n",
      "1545/1545 [==============================] - 2s 1ms/step - loss: 0.4405 - accuracy: 0.7865 - val_loss: 0.6414 - val_accuracy: 0.6767\n",
      "Epoch 87/100\n",
      "1545/1545 [==============================] - 2s 1ms/step - loss: 0.4433 - accuracy: 0.7859 - val_loss: 0.6071 - val_accuracy: 0.6971\n",
      "Epoch 88/100\n",
      "1545/1545 [==============================] - 2s 1ms/step - loss: 0.4403 - accuracy: 0.7876 - val_loss: 0.6239 - val_accuracy: 0.6815\n",
      "Epoch 89/100\n",
      "1545/1545 [==============================] - 2s 1ms/step - loss: 0.4405 - accuracy: 0.7861 - val_loss: 0.6117 - val_accuracy: 0.6820\n",
      "Epoch 90/100\n",
      "1545/1545 [==============================] - 2s 1ms/step - loss: 0.4441 - accuracy: 0.7869 - val_loss: 0.6099 - val_accuracy: 0.6853\n",
      "Epoch 91/100\n",
      "1545/1545 [==============================] - 2s 1ms/step - loss: 0.4413 - accuracy: 0.7875 - val_loss: 0.6168 - val_accuracy: 0.6805\n",
      "Epoch 92/100\n",
      "1545/1545 [==============================] - 2s 1ms/step - loss: 0.4437 - accuracy: 0.7850 - val_loss: 0.6391 - val_accuracy: 0.6681\n",
      "Epoch 93/100\n",
      "1545/1545 [==============================] - 2s 1ms/step - loss: 0.4444 - accuracy: 0.7838 - val_loss: 0.6143 - val_accuracy: 0.6718\n",
      "Epoch 94/100\n",
      "1545/1545 [==============================] - 2s 1ms/step - loss: 0.4415 - accuracy: 0.7869 - val_loss: 0.6239 - val_accuracy: 0.6786\n",
      "Epoch 95/100\n",
      "1545/1545 [==============================] - 2s 1ms/step - loss: 0.4413 - accuracy: 0.7873 - val_loss: 0.6330 - val_accuracy: 0.6687\n",
      "Epoch 96/100\n",
      "1545/1545 [==============================] - 2s 1ms/step - loss: 0.4396 - accuracy: 0.7886 - val_loss: 0.6240 - val_accuracy: 0.6787\n",
      "Epoch 97/100\n",
      "1545/1545 [==============================] - 2s 1ms/step - loss: 0.4435 - accuracy: 0.7852 - val_loss: 0.6090 - val_accuracy: 0.6872\n",
      "Epoch 98/100\n",
      "1545/1545 [==============================] - 2s 1ms/step - loss: 0.4468 - accuracy: 0.7836 - val_loss: 0.6097 - val_accuracy: 0.6741\n",
      "Epoch 99/100\n",
      "1545/1545 [==============================] - 2s 1ms/step - loss: 0.4410 - accuracy: 0.7857 - val_loss: 0.6320 - val_accuracy: 0.6696\n",
      "Epoch 100/100\n",
      "1545/1545 [==============================] - 2s 1ms/step - loss: 0.4410 - accuracy: 0.7879 - val_loss: 0.6282 - val_accuracy: 0.6754\n"
     ]
    }
   ],
   "source": [
    "a1 = time.perf_counter() \n",
    "history = model.fit(X, Y, batch_size = 32, epochs = 100,\\\n",
    "                    validation_data = (X_val, Y_val),verbose=1)\n",
    "a2 = time.perf_counter() \n"
   ]
  },
  {
   "cell_type": "code",
   "execution_count": 159,
   "metadata": {},
   "outputs": [
    {
     "data": {
      "text/plain": [
       "<matplotlib.legend.Legend at 0x22de536c438>"
      ]
     },
     "execution_count": 159,
     "metadata": {},
     "output_type": "execute_result"
    }
   ],
   "source": [
    "plt.plot(history.history['accuracy'], label='accuracy')\n",
    "plt.plot(history.history['val_accuracy'], label = 'val_accuracy')\n",
    "plt.xlabel('Epoch')\n",
    "plt.ylabel('Accuracy')\n",
    "plt.ylim([0.5, 1])\n",
    "plt.legend(loc='lower right')\n"
   ]
  },
  {
   "cell_type": "code",
   "execution_count": 144,
   "metadata": {},
   "outputs": [],
   "source": [
    "def differences(a, b):\n",
    "    if len(a) != len(b):\n",
    "        raise ValueError(\"Lists of different length.\")\n",
    "    return sum(i != j for i, j in zip(a, b))"
   ]
  },
  {
   "cell_type": "code",
   "execution_count": 147,
   "metadata": {},
   "outputs": [
    {
     "name": "stdout",
     "output_type": "stream",
     "text": [
      "[19.94618435]\n"
     ]
    }
   ],
   "source": [
    "%matplotlib qt \n",
    "\n",
    "y_pred_prob = model.predict(X)\n",
    "y_pred = np.argmax(y_pred_prob, axis = 1)\n",
    "plt.figure(figsize=(20,6))\n",
    "plt.plot(Y_raw,'k')\n",
    "plt.plot(y_pred,'r--')\n",
    "plt.title('Prediction of Training Set (Sanity Check)')\n",
    "plt.legend(labels=['Ground Truth','Prediction'])\n",
    "plt.show()\n",
    "\n",
    "diff = differences(y_pred, Y_raw)\n",
    "print(diff/len(Y_raw) * 100)"
   ]
  }
 ],
 "metadata": {
  "kernelspec": {
   "display_name": "Python 3",
   "language": "python",
   "name": "python3"
  },
  "language_info": {
   "codemirror_mode": {
    "name": "ipython",
    "version": 3
   },
   "file_extension": ".py",
   "mimetype": "text/x-python",
   "name": "python",
   "nbconvert_exporter": "python",
   "pygments_lexer": "ipython3",
   "version": "3.6.12"
  }
 },
 "nbformat": 4,
 "nbformat_minor": 4
}
